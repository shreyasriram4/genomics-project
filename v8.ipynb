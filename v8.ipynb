{
 "cells": [
  {
   "cell_type": "code",
   "execution_count": 26,
   "metadata": {},
   "outputs": [],
   "source": [
    "import pandas as pd\n",
    "import numpy as np\n",
    "from sklearn.preprocessing import OneHotEncoder\n",
    "from sklearn.model_selection import train_test_split\n",
    "from sklearn.preprocessing import MinMaxScaler\n",
    "from collections import defaultdict\n",
    "from imblearn.over_sampling import SMOTE\n",
    "from xgboost import XGBClassifier\n",
    "from sklearn.linear_model import LogisticRegression\n",
    "from sklearn.ensemble import RandomForestClassifier\n",
    "from sklearn.tree import DecisionTreeClassifier\n",
    "from lightgbm import LGBMClassifier\n",
    "from sklearn.metrics import roc_auc_score, f1_score, accuracy_score, precision_score, recall_score, confusion_matrix, mean_squared_error, auc, roc_curve, classification_report, ConfusionMatrixDisplay\n",
    "import matplotlib.pyplot as plt\n",
    "from sklearn.metrics import average_precision_score, precision_recall_curve\n",
    "from sklearn.metrics import plot_precision_recall_curve\n",
    "from sklearn.model_selection import cross_validate, RandomizedSearchCV\n",
    "from sklearn.feature_selection import RFE\n",
    "from scipy.stats import pearsonr, chi2_contingency, entropy\n",
    "from scipy import special \n",
    "import seaborn as sns\n",
    "from imblearn.under_sampling import NearMiss\n",
    "from imblearn.over_sampling import RandomOverSampler\n",
    "from featurewiz import featurewiz\n",
    "from sklearn.feature_selection import VarianceThreshold\n",
    "import pickle"
   ]
  },
  {
   "cell_type": "code",
   "execution_count": 2,
   "metadata": {},
   "outputs": [],
   "source": [
    "pd.set_option('display.max_columns', None)"
   ]
  },
  {
   "cell_type": "code",
   "execution_count": 3,
   "metadata": {},
   "outputs": [],
   "source": [
    "df = pd.read_json('./test_data/data.json', lines=True)\n",
    "labels = pd.read_csv('./data/labels.info', sep=',')"
   ]
  },
  {
   "cell_type": "code",
   "execution_count": 4,
   "metadata": {},
   "outputs": [],
   "source": [
    "def get_dataframe(df):\n",
    "    transcripts = df.columns\n",
    "    dataframes = []\n",
    "    for transcript in transcripts:\n",
    "        df_curr_transcript = df.loc[:, transcript]\n",
    "        df_curr_transcript.dropna(inplace=True)\n",
    "        df_curr_transcript = list(df_curr_transcript)\n",
    "        \n",
    "        for position in df_curr_transcript:\n",
    "            #position here is a dictionary\n",
    "            for k1, v1, in position.items():\n",
    "                order = list(v1.keys())[0]\n",
    "                for k2, v2 in v1.items():\n",
    "\n",
    "                    \n",
    "                    n = len(v2)\n",
    "\n",
    "                    left_dwelling_t = np.zeros(n)\n",
    "                    left_sd = np.zeros(n)\n",
    "                    left_mean = np.zeros(n)\n",
    "\n",
    "                    centre_dwelling_t = np.zeros(n)\n",
    "                    centre_sd = np.zeros(n)\n",
    "                    centre_mean = np.zeros(n)\n",
    "\n",
    "                    right_dwelling_t = np.zeros(n)\n",
    "                    right_sd = np.zeros(n)\n",
    "                    right_mean = np.zeros(n)\n",
    "\n",
    "                    for i in range(n):\n",
    "                        left_dwelling_t[i] = v2[i][0]\n",
    "                        left_sd[i] = v2[i][1]\n",
    "                        left_mean[i] = v2[i][2]\n",
    "\n",
    "                        centre_dwelling_t[i] = v2[i][3]\n",
    "                        centre_sd[i] = v2[i][4]\n",
    "                        centre_mean[i] = v2[i][5]\n",
    "                        \n",
    "                        right_dwelling_t[i] = v2[i][6]\n",
    "                        right_sd[i] = v2[i][7]\n",
    "                        right_mean[i] = v2[i][8]\n",
    "\n",
    "                    left_dwelling_t_mean = np.mean(left_dwelling_t)\n",
    "                    left_dwelling_t_var = np.var(left_dwelling_t)\n",
    "                    left_sd_mean = np.mean(left_sd)\n",
    "                    left_sd_var = np.var(left_sd)\n",
    "                    left_mean_mean = np.mean(left_mean)\n",
    "                    left_mean_var = np.var(left_mean)\n",
    "\n",
    "                    centre_dwelling_t_mean = np.mean(centre_dwelling_t)\n",
    "                    centre_dwelling_t_var = np.var(centre_dwelling_t)\n",
    "                    centre_sd_mean = np.mean(centre_sd)\n",
    "                    centre_sd_var = np.var(centre_sd)\n",
    "                    centre_mean_mean = np.mean(centre_mean)\n",
    "                    centre_mean_var = np.var(centre_mean)\n",
    "                    \n",
    "                    right_dwelling_t_mean = np.mean(right_dwelling_t)\n",
    "                    right_dwelling_t_var = np.var(right_dwelling_t)\n",
    "                    right_sd_mean = np.mean(right_sd)\n",
    "                    right_sd_var = np.var(right_sd)\n",
    "                    right_mean_mean = np.mean(right_mean)\n",
    "                    right_mean_var = np.var(right_mean)\n",
    "\n",
    "                    \n",
    "                    \n",
    "                final_order = order[:3] + order[5:]\n",
    "                curr_dataframe = pd.DataFrame({'transcript_id':[transcript], 'order': [final_order], 'curr_pos': [k1], \n",
    "                                               'mean_ldt': [left_dwelling_t_mean], 'var_ldt':[left_dwelling_t_var], 'mean_lsd': [left_sd_mean], 'var_lsd': [left_sd_var], 'mean_lm':[left_mean_mean], 'var_lm': [left_mean_var], \n",
    "                                               'mean_cdt': [centre_dwelling_t_mean], 'var_cdt':[centre_dwelling_t_var] , 'mean_csd':[centre_sd_mean], 'var_csd': [centre_sd_var], 'mean_cm': [centre_mean_mean], 'var_cm': [centre_mean_var],  \n",
    "                                               'mean_rdt': [right_dwelling_t_mean], 'var_rdt':[right_dwelling_t_var], 'mean_rsd': [right_sd_mean], 'var_rsd':[right_sd_var], 'mean_rm': [right_mean_mean], 'var_rm':[right_mean_var], \n",
    "                                               'num_reads': n})   \n",
    "                dataframes.append(curr_dataframe)\n",
    "    final_df = pd.concat(dataframes)\n",
    "    final_df['curr_pos'] = final_df['curr_pos'].astype('int64')\n",
    "    final_df['A_count'] = final_df['order'].apply(lambda x: x.count('A'))\n",
    "    final_df['C_count'] = final_df['order'].apply(lambda x: x.count('C'))\n",
    "    final_df['G_count'] = final_df['order'].apply(lambda x: x.count('G'))\n",
    "    final_df['T_count'] = final_df['order'].apply(lambda x: x.count('T'))\n",
    "\n",
    "    return final_df "
   ]
  },
  {
   "cell_type": "code",
   "execution_count": 5,
   "metadata": {},
   "outputs": [],
   "source": [
    "df1 = get_dataframe(df)"
   ]
  },
  {
   "cell_type": "code",
   "execution_count": 6,
   "metadata": {},
   "outputs": [
    {
     "data": {
      "text/html": [
       "<div>\n",
       "<style scoped>\n",
       "    .dataframe tbody tr th:only-of-type {\n",
       "        vertical-align: middle;\n",
       "    }\n",
       "\n",
       "    .dataframe tbody tr th {\n",
       "        vertical-align: top;\n",
       "    }\n",
       "\n",
       "    .dataframe thead th {\n",
       "        text-align: right;\n",
       "    }\n",
       "</style>\n",
       "<table border=\"1\" class=\"dataframe\">\n",
       "  <thead>\n",
       "    <tr style=\"text-align: right;\">\n",
       "      <th></th>\n",
       "      <th>transcript_id</th>\n",
       "      <th>order</th>\n",
       "      <th>curr_pos</th>\n",
       "      <th>mean_ldt</th>\n",
       "      <th>var_ldt</th>\n",
       "      <th>mean_lsd</th>\n",
       "      <th>var_lsd</th>\n",
       "      <th>mean_lm</th>\n",
       "      <th>var_lm</th>\n",
       "      <th>mean_cdt</th>\n",
       "      <th>var_cdt</th>\n",
       "      <th>mean_csd</th>\n",
       "      <th>var_csd</th>\n",
       "      <th>mean_cm</th>\n",
       "      <th>var_cm</th>\n",
       "      <th>mean_rdt</th>\n",
       "      <th>var_rdt</th>\n",
       "      <th>mean_rsd</th>\n",
       "      <th>var_rsd</th>\n",
       "      <th>mean_rm</th>\n",
       "      <th>var_rm</th>\n",
       "      <th>num_reads</th>\n",
       "      <th>A_count</th>\n",
       "      <th>C_count</th>\n",
       "      <th>G_count</th>\n",
       "      <th>T_count</th>\n",
       "    </tr>\n",
       "  </thead>\n",
       "  <tbody>\n",
       "    <tr>\n",
       "      <th>0</th>\n",
       "      <td>ENST00000000233</td>\n",
       "      <td>AAGCA</td>\n",
       "      <td>244</td>\n",
       "      <td>0.008264</td>\n",
       "      <td>0.000029</td>\n",
       "      <td>4.223784</td>\n",
       "      <td>3.396742</td>\n",
       "      <td>123.702703</td>\n",
       "      <td>24.446749</td>\n",
       "      <td>0.009373</td>\n",
       "      <td>0.000029</td>\n",
       "      <td>7.382162</td>\n",
       "      <td>10.907635</td>\n",
       "      <td>125.913514</td>\n",
       "      <td>7.646574</td>\n",
       "      <td>0.007345</td>\n",
       "      <td>0.000021</td>\n",
       "      <td>4.386989</td>\n",
       "      <td>8.446146</td>\n",
       "      <td>80.570270</td>\n",
       "      <td>6.361332</td>\n",
       "      <td>185</td>\n",
       "      <td>3</td>\n",
       "      <td>1</td>\n",
       "      <td>1</td>\n",
       "      <td>0</td>\n",
       "    </tr>\n",
       "    <tr>\n",
       "      <th>0</th>\n",
       "      <td>ENST00000000233</td>\n",
       "      <td>CAATG</td>\n",
       "      <td>261</td>\n",
       "      <td>0.006609</td>\n",
       "      <td>0.000013</td>\n",
       "      <td>3.216424</td>\n",
       "      <td>2.853284</td>\n",
       "      <td>109.681395</td>\n",
       "      <td>8.887445</td>\n",
       "      <td>0.006813</td>\n",
       "      <td>0.000014</td>\n",
       "      <td>3.226535</td>\n",
       "      <td>1.530279</td>\n",
       "      <td>107.889535</td>\n",
       "      <td>12.436402</td>\n",
       "      <td>0.007710</td>\n",
       "      <td>0.000021</td>\n",
       "      <td>3.016599</td>\n",
       "      <td>2.150021</td>\n",
       "      <td>94.290698</td>\n",
       "      <td>6.212704</td>\n",
       "      <td>172</td>\n",
       "      <td>2</td>\n",
       "      <td>1</td>\n",
       "      <td>1</td>\n",
       "      <td>1</td>\n",
       "    </tr>\n",
       "    <tr>\n",
       "      <th>0</th>\n",
       "      <td>ENST00000000233</td>\n",
       "      <td>GAAAG</td>\n",
       "      <td>316</td>\n",
       "      <td>0.007570</td>\n",
       "      <td>0.000020</td>\n",
       "      <td>2.940541</td>\n",
       "      <td>1.718991</td>\n",
       "      <td>105.475676</td>\n",
       "      <td>2.227787</td>\n",
       "      <td>0.007416</td>\n",
       "      <td>0.000025</td>\n",
       "      <td>3.642703</td>\n",
       "      <td>0.798308</td>\n",
       "      <td>98.947027</td>\n",
       "      <td>10.264437</td>\n",
       "      <td>0.007555</td>\n",
       "      <td>0.000020</td>\n",
       "      <td>2.087146</td>\n",
       "      <td>0.640794</td>\n",
       "      <td>89.364324</td>\n",
       "      <td>2.203268</td>\n",
       "      <td>185</td>\n",
       "      <td>3</td>\n",
       "      <td>0</td>\n",
       "      <td>2</td>\n",
       "      <td>0</td>\n",
       "    </tr>\n",
       "    <tr>\n",
       "      <th>0</th>\n",
       "      <td>ENST00000000233</td>\n",
       "      <td>AGAAT</td>\n",
       "      <td>332</td>\n",
       "      <td>0.010620</td>\n",
       "      <td>0.000037</td>\n",
       "      <td>6.476350</td>\n",
       "      <td>6.048240</td>\n",
       "      <td>129.355000</td>\n",
       "      <td>10.258975</td>\n",
       "      <td>0.008632</td>\n",
       "      <td>0.000021</td>\n",
       "      <td>2.899200</td>\n",
       "      <td>1.942868</td>\n",
       "      <td>97.836500</td>\n",
       "      <td>3.717218</td>\n",
       "      <td>0.006102</td>\n",
       "      <td>0.000013</td>\n",
       "      <td>2.236520</td>\n",
       "      <td>0.550225</td>\n",
       "      <td>89.154000</td>\n",
       "      <td>12.214584</td>\n",
       "      <td>200</td>\n",
       "      <td>3</td>\n",
       "      <td>0</td>\n",
       "      <td>1</td>\n",
       "      <td>1</td>\n",
       "    </tr>\n",
       "    <tr>\n",
       "      <th>0</th>\n",
       "      <td>ENST00000000233</td>\n",
       "      <td>AGGAA</td>\n",
       "      <td>368</td>\n",
       "      <td>0.010701</td>\n",
       "      <td>0.000051</td>\n",
       "      <td>6.415051</td>\n",
       "      <td>7.525298</td>\n",
       "      <td>117.924242</td>\n",
       "      <td>7.100321</td>\n",
       "      <td>0.011479</td>\n",
       "      <td>0.000029</td>\n",
       "      <td>5.870303</td>\n",
       "      <td>3.076145</td>\n",
       "      <td>121.954545</td>\n",
       "      <td>4.740358</td>\n",
       "      <td>0.010019</td>\n",
       "      <td>0.000035</td>\n",
       "      <td>4.260253</td>\n",
       "      <td>1.800486</td>\n",
       "      <td>85.178788</td>\n",
       "      <td>5.659853</td>\n",
       "      <td>198</td>\n",
       "      <td>3</td>\n",
       "      <td>0</td>\n",
       "      <td>2</td>\n",
       "      <td>0</td>\n",
       "    </tr>\n",
       "    <tr>\n",
       "      <th>0</th>\n",
       "      <td>ENST00000000233</td>\n",
       "      <td>AGAAC</td>\n",
       "      <td>404</td>\n",
       "      <td>0.009011</td>\n",
       "      <td>0.000018</td>\n",
       "      <td>6.385260</td>\n",
       "      <td>3.973890</td>\n",
       "      <td>128.046875</td>\n",
       "      <td>8.336344</td>\n",
       "      <td>0.008555</td>\n",
       "      <td>0.000022</td>\n",
       "      <td>2.938281</td>\n",
       "      <td>1.863238</td>\n",
       "      <td>96.858333</td>\n",
       "      <td>2.700868</td>\n",
       "      <td>0.005798</td>\n",
       "      <td>0.000013</td>\n",
       "      <td>2.056797</td>\n",
       "      <td>0.318190</td>\n",
       "      <td>91.591146</td>\n",
       "      <td>17.607474</td>\n",
       "      <td>192</td>\n",
       "      <td>3</td>\n",
       "      <td>1</td>\n",
       "      <td>1</td>\n",
       "      <td>0</td>\n",
       "    </tr>\n",
       "    <tr>\n",
       "      <th>0</th>\n",
       "      <td>ENST00000000233</td>\n",
       "      <td>TGGAG</td>\n",
       "      <td>431</td>\n",
       "      <td>0.008683</td>\n",
       "      <td>0.000036</td>\n",
       "      <td>3.348642</td>\n",
       "      <td>1.127618</td>\n",
       "      <td>116.864198</td>\n",
       "      <td>3.882792</td>\n",
       "      <td>0.007249</td>\n",
       "      <td>0.000030</td>\n",
       "      <td>5.648333</td>\n",
       "      <td>6.265851</td>\n",
       "      <td>121.345679</td>\n",
       "      <td>12.695321</td>\n",
       "      <td>0.007839</td>\n",
       "      <td>0.000024</td>\n",
       "      <td>2.731636</td>\n",
       "      <td>1.290797</td>\n",
       "      <td>85.971605</td>\n",
       "      <td>3.598083</td>\n",
       "      <td>162</td>\n",
       "      <td>1</td>\n",
       "      <td>0</td>\n",
       "      <td>3</td>\n",
       "      <td>1</td>\n",
       "    </tr>\n",
       "    <tr>\n",
       "      <th>0</th>\n",
       "      <td>ENST00000000233</td>\n",
       "      <td>ATGCG</td>\n",
       "      <td>440</td>\n",
       "      <td>0.006788</td>\n",
       "      <td>0.000018</td>\n",
       "      <td>4.521182</td>\n",
       "      <td>1.838364</td>\n",
       "      <td>96.130542</td>\n",
       "      <td>14.376112</td>\n",
       "      <td>0.008527</td>\n",
       "      <td>0.000026</td>\n",
       "      <td>9.343350</td>\n",
       "      <td>7.579856</td>\n",
       "      <td>119.669951</td>\n",
       "      <td>11.383678</td>\n",
       "      <td>0.007414</td>\n",
       "      <td>0.000022</td>\n",
       "      <td>3.505099</td>\n",
       "      <td>2.599269</td>\n",
       "      <td>81.061084</td>\n",
       "      <td>3.443855</td>\n",
       "      <td>203</td>\n",
       "      <td>1</td>\n",
       "      <td>1</td>\n",
       "      <td>2</td>\n",
       "      <td>1</td>\n",
       "    </tr>\n",
       "    <tr>\n",
       "      <th>0</th>\n",
       "      <td>ENST00000000233</td>\n",
       "      <td>TGATC</td>\n",
       "      <td>471</td>\n",
       "      <td>0.006060</td>\n",
       "      <td>0.000014</td>\n",
       "      <td>8.128495</td>\n",
       "      <td>4.569732</td>\n",
       "      <td>120.597087</td>\n",
       "      <td>17.648341</td>\n",
       "      <td>0.006997</td>\n",
       "      <td>0.000011</td>\n",
       "      <td>3.058350</td>\n",
       "      <td>1.067425</td>\n",
       "      <td>101.607282</td>\n",
       "      <td>4.947957</td>\n",
       "      <td>0.006358</td>\n",
       "      <td>0.000019</td>\n",
       "      <td>1.938034</td>\n",
       "      <td>0.445716</td>\n",
       "      <td>92.542233</td>\n",
       "      <td>3.920207</td>\n",
       "      <td>206</td>\n",
       "      <td>1</td>\n",
       "      <td>1</td>\n",
       "      <td>1</td>\n",
       "      <td>2</td>\n",
       "    </tr>\n",
       "    <tr>\n",
       "      <th>0</th>\n",
       "      <td>ENST00000000233</td>\n",
       "      <td>AGGAT</td>\n",
       "      <td>539</td>\n",
       "      <td>0.011070</td>\n",
       "      <td>0.000051</td>\n",
       "      <td>5.953696</td>\n",
       "      <td>2.660317</td>\n",
       "      <td>116.989130</td>\n",
       "      <td>7.445534</td>\n",
       "      <td>0.008996</td>\n",
       "      <td>0.000027</td>\n",
       "      <td>7.052391</td>\n",
       "      <td>8.220527</td>\n",
       "      <td>119.538043</td>\n",
       "      <td>12.759422</td>\n",
       "      <td>0.006398</td>\n",
       "      <td>0.000016</td>\n",
       "      <td>3.482826</td>\n",
       "      <td>2.751982</td>\n",
       "      <td>81.005978</td>\n",
       "      <td>12.532084</td>\n",
       "      <td>184</td>\n",
       "      <td>2</td>\n",
       "      <td>0</td>\n",
       "      <td>2</td>\n",
       "      <td>1</td>\n",
       "    </tr>\n",
       "  </tbody>\n",
       "</table>\n",
       "</div>"
      ],
      "text/plain": [
       "     transcript_id  order  curr_pos  mean_ldt   var_ldt  mean_lsd   var_lsd  \\\n",
       "0  ENST00000000233  AAGCA       244  0.008264  0.000029  4.223784  3.396742   \n",
       "0  ENST00000000233  CAATG       261  0.006609  0.000013  3.216424  2.853284   \n",
       "0  ENST00000000233  GAAAG       316  0.007570  0.000020  2.940541  1.718991   \n",
       "0  ENST00000000233  AGAAT       332  0.010620  0.000037  6.476350  6.048240   \n",
       "0  ENST00000000233  AGGAA       368  0.010701  0.000051  6.415051  7.525298   \n",
       "0  ENST00000000233  AGAAC       404  0.009011  0.000018  6.385260  3.973890   \n",
       "0  ENST00000000233  TGGAG       431  0.008683  0.000036  3.348642  1.127618   \n",
       "0  ENST00000000233  ATGCG       440  0.006788  0.000018  4.521182  1.838364   \n",
       "0  ENST00000000233  TGATC       471  0.006060  0.000014  8.128495  4.569732   \n",
       "0  ENST00000000233  AGGAT       539  0.011070  0.000051  5.953696  2.660317   \n",
       "\n",
       "      mean_lm     var_lm  mean_cdt   var_cdt  mean_csd    var_csd     mean_cm  \\\n",
       "0  123.702703  24.446749  0.009373  0.000029  7.382162  10.907635  125.913514   \n",
       "0  109.681395   8.887445  0.006813  0.000014  3.226535   1.530279  107.889535   \n",
       "0  105.475676   2.227787  0.007416  0.000025  3.642703   0.798308   98.947027   \n",
       "0  129.355000  10.258975  0.008632  0.000021  2.899200   1.942868   97.836500   \n",
       "0  117.924242   7.100321  0.011479  0.000029  5.870303   3.076145  121.954545   \n",
       "0  128.046875   8.336344  0.008555  0.000022  2.938281   1.863238   96.858333   \n",
       "0  116.864198   3.882792  0.007249  0.000030  5.648333   6.265851  121.345679   \n",
       "0   96.130542  14.376112  0.008527  0.000026  9.343350   7.579856  119.669951   \n",
       "0  120.597087  17.648341  0.006997  0.000011  3.058350   1.067425  101.607282   \n",
       "0  116.989130   7.445534  0.008996  0.000027  7.052391   8.220527  119.538043   \n",
       "\n",
       "      var_cm  mean_rdt   var_rdt  mean_rsd   var_rsd    mean_rm     var_rm  \\\n",
       "0   7.646574  0.007345  0.000021  4.386989  8.446146  80.570270   6.361332   \n",
       "0  12.436402  0.007710  0.000021  3.016599  2.150021  94.290698   6.212704   \n",
       "0  10.264437  0.007555  0.000020  2.087146  0.640794  89.364324   2.203268   \n",
       "0   3.717218  0.006102  0.000013  2.236520  0.550225  89.154000  12.214584   \n",
       "0   4.740358  0.010019  0.000035  4.260253  1.800486  85.178788   5.659853   \n",
       "0   2.700868  0.005798  0.000013  2.056797  0.318190  91.591146  17.607474   \n",
       "0  12.695321  0.007839  0.000024  2.731636  1.290797  85.971605   3.598083   \n",
       "0  11.383678  0.007414  0.000022  3.505099  2.599269  81.061084   3.443855   \n",
       "0   4.947957  0.006358  0.000019  1.938034  0.445716  92.542233   3.920207   \n",
       "0  12.759422  0.006398  0.000016  3.482826  2.751982  81.005978  12.532084   \n",
       "\n",
       "   num_reads  A_count  C_count  G_count  T_count  \n",
       "0        185        3        1        1        0  \n",
       "0        172        2        1        1        1  \n",
       "0        185        3        0        2        0  \n",
       "0        200        3        0        1        1  \n",
       "0        198        3        0        2        0  \n",
       "0        192        3        1        1        0  \n",
       "0        162        1        0        3        1  \n",
       "0        203        1        1        2        1  \n",
       "0        206        1        1        1        2  \n",
       "0        184        2        0        2        1  "
      ]
     },
     "execution_count": 6,
     "metadata": {},
     "output_type": "execute_result"
    }
   ],
   "source": [
    "df1.head(10)"
   ]
  },
  {
   "cell_type": "code",
   "execution_count": 7,
   "id": "EIE5bH33d42N",
   "metadata": {
    "id": "EIE5bH33d42N"
   },
   "outputs": [],
   "source": [
    "df1[\"relative_pos\"] = df1.groupby(\"transcript_id\")[\"curr_pos\"].rank()\n",
    "df1[\"relative_pos\"] = df1[\"relative_pos\"].astype(int)"
   ]
  },
  {
   "cell_type": "code",
   "execution_count": 9,
   "metadata": {},
   "outputs": [],
   "source": [
    "df1 = pd.merge(df1, labels, how='left',left_on=['transcript_id', 'curr_pos'], right_on=['transcript_id', 'transcript_position'])\n",
    "df1 = df1.drop(['transcript_position'], axis='columns')\n",
    "df2 = df1.copy()\n",
    "df2['order_1'] = df2['order'].apply(lambda x: x[0])\n",
    "df2['order_2'] = df2['order'].apply(lambda x: x[1])\n",
    "df2['order_3'] = df2['order'].apply(lambda x: x[2])\n",
    "df2['order_4'] = df2['order'].apply(lambda x: x[3])\n",
    "df2['order_5'] = df2['order'].apply(lambda x: x[4])\n",
    "\n",
    "\n",
    "\n",
    "#categorical data\n",
    "categorical_cols = ['order_1', 'order_2', 'order_3',\n",
    "       'order_4', 'order_5']\n",
    "\n",
    "#import pandas as pd\n",
    "df3 = pd.get_dummies(df2, columns = categorical_cols)"
   ]
  },
  {
   "cell_type": "markdown",
   "metadata": {},
   "source": [
    "Train Test Split"
   ]
  },
  {
   "cell_type": "code",
   "execution_count": 10,
   "metadata": {},
   "outputs": [
    {
     "name": "stdout",
     "output_type": "stream",
     "text": [
      "Imbalance in train labels: 20.6593603220756\n",
      "Imbalance in test labels: 23.899402390438247\n"
     ]
    }
   ],
   "source": [
    "genes = list(labels['gene_id'].unique())\n",
    "train_genes, test_genes = train_test_split(genes, train_size = 0.8, random_state=42)\n",
    "train_labels = labels[labels['gene_id'].isin(train_genes)]\n",
    "test_labels = labels[labels['gene_id'].isin(test_genes)]\n",
    "print(f'Imbalance in train labels: {train_labels.label.value_counts()[0]/train_labels.label.value_counts()[1]}')\n",
    "print(f'Imbalance in test labels: {test_labels.label.value_counts()[0]/test_labels.label.value_counts()[1]}')"
   ]
  },
  {
   "cell_type": "code",
   "execution_count": 11,
   "metadata": {},
   "outputs": [],
   "source": [
    "X_train = pd.merge(train_labels, df3, how='inner',left_on=['gene_id', 'transcript_id', 'transcript_position', 'label'], right_on=['gene_id', 'transcript_id', 'curr_pos', 'label'])\n",
    "X_test = pd.merge(test_labels, df3, how='inner',left_on=['gene_id','transcript_id', 'transcript_position', 'label'], right_on=['gene_id', 'transcript_id', 'curr_pos', 'label'])"
   ]
  },
  {
   "cell_type": "code",
   "execution_count": 12,
   "metadata": {},
   "outputs": [],
   "source": [
    "y_train = np.asarray(X_train['label'])\n",
    "y_test = np.asarray(X_test['label'])"
   ]
  },
  {
   "cell_type": "markdown",
   "metadata": {},
   "source": [
    "Drop unnecessary columns"
   ]
  },
  {
   "cell_type": "code",
   "execution_count": 13,
   "metadata": {},
   "outputs": [],
   "source": [
    "# Drop unnecessary columns in X_test\n",
    "X_test = X_test.drop(['gene_id', 'transcript_id', 'transcript_position','label', 'order', 'curr_pos'], axis=1)"
   ]
  },
  {
   "cell_type": "code",
   "execution_count": 14,
   "metadata": {},
   "outputs": [],
   "source": [
    "# Drop unnecessary columns in X_train\n",
    "X_train = X_train.drop(['transcript_id', 'transcript_position', 'order', 'curr_pos'], axis=1) # We shall drop gene_id and label after doing manual cross validation"
   ]
  },
  {
   "cell_type": "markdown",
   "metadata": {},
   "source": [
    "Now let us check the base score using an untuned XGBoost on X_train and y_train where we only use columns that were provided to us."
   ]
  },
  {
   "cell_type": "code",
   "execution_count": 51,
   "metadata": {},
   "outputs": [
    {
     "name": "stdout",
     "output_type": "stream",
     "text": [
      "Base xgb ROCAUC: 0.8836846819847096\n",
      "Base xgb PRAUC: 0.402271144888392\n",
      "Base lr ROCAUC: 0.8594179647320284\n",
      "Base lr PRAUC: 0.3609001383474221\n"
     ]
    }
   ],
   "source": [
    "columns_provided = ['mean_ldt', 'mean_lsd', 'mean_lm', \n",
    "                    'mean_cdt', 'mean_csd', 'mean_cm', \n",
    "                    'mean_rdt', 'mean_rsd', 'mean_rm', 'order_1_A', 'order_1_C', 'order_1_G',\n",
    "       'order_1_T', 'order_2_A', 'order_2_G', 'order_2_T', 'order_3_A',\n",
    "       'order_3_G', 'order_4_A', 'order_4_C', 'order_4_T', 'order_5_A',\n",
    "       'order_5_C', 'order_5_G', 'order_5_T']\n",
    "base_train = X_train[columns_provided]\n",
    "base_test = X_test[columns_provided]\n",
    "scaler = MinMaxScaler()\n",
    "scaled_base_train = scaler.fit_transform(base_train)\n",
    "scaled_base_test = scaler.transform(base_test)\n",
    "base_model = XGBClassifier()\n",
    "base_model2 = LogisticRegression()\n",
    "base_model.fit(scaled_base_train, y_train)\n",
    "base_model2.fit(scaled_base_train, y_train)\n",
    "\n",
    "base_pred = base_model.predict(scaled_base_test)\n",
    "base_score = base_model.predict_proba(scaled_base_test)[:, 1]\n",
    "\n",
    "base_pred2 = base_model2.predict(scaled_base_test)\n",
    "base_score2 = base_model2.predict_proba(scaled_base_test)[:, 1]\n",
    "\n",
    "print(f\"Base xgb ROCAUC: {roc_auc_score(y_test, base_score)}\")\n",
    "print(f\"Base xgb PRAUC: {average_precision_score(y_test, base_score)}\")\n",
    "\n",
    "print(f\"Base lr ROCAUC: {roc_auc_score(y_test, base_score2)}\")\n",
    "print(f\"Base lr PRAUC: {average_precision_score(y_test, base_score2)}\")"
   ]
  },
  {
   "cell_type": "markdown",
   "metadata": {},
   "source": [
    "With and without scaling, the base scores:\n",
    "- Base xgb ROCAUC: 0.8836846819847096\n",
    "- Base xgb PRAUC: 0.402271144888392\n",
    "- Base lr ROCAUC: 0.8594179647320284\n",
    "- Base lr PRAUC: 0.3609001383474221"
   ]
  },
  {
   "cell_type": "markdown",
   "metadata": {},
   "source": [
    "Removing the order columns: "
   ]
  },
  {
   "cell_type": "code",
   "execution_count": 53,
   "metadata": {},
   "outputs": [
    {
     "name": "stdout",
     "output_type": "stream",
     "text": [
      "Base xgb ROCAUC: 0.8691358342416954\n",
      "Base xgb PRAUC: 0.38032231752551915\n",
      "Base lr ROCAUC: 0.7099894234273574\n",
      "Base lr PRAUC: 0.08386597974768656\n"
     ]
    }
   ],
   "source": [
    "columns_provided = ['mean_ldt', 'mean_lsd', 'mean_lm', \n",
    "                    'mean_cdt', 'mean_csd', 'mean_cm', \n",
    "                    'mean_rdt', 'mean_rsd', 'mean_rm']\n",
    "scaled_base_train = X_train[columns_provided]\n",
    "scaled_base_test = X_test[columns_provided]\n",
    "scaler = MinMaxScaler()\n",
    "#scaled_base_train = scaler.fit_transform(base_train)\n",
    "#scaled_base_test = scaler.transform(base_test)\n",
    "base_model = XGBClassifier()\n",
    "base_model2 = LogisticRegression()\n",
    "base_model.fit(scaled_base_train, y_train)\n",
    "base_model2.fit(scaled_base_train, y_train)\n",
    "\n",
    "base_pred = base_model.predict(scaled_base_test)\n",
    "base_score = base_model.predict_proba(scaled_base_test)[:, 1]\n",
    "\n",
    "base_pred2 = base_model2.predict(scaled_base_test)\n",
    "base_score2 = base_model2.predict_proba(scaled_base_test)[:, 1]\n",
    "\n",
    "print(f\"Base xgb ROCAUC: {roc_auc_score(y_test, base_score)}\")\n",
    "print(f\"Base xgb PRAUC: {average_precision_score(y_test, base_score)}\")\n",
    "\n",
    "print(f\"Base lr ROCAUC: {roc_auc_score(y_test, base_score2)}\")\n",
    "print(f\"Base lr PRAUC: {average_precision_score(y_test, base_score2)}\")"
   ]
  },
  {
   "cell_type": "markdown",
   "metadata": {},
   "source": [
    "Scaling affects lr -> with scaling, it performs slightly better:\n",
    "- Base ROCAUC: 0.8691358342416954\n",
    "- Base PRAUC: 0.38032231752551915\n",
    "- Base lr ROCAUC: 0.7238581410967924\n",
    "- Base lr PRAUC: 0.0939233575854529"
   ]
  },
  {
   "cell_type": "markdown",
   "metadata": {},
   "source": [
    "Okay so now we know what our base scores should be near, for a poor model and a kinda easily overfit model."
   ]
  },
  {
   "cell_type": "markdown",
   "metadata": {},
   "source": [
    "Now we shall focus on feature extraction using cross validation. First, we use Variance Threshold to identify which features don't change 80% of the time."
   ]
  },
  {
   "cell_type": "code",
   "execution_count": 56,
   "metadata": {},
   "outputs": [],
   "source": [
    "sel = VarianceThreshold(threshold=(.8 * (1 - .8))) #we remove columns that don't change 80% in all of the samples. \n",
    "cat_cols = ['order_1_A',\n",
    "       'order_1_C', 'order_1_G', 'order_1_T', 'order_2_A', 'order_2_G',\n",
    "       'order_2_T', 'order_3_A', 'order_3_G', 'order_4_A', 'order_4_C',\n",
    "       'order_4_T', 'order_5_A', 'order_5_C', 'order_5_G', 'order_5_T']\n",
    "extracted_cat_cols = sel.fit(X_train[cat_cols])"
   ]
  },
  {
   "cell_type": "code",
   "execution_count": 57,
   "metadata": {},
   "outputs": [],
   "source": [
    "cat_keep = extracted_cat_cols.get_feature_names_out()"
   ]
  },
  {
   "cell_type": "code",
   "execution_count": 58,
   "metadata": {},
   "outputs": [
    {
     "name": "stdout",
     "output_type": "stream",
     "text": [
      "Remove column: order_1_C\n"
     ]
    }
   ],
   "source": [
    "for col in cat_cols:\n",
    "    if col not in cat_keep:\n",
    "        print(f\"Remove column: {col}\")"
   ]
  },
  {
   "cell_type": "code",
   "execution_count": 15,
   "metadata": {},
   "outputs": [],
   "source": [
    "X_train = X_train.drop(['order_1_C'], axis=1)\n",
    "X_test = X_test.drop(['order_1_C'], axis=1)"
   ]
  },
  {
   "cell_type": "markdown",
   "metadata": {},
   "source": [
    "Manual CV"
   ]
  },
  {
   "cell_type": "code",
   "execution_count": 16,
   "metadata": {},
   "outputs": [],
   "source": [
    "num_genes = len(train_genes)\n",
    "validation_set_size = int(.2 * num_genes)\n",
    "#train_indices = np.array([i for i in range(num_genes)])\n",
    "\n",
    "import random\n",
    "random.seed(10)\n",
    "\n",
    "s = list(range(num_genes))\n",
    "random.shuffle(s)\n",
    "\n",
    "set1 = s[-validation_set_size:]\n",
    "del s[-validation_set_size:]\n",
    "\n",
    "set2 = s[-validation_set_size:]\n",
    "del s[-validation_set_size:]\n",
    "\n",
    "set3 = s[-validation_set_size:]\n",
    "del s[-validation_set_size:]\n",
    "\n",
    "set4 = s[-validation_set_size:]\n",
    "del s[-validation_set_size:]\n",
    "\n",
    "set5 = s\n",
    "\n",
    "\n",
    "genes_s1 = [train_genes[i] for i in set1]\n",
    "genes_s2 = [train_genes[i] for i in set2]\n",
    "genes_s3 = [train_genes[i] for i in set3]\n",
    "genes_s4 = [train_genes[i] for i in set4]\n",
    "genes_s5 = [train_genes[i] for i in set5]\n",
    "\n",
    "s1_train = X_train[X_train['gene_id'].isin(genes_s1)]\n",
    "s2_train = X_train[X_train['gene_id'].isin(genes_s2)]\n",
    "s3_train = X_train[X_train['gene_id'].isin(genes_s3)]\n",
    "s4_train = X_train[X_train['gene_id'].isin(genes_s4)]\n",
    "s5_train = X_train[X_train['gene_id'].isin(genes_s5)]"
   ]
  },
  {
   "cell_type": "code",
   "execution_count": 17,
   "metadata": {},
   "outputs": [],
   "source": [
    "s1_train = s1_train.drop(['gene_id'], axis=1)\n",
    "s2_train = s2_train.drop(['gene_id'], axis=1)\n",
    "s3_train = s3_train.drop(['gene_id'], axis=1)\n",
    "s4_train = s4_train.drop(['gene_id'], axis=1)\n",
    "s5_train = s5_train.drop(['gene_id'], axis=1)\n",
    "\n",
    "sets = [s1_train, s2_train, s3_train, s4_train, s5_train]"
   ]
  },
  {
   "cell_type": "code",
   "execution_count": 18,
   "metadata": {},
   "outputs": [
    {
     "name": "stdout",
     "output_type": "stream",
     "text": [
      "Imbalance: 21.661555312157724\n",
      "Number of samples: 20690\n",
      "Imbalance: 20.399332591768633\n",
      "Number of samples: 19238\n",
      "Imbalance: 21.12316384180791\n",
      "Number of samples: 19579\n",
      "Imbalance: 20.554176072234764\n",
      "Number of samples: 19097\n",
      "Imbalance: 19.53490990990991\n",
      "Number of samples: 18235\n"
     ]
    }
   ],
   "source": [
    "for datas in sets:\n",
    "    print(f\"Imbalance: {datas.label.value_counts()[0]/datas.label.value_counts()[1]}\")\n",
    "    print(f\"Number of samples: {datas.shape[0]}\")"
   ]
  },
  {
   "cell_type": "code",
   "execution_count": 19,
   "metadata": {},
   "outputs": [],
   "source": [
    "#data is a list of the validation sets\n",
    "#model should be called already. \n",
    "def cross_val(model, data):\n",
    "    precision = 0\n",
    "    recall = 0\n",
    "    aucroc = 0\n",
    "    prauc = 0\n",
    "\n",
    "    for i in range(5):\n",
    "        val = data[i]\n",
    "        y_val = np.asarray(val['label'])\n",
    "        X_val = val.drop(['label'], axis=1).values\n",
    "\n",
    "        train = pd.concat(data[:i] + data[i+1:], axis=0)\n",
    "        y_train = np.asarray(train['label'])\n",
    "        X_train = train.drop(['label'], axis=1).values\n",
    "\n",
    "        # scaler = MinMaxScaler()\n",
    "        # X_train_scaled = scaler.fit_transform(X_train)\n",
    "        # X_val_scaled = scaler.transform(X_val)\n",
    "        # define the sampling method\n",
    "        # undersample = NearMiss(version=1, n_neighbors=3)\n",
    "        # oversample = RandomOverSampler(sampling_strategy='minority')\n",
    "        # X_over, y_over = oversample.fit_resample(X_train_scaled, y_train)\n",
    "\n",
    "        model.fit(X_train, y_train)\n",
    "        y_score = model.predict_proba(X_val)[:, 1]\n",
    "        y_pred = model.predict(X_val)\n",
    "\n",
    "        precision += precision_score(y_val, y_pred)\n",
    "        recall += recall_score(y_val, y_pred)\n",
    "        aucroc += roc_auc_score(y_val, y_score)\n",
    "        prauc += average_precision_score(y_val, y_score)\n",
    "    \n",
    "    precision /= 5\n",
    "    recall /= 5\n",
    "    aucroc /= 5\n",
    "    prauc /= 5\n",
    "\n",
    "    results = {'precision': precision, 'recall': recall, 'aucroc': aucroc, 'prauc': prauc}\n",
    "    return precision, recall, aucroc, prauc"
   ]
  },
  {
   "cell_type": "code",
   "execution_count": 20,
   "metadata": {},
   "outputs": [],
   "source": [
    "def plot_lines(n, p, r, a, pr, xl):\n",
    "    plt.plot(n, p, color='red', label='precision')\n",
    "    plt.plot(n, r, color='blue', label='recall')\n",
    "    plt.plot(n, a, color='green', label='auc')\n",
    "    plt.plot(n, pr, color='brown', label='prauc')\n",
    "    plt.legend()\n",
    "    plt.xlabel(xl)\n",
    "    plt.ylabel('score')\n",
    "    plt.show()"
   ]
  },
  {
   "cell_type": "code",
   "execution_count": 68,
   "metadata": {},
   "outputs": [],
   "source": [
    "features = [39, 35, 30, 25, 20, 15, 10, 5]\n",
    "model = XGBClassifier()\n",
    "store_auc = []\n",
    "store_prauc = []\n",
    "for feature in features:\n",
    "    selector = RFE(model, n_features_to_select=feature, step=1)\n",
    "    pr, rc, auc, prauc = cross_val(selector, sets)\n",
    "    store_auc.append(auc)\n",
    "    store_prauc.append(prauc)"
   ]
  },
  {
   "cell_type": "markdown",
   "metadata": {},
   "source": [
    "These are the auc scores according to the feature selection above:\n",
    "0.9126840976336084,\n",
    " 0.9127059101584599,\n",
    " 0.9126115497299656,\n",
    " 0.9111876335196115,\n",
    " 0.906475367856882,\n",
    " 0.9042322552136763,\n",
    " 0.892146304633426,\n",
    " 0.8336659686176219\n"
   ]
  },
  {
   "cell_type": "markdown",
   "metadata": {},
   "source": [
    "The are the prauc scores according to the feature selection above: 0.4669365706894464,\n",
    " 0.4638434423715432,\n",
    " 0.4682896772717358,\n",
    " 0.46856228285250057,\n",
    " 0.443107295342386,\n",
    " 0.4480570223885364,\n",
    " 0.4249699329252875,\n",
    " 0.27274010788905584"
   ]
  },
  {
   "cell_type": "code",
   "execution_count": 71,
   "metadata": {},
   "outputs": [],
   "source": [
    "idx_prauc = np.argmax(np.array(store_prauc))\n",
    "idx_auc = np.argmax(np.array(store_auc))"
   ]
  },
  {
   "cell_type": "code",
   "execution_count": 72,
   "metadata": {},
   "outputs": [
    {
     "data": {
      "text/plain": [
       "3"
      ]
     },
     "execution_count": 72,
     "metadata": {},
     "output_type": "execute_result"
    }
   ],
   "source": [
    "idx_prauc"
   ]
  },
  {
   "cell_type": "code",
   "execution_count": 73,
   "metadata": {},
   "outputs": [
    {
     "data": {
      "text/plain": [
       "1"
      ]
     },
     "execution_count": 73,
     "metadata": {},
     "output_type": "execute_result"
    }
   ],
   "source": [
    "idx_auc"
   ]
  },
  {
   "cell_type": "markdown",
   "metadata": {},
   "source": [
    "We shall use 25 features"
   ]
  },
  {
   "cell_type": "code",
   "execution_count": 74,
   "metadata": {},
   "outputs": [
    {
     "data": {
      "text/plain": [
       "array(['mean_lsd', 'mean_lm', 'var_lm', 'mean_csd', 'var_csd', 'mean_cm',\n",
       "       'var_cm', 'mean_rsd', 'mean_rm', 'var_rm', 'num_reads', 'G_count',\n",
       "       'T_count', 'relative_pos', 'order_1_A', 'order_1_T', 'order_2_A',\n",
       "       'order_2_G', 'order_3_A', 'order_4_A', 'order_4_C', 'order_4_T',\n",
       "       'order_5_A', 'order_5_G', 'order_5_T'], dtype=object)"
      ]
     },
     "execution_count": 74,
     "metadata": {},
     "output_type": "execute_result"
    }
   ],
   "source": [
    "model = XGBClassifier()\n",
    "selector = RFE(model, n_features_to_select=25, step=1)\n",
    "selector = selector.fit(X_train.drop(['gene_id', 'label'], axis=1), y_train)\n",
    "selector.get_feature_names_out()"
   ]
  },
  {
   "cell_type": "code",
   "execution_count": 21,
   "metadata": {},
   "outputs": [],
   "source": [
    "filtered_cols = ['mean_lsd', 'mean_lm', 'var_lm', 'mean_csd', 'var_csd', 'mean_cm',\n",
    "       'var_cm', 'mean_rsd', 'mean_rm', 'var_rm', 'num_reads', 'G_count',\n",
    "       'T_count', 'relative_pos', 'order_1_A', 'order_1_T', 'order_2_A',\n",
    "       'order_2_G', 'order_3_A', 'order_4_A', 'order_4_C', 'order_4_T',\n",
    "       'order_5_A', 'order_5_G', 'order_5_T']"
   ]
  },
  {
   "cell_type": "code",
   "execution_count": 22,
   "metadata": {},
   "outputs": [
    {
     "name": "stdout",
     "output_type": "stream",
     "text": [
      "rfe xgb actual pr auc: 0.46520702452630464\n",
      "rfe xgb AUCROC Score: 0.9124642916145379\n",
      "rfe xgb PR AUC: 0.4660771594762442\n",
      "rfe xgb precision: 0.6281800391389433\n",
      "rfe xgb recall: 0.3197211155378486\n"
     ]
    }
   ],
   "source": [
    "rfe_train1 = X_train[['mean_lsd', 'mean_lm', 'var_lm', 'mean_csd', 'var_csd', 'mean_cm',\n",
    "       'var_cm', 'mean_rsd', 'mean_rm', 'var_rm', 'num_reads', 'G_count',\n",
    "       'T_count', 'relative_pos', 'order_1_A', 'order_1_T', 'order_2_A',\n",
    "       'order_2_G', 'order_3_A', 'order_4_A', 'order_4_C', 'order_4_T',\n",
    "       'order_5_A', 'order_5_G', 'order_5_T']]\n",
    "\n",
    "rfe_test1 = X_test[['mean_lsd', 'mean_lm', 'var_lm', 'mean_csd', 'var_csd', 'mean_cm',\n",
    "       'var_cm', 'mean_rsd', 'mean_rm', 'var_rm', 'num_reads', 'G_count',\n",
    "       'T_count', 'relative_pos', 'order_1_A', 'order_1_T', 'order_2_A',\n",
    "       'order_2_G', 'order_3_A', 'order_4_A', 'order_4_C', 'order_4_T',\n",
    "       'order_5_A', 'order_5_G', 'order_5_T']]\n",
    "\n",
    "rfe_model = XGBClassifier()\n",
    "rfe_model.fit(rfe_train1.values, y_train)\n",
    "y_pred = rfe_model.predict(rfe_test1.values)\n",
    "y_score = rfe_model.predict_proba(rfe_test1.values)[:, 1]\n",
    "\n",
    "# Data to plot precision - recall curve\n",
    "rfe_precision, rfe_recall, thresholds = precision_recall_curve(y_test, y_score)\n",
    "# Use AUC function to calculate the area under the curve of precision recall curve\n",
    "auc_precision_recall = auc(rfe_recall, rfe_precision)\n",
    "print(f\"rfe xgb actual pr auc: {auc_precision_recall}\")\n",
    "print(f\"rfe xgb AUCROC Score: {roc_auc_score(y_test, y_score)}\")\n",
    "print(f\"rfe xgb PR AUC: {average_precision_score(y_test, y_score)}\")\n",
    "print(f\"rfe xgb precision: {precision_score(y_test, y_pred)}\")\n",
    "print(f\"rfe xgb recall: {recall_score(y_test, y_pred)}\")"
   ]
  },
  {
   "cell_type": "code",
   "execution_count": 23,
   "metadata": {},
   "outputs": [],
   "source": [
    "def prauc_score(y_true, y_score):\n",
    "    # Data to plot precision - recall curve\n",
    "    precision, recall, thresholds = precision_recall_curve(y_true, y_score)\n",
    "    # Use AUC function to calculate the area under the curve of precision recall curve\n",
    "    auc_precision_recall = auc(recall, precision)\n",
    "    return auc_precision_recall"
   ]
  },
  {
   "cell_type": "code",
   "execution_count": 24,
   "metadata": {},
   "outputs": [],
   "source": [
    "eta = np.linspace(0.05, 0.15, 5)\n",
    "max_depth = np.linspace(2, 15, 6)\n",
    "alpha = np.linspace(0, 10, 4)\n",
    "scale_pos_weight = np.linspace(4.25, 5.25, 4)\n",
    "ld = np.linspace(0, 10, 4)"
   ]
  },
  {
   "cell_type": "code",
   "execution_count": 86,
   "metadata": {},
   "outputs": [],
   "source": [
    "sets2 = []\n",
    "for set in sets:\n",
    "    new_set = set[['label','mean_lsd', 'mean_lm', 'var_lm', 'mean_csd', 'var_csd', 'mean_cm',\n",
    "       'var_cm', 'mean_rsd', 'mean_rm', 'var_rm', 'num_reads', 'G_count',\n",
    "       'T_count', 'relative_pos', 'order_1_A', 'order_1_T', 'order_2_A',\n",
    "       'order_2_G', 'order_3_A', 'order_4_A', 'order_4_C', 'order_4_T',\n",
    "       'order_5_A', 'order_5_G', 'order_5_T']]\n",
    "    sets2.append(new_set)\n",
    "    "
   ]
  },
  {
   "cell_type": "code",
   "execution_count": 89,
   "metadata": {},
   "outputs": [
    {
     "data": {
      "image/png": "[encoded data removed]",
      "text/plain": [
       "<Figure size 432x288 with 1 Axes>"
      ]
     },
     "metadata": {
      "needs_background": "light"
     },
     "output_type": "display_data"
    }
   ],
   "source": [
    "prec = []\n",
    "rec = []\n",
    "area = []\n",
    "prarea = []\n",
    "\n",
    "for val in eta:\n",
    "    xgb = XGBClassifier(eta=val)\n",
    "    precision, recall, aucroc, prauc = cross_val(xgb, sets2)\n",
    "    prec.append(precision)\n",
    "    rec.append(recall)\n",
    "    area.append(aucroc)\n",
    "    prarea.append(prauc)\n",
    "plot_lines(eta, prec, rec, area, prarea, 'eta')"
   ]
  },
  {
   "cell_type": "markdown",
   "metadata": {},
   "source": [
    "Best eta=0.15"
   ]
  },
  {
   "cell_type": "code",
   "execution_count": 96,
   "metadata": {},
   "outputs": [
    {
     "name": "stdout",
     "output_type": "stream",
     "text": [
      "Im at val=4.25\n",
      "Im at val=4.583333333333333\n",
      "Im at val=4.916666666666667\n",
      "Im at val=5.25\n"
     ]
    },
    {
     "data": {
      "image/png": "[encoded data removed]",
      "text/plain": [
       "<Figure size 432x288 with 1 Axes>"
      ]
     },
     "metadata": {
      "needs_background": "light"
     },
     "output_type": "display_data"
    }
   ],
   "source": [
    "prec = []\n",
    "rec = []\n",
    "area = []\n",
    "prarea = []\n",
    "\n",
    "for val in scale_pos_weight:\n",
    "    print(f\"Im at val={val}\")\n",
    "    xgb = XGBClassifier(eta=0.15, scale_pos_weight=val)\n",
    "    precision, recall, aucroc, prauc = cross_val(xgb, sets2)\n",
    "    prec.append(precision)\n",
    "    rec.append(recall)\n",
    "    area.append(aucroc)\n",
    "    prarea.append(prauc)\n",
    "plot_lines(scale_pos_weight, prec, rec, area, prarea, 'scale_pos_weight')"
   ]
  },
  {
   "cell_type": "markdown",
   "metadata": {},
   "source": [
    "4.9 seems good for scale pos weight"
   ]
  },
  {
   "cell_type": "code",
   "execution_count": 97,
   "metadata": {},
   "outputs": [
    {
     "name": "stdout",
     "output_type": "stream",
     "text": [
      "Im at val=2.0\n",
      "Im at val=4.6\n",
      "Im at val=7.2\n",
      "Im at val=9.8\n",
      "Im at val=12.4\n",
      "Im at val=15.0\n"
     ]
    },
    {
     "data": {
      "image/png": "[encoded data removed]",
      "text/plain": [
       "<Figure size 432x288 with 1 Axes>"
      ]
     },
     "metadata": {
      "needs_background": "light"
     },
     "output_type": "display_data"
    }
   ],
   "source": [
    "prec = []\n",
    "rec = []\n",
    "area = []\n",
    "prarea = []\n",
    "\n",
    "for val in max_depth:\n",
    "    print(f\"Im at val={val}\")\n",
    "    xgb = XGBClassifier(eta=0.15, scale_pos_weight=4.9, max_depth=int(val))\n",
    "    precision, recall, aucroc, prauc = cross_val(xgb, sets2)\n",
    "    prec.append(precision)\n",
    "    rec.append(recall)\n",
    "    area.append(aucroc)\n",
    "    prarea.append(prauc)\n",
    "plot_lines(max_depth, prec, rec, area, prarea, 'max_depth')"
   ]
  },
  {
   "cell_type": "markdown",
   "metadata": {},
   "source": [
    "max_depth = 7 seems good "
   ]
  },
  {
   "cell_type": "code",
   "execution_count": 25,
   "metadata": {},
   "outputs": [
    {
     "name": "stdout",
     "output_type": "stream",
     "text": [
      "tuned xgb AUCROC Score: 0.9172894170349234\n",
      "tuned xgb PR AUC: 0.4748743985438804\n",
      "tuned xgb Actual PR AUC 0.4742743004269667\n",
      "tuned xgb precision: 0.4510913500404204\n",
      "tuned xgb recall: 0.5557768924302788\n"
     ]
    }
   ],
   "source": [
    "X_train1 = X_train[filtered_cols]\n",
    "X_test1 = X_test[filtered_cols]\n",
    "tuned_xgb= XGBClassifier(eta=0.15, scale_pos_weight=4.9, max_depth=7)\n",
    "tuned_xgb.fit(X_train1.values, y_train)\n",
    "y_pred = tuned_xgb.predict(X_test1.values)\n",
    "y_score = tuned_xgb.predict_proba(X_test1.values)[:, 1]\n",
    "print(f\"tuned xgb AUCROC Score: {roc_auc_score(y_test, y_score)}\")\n",
    "print(f\"tuned xgb PR AUC: {average_precision_score(y_test, y_score)}\")\n",
    "print(f\"tuned xgb Actual PR AUC {prauc_score(y_test, y_score)}\")\n",
    "print(f\"tuned xgb precision: {precision_score(y_test, y_pred)}\")\n",
    "print(f\"tuned xgb recall: {recall_score(y_test, y_pred)}\")\n"
   ]
  },
  {
   "cell_type": "code",
   "execution_count": 102,
   "metadata": {},
   "outputs": [
    {
     "data": {
      "text/plain": [
       "['mean_lsd',\n",
       " 'mean_lm',\n",
       " 'var_lm',\n",
       " 'mean_csd',\n",
       " 'var_csd',\n",
       " 'mean_cm',\n",
       " 'var_cm',\n",
       " 'mean_rsd',\n",
       " 'mean_rm',\n",
       " 'var_rm',\n",
       " 'num_reads',\n",
       " 'G_count',\n",
       " 'T_count',\n",
       " 'relative_pos',\n",
       " 'order_1_A',\n",
       " 'order_1_T',\n",
       " 'order_2_A',\n",
       " 'order_2_G',\n",
       " 'order_3_A',\n",
       " 'order_4_A',\n",
       " 'order_4_C',\n",
       " 'order_4_T',\n",
       " 'order_5_A',\n",
       " 'order_5_G',\n",
       " 'order_5_T']"
      ]
     },
     "execution_count": 102,
     "metadata": {},
     "output_type": "execute_result"
    }
   ],
   "source": [
    "filtered_cols"
   ]
  },
  {
   "cell_type": "code",
   "execution_count": 28,
   "metadata": {},
   "outputs": [],
   "source": [
    "# save the model to disk\n",
    "filename = './saved_models/xgb_917.sav'\n",
    "pickle.dump(tuned_xgb, open(filename, 'wb'))"
   ]
  },
  {
   "cell_type": "code",
   "execution_count": 31,
   "metadata": {},
   "outputs": [],
   "source": [
    "filtered_cols.extend(['transcript_id', 'order', 'curr_pos', 'gene_id', 'label'])"
   ]
  },
  {
   "cell_type": "code",
   "execution_count": 34,
   "metadata": {},
   "outputs": [],
   "source": [
    "rfe1 = df3[filtered_cols]\n",
    "rfe1.to_csv('./data/rfe1.csv')"
   ]
  },
  {
   "cell_type": "code",
   "execution_count": null,
   "metadata": {},
   "outputs": [],
   "source": []
  }
 ],
 "metadata": {
  "kernelspec": {
   "display_name": "Python 3.9.12 ('sanraj1')",
   "language": "python",
   "name": "python3"
  },
  "language_info": {
   "codemirror_mode": {
    "name": "ipython",
    "version": 3
   },
   "file_extension": ".py",
   "mimetype": "text/x-python",
   "name": "python",
   "nbconvert_exporter": "python",
   "pygments_lexer": "ipython3",
   "version": "3.9.12"
  },
  "orig_nbformat": 4,
  "vscode": {
   "interpreter": {
    "hash": "9a4898174c98566e8fa6054e7c4c91436f184723778503d13d0e26c5c20e834f"
   }
  }
 },
 "nbformat": 4,
 "nbformat_minor": 2
}
