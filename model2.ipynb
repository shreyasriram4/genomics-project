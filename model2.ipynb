{
 "cells": [
  {
   "cell_type": "code",
   "execution_count": 63,
   "metadata": {},
   "outputs": [],
   "source": [
    "import pandas as pd\n",
    "import numpy as np\n",
    "from sklearn.model_selection import train_test_split\n",
    "from statistics import variance\n",
    "from tqdm import tqdm\n",
    "from sklearn.ensemble import RandomForestClassifier\n",
    "from xgboost import XGBClassifier\n",
    "from sklearn import metrics\n",
    "from sklearn.metrics import classification_report\n",
    "from sklearn.metrics import confusion_matrix\n",
    "import imblearn\n",
    "from collections import Counter\n",
    "from imblearn.over_sampling import SMOTE\n",
    "from imblearn.over_sampling import RandomOverSampler\n",
    "from sklearn.model_selection import RandomizedSearchCV\n",
    "from sklearn.model_selection import PredefinedSplit"
   ]
  },
  {
   "cell_type": "code",
   "execution_count": 4,
   "metadata": {},
   "outputs": [
    {
     "data": {
      "application/vnd.jupyter.widget-view+json": {
       "model_id": "abe20595fe874fa399cc46a68f9d6a5e",
       "version_major": 2,
       "version_minor": 0
      },
      "text/plain": [
       "Output()"
      ]
     },
     "metadata": {},
     "output_type": "display_data"
    },
    {
     "data": {
      "text/html": [
       "<pre style=\"white-space:pre;overflow-x:auto;line-height:normal;font-family:Menlo,'DejaVu Sans Mono',consolas,'Courier New',monospace\"></pre>\n"
      ],
      "text/plain": []
     },
     "metadata": {},
     "output_type": "display_data"
    },
    {
     "data": {
      "text/html": [
       "<pre style=\"white-space:pre;overflow-x:auto;line-height:normal;font-family:Menlo,'DejaVu Sans Mono',consolas,'Courier New',monospace\">\n",
       "</pre>\n"
      ],
      "text/plain": [
       "\n"
      ]
     },
     "metadata": {},
     "output_type": "display_data"
    }
   ],
   "source": [
    "import json\n",
    "import rich.progress\n",
    "\n",
    "with rich.progress.open(\"data/data.json\", \"rb\") as file:\n",
    "    json_data = [json.loads(line) for line in file]"
   ]
  },
  {
   "cell_type": "code",
   "execution_count": 5,
   "metadata": {},
   "outputs": [],
   "source": [
    "label_df = pd.read_csv(\"data/data.info\")"
   ]
  },
  {
   "cell_type": "code",
   "execution_count": 97,
   "metadata": {},
   "outputs": [
    {
     "name": "stderr",
     "output_type": "stream",
     "text": [
      "100%|██████████| 121838/121838 [00:07<00:00, 16414.61it/s]\n"
     ]
    }
   ],
   "source": [
    "all_rows = []\n",
    "\n",
    "for list_index in tqdm(range(len(json_data))):\n",
    "    #print(json_data[list_index])\n",
    "    for gene_id in json_data[list_index]:\n",
    "        for pos in json_data[list_index][gene_id]:\n",
    "            for bases in json_data[list_index][gene_id][pos]:\n",
    "                reads = json_data[list_index][gene_id][pos][bases]\n",
    "                avg_reads = [sum(x)/len(x) for x in zip(*reads)]\n",
    "                #variance_reads = [variance(x) for x in zip(*reads)]\n",
    "                n_reads = [len(reads)]\n",
    "                one_row = [gene_id, int(pos), bases] + avg_reads + n_reads #+ variance_reads\n",
    "                all_rows.append(one_row)"
   ]
  },
  {
   "cell_type": "code",
   "execution_count": 98,
   "metadata": {},
   "outputs": [],
   "source": [
    "df = pd.DataFrame(all_rows, columns =['transcript_id', 'transcript_position', 'bases', \n",
    "'Prev_Pos_mean_of_DT', 'Prev_Pos_mean_of_SD', 'Prev_Pos_mean_of_Mean', \n",
    "'Curr_Pos_mean_of_DT', 'Curr_Pos_mean_of_SD', 'Curr_Pos_mean_of_Mean',\n",
    "'Next_Pos_mean_of_DT', 'Next_Pos_mean_of_SD', 'Next_Pos_mean_of_Mean',\n",
    "#'Prev_Pos_sd_of_DT', 'Prev_Pos_sd_of_SD', 'Prev_Pos_sd_of_Mean', \n",
    "#'Curr_Pos_sd_of_DT', 'Curr_Pos_sd_of_SD', 'Curr_Pos_sd_of_Mean',\n",
    "#'Next_Pos_sd_of_DT', 'Next_Pos_sd_of_SD', 'Next_Pos_sd_of_Mean', \n",
    "'n_reads'])\n",
    "\n",
    "df = df.merge(label_df, how = 'left', on = ['transcript_id', 'transcript_position'])"
   ]
  },
  {
   "cell_type": "code",
   "execution_count": 99,
   "metadata": {},
   "outputs": [],
   "source": [
    "df[\"left_1\"] = df[\"bases\"].apply(lambda x: x[0])\n",
    "df[\"curr_pos_bases\"] = df[\"bases\"].apply(lambda x: x[1:6])\n",
    "df[\"right_5\"] = df[\"bases\"].apply(lambda x: x[6])"
   ]
  },
  {
   "cell_type": "code",
   "execution_count": 100,
   "metadata": {},
   "outputs": [],
   "source": [
    "df[\"centre_1\"] = df[\"curr_pos_bases\"].apply(lambda x: x[0])\n",
    "df[\"centre_2\"] = df[\"curr_pos_bases\"].apply(lambda x: x[1])\n",
    "df[\"centre_3\"] = df[\"curr_pos_bases\"].apply(lambda x: x[2])\n",
    "df[\"centre_4\"] = df[\"curr_pos_bases\"].apply(lambda x: x[3])\n",
    "df[\"centre_5\"] = df[\"curr_pos_bases\"].apply(lambda x: x[4])"
   ]
  },
  {
   "cell_type": "code",
   "execution_count": 101,
   "metadata": {},
   "outputs": [],
   "source": [
    "categorical_cols = ['left_1', 'centre_1', 'centre_2', 'centre_3', 'centre_4', 'centre_5', 'right_5']\n",
    "\n",
    "\n",
    "df = pd.get_dummies(df, columns = categorical_cols)"
   ]
  },
  {
   "cell_type": "code",
   "execution_count": 102,
   "metadata": {},
   "outputs": [
    {
     "data": {
      "text/plain": [
       "Index(['transcript_id', 'transcript_position', 'bases', 'Prev_Pos_mean_of_DT',\n",
       "       'Prev_Pos_mean_of_SD', 'Prev_Pos_mean_of_Mean', 'Curr_Pos_mean_of_DT',\n",
       "       'Curr_Pos_mean_of_SD', 'Curr_Pos_mean_of_Mean', 'Next_Pos_mean_of_DT',\n",
       "       'Next_Pos_mean_of_SD', 'Next_Pos_mean_of_Mean', 'n_reads', 'gene_id',\n",
       "       'label', 'curr_pos_bases', 'left_1_A', 'left_1_C', 'left_1_G',\n",
       "       'left_1_T', 'centre_1_A', 'centre_1_G', 'centre_1_T', 'centre_2_A',\n",
       "       'centre_2_G', 'centre_3_A', 'centre_4_C', 'centre_5_A', 'centre_5_C',\n",
       "       'centre_5_T', 'right_5_A', 'right_5_C', 'right_5_G', 'right_5_T'],\n",
       "      dtype='object')"
      ]
     },
     "execution_count": 102,
     "metadata": {},
     "output_type": "execute_result"
    }
   ],
   "source": [
    "df.columns"
   ]
  },
  {
   "cell_type": "code",
   "execution_count": 103,
   "metadata": {},
   "outputs": [],
   "source": [
    "expected_columns = ['left_1_A', 'left_1_C', 'left_1_G', 'left_1_T',\n",
    "                    'centre_1_A', 'centre_1_G', 'centre_1_T', \n",
    "                    'centre_2_A', 'centre_2_G', \n",
    "                    #'centre_3_A',\n",
    "                    #'centre_4_C',\n",
    "                    'centre_5_A', 'centre_5_C', 'centre_5_T',\n",
    "                    'right_5_A', 'right_5_C', 'right_5_G', 'right_5_T']"
   ]
  },
  {
   "cell_type": "code",
   "execution_count": 104,
   "metadata": {},
   "outputs": [],
   "source": [
    "added_cols = []\n",
    "df_cols = df.columns\n",
    "for col in expected_columns:\n",
    "    if col not in df_cols:\n",
    "        df[col] = [0 for i in range(len(df))]\n",
    "        added_cols.append(col)"
   ]
  },
  {
   "cell_type": "code",
   "execution_count": 105,
   "metadata": {},
   "outputs": [],
   "source": [
    "ordered_columns = ['transcript_id', 'transcript_position', 'bases', 'gene_id', \n",
    "       'Prev_Pos_mean_of_DT', 'Prev_Pos_mean_of_SD', 'Prev_Pos_mean_of_Mean', \n",
    "       'Curr_Pos_mean_of_DT', 'Curr_Pos_mean_of_SD', 'Curr_Pos_mean_of_Mean',\n",
    "       'Next_Pos_mean_of_DT', 'Next_Pos_mean_of_SD', 'Next_Pos_mean_of_Mean',\n",
    "       #'Prev_Pos_sd_of_DT', 'Prev_Pos_sd_of_SD', 'Prev_Pos_sd_of_Mean', \n",
    "       #'Curr_Pos_sd_of_DT', 'Curr_Pos_sd_of_SD', 'Curr_Pos_sd_of_Mean',\n",
    "       #'Next_Pos_sd_of_DT', 'Next_Pos_sd_of_SD', 'Next_Pos_sd_of_Mean', \n",
    "       'n_reads',\n",
    "       'left_1_A', 'left_1_C', 'left_1_G', 'left_1_T',\n",
    "       'centre_1_A', 'centre_1_G', 'centre_1_T', \n",
    "       'centre_2_A', 'centre_2_G', \n",
    "       #'centre_3_A',\n",
    "       #'centre_4_C',\n",
    "       'centre_5_A', 'centre_5_C', 'centre_5_T',\n",
    "       'right_5_A', 'right_5_C', 'right_5_G', 'right_5_T', 'label']"
   ]
  },
  {
   "cell_type": "code",
   "execution_count": 106,
   "metadata": {},
   "outputs": [],
   "source": [
    "df = df[ordered_columns]"
   ]
  },
  {
   "cell_type": "code",
   "execution_count": 107,
   "metadata": {},
   "outputs": [],
   "source": [
    "df2 = df.drop(['transcript_id', 'transcript_position', 'bases'], axis = 1)"
   ]
  },
  {
   "cell_type": "code",
   "execution_count": 108,
   "metadata": {},
   "outputs": [
    {
     "data": {
      "text/html": [
       "<div>\n",
       "<style scoped>\n",
       "    .dataframe tbody tr th:only-of-type {\n",
       "        vertical-align: middle;\n",
       "    }\n",
       "\n",
       "    .dataframe tbody tr th {\n",
       "        vertical-align: top;\n",
       "    }\n",
       "\n",
       "    .dataframe thead th {\n",
       "        text-align: right;\n",
       "    }\n",
       "</style>\n",
       "<table border=\"1\" class=\"dataframe\">\n",
       "  <thead>\n",
       "    <tr style=\"text-align: right;\">\n",
       "      <th></th>\n",
       "      <th>gene_id</th>\n",
       "      <th>Prev_Pos_mean_of_DT</th>\n",
       "      <th>Prev_Pos_mean_of_SD</th>\n",
       "      <th>Prev_Pos_mean_of_Mean</th>\n",
       "      <th>Curr_Pos_mean_of_DT</th>\n",
       "      <th>Curr_Pos_mean_of_SD</th>\n",
       "      <th>Curr_Pos_mean_of_Mean</th>\n",
       "      <th>Next_Pos_mean_of_DT</th>\n",
       "      <th>Next_Pos_mean_of_SD</th>\n",
       "      <th>Next_Pos_mean_of_Mean</th>\n",
       "      <th>...</th>\n",
       "      <th>centre_2_A</th>\n",
       "      <th>centre_2_G</th>\n",
       "      <th>centre_5_A</th>\n",
       "      <th>centre_5_C</th>\n",
       "      <th>centre_5_T</th>\n",
       "      <th>right_5_A</th>\n",
       "      <th>right_5_C</th>\n",
       "      <th>right_5_G</th>\n",
       "      <th>right_5_T</th>\n",
       "      <th>label</th>\n",
       "    </tr>\n",
       "  </thead>\n",
       "  <tbody>\n",
       "    <tr>\n",
       "      <th>0</th>\n",
       "      <td>ENSG00000004059</td>\n",
       "      <td>0.008264</td>\n",
       "      <td>4.223784</td>\n",
       "      <td>123.702703</td>\n",
       "      <td>0.009373</td>\n",
       "      <td>7.382162</td>\n",
       "      <td>125.913514</td>\n",
       "      <td>0.007345</td>\n",
       "      <td>4.386989</td>\n",
       "      <td>80.570270</td>\n",
       "      <td>...</td>\n",
       "      <td>0</td>\n",
       "      <td>1</td>\n",
       "      <td>0</td>\n",
       "      <td>1</td>\n",
       "      <td>0</td>\n",
       "      <td>1</td>\n",
       "      <td>0</td>\n",
       "      <td>0</td>\n",
       "      <td>0</td>\n",
       "      <td>0</td>\n",
       "    </tr>\n",
       "    <tr>\n",
       "      <th>1</th>\n",
       "      <td>ENSG00000004059</td>\n",
       "      <td>0.006609</td>\n",
       "      <td>3.216424</td>\n",
       "      <td>109.681395</td>\n",
       "      <td>0.006813</td>\n",
       "      <td>3.226535</td>\n",
       "      <td>107.889535</td>\n",
       "      <td>0.007710</td>\n",
       "      <td>3.016599</td>\n",
       "      <td>94.290698</td>\n",
       "      <td>...</td>\n",
       "      <td>1</td>\n",
       "      <td>0</td>\n",
       "      <td>0</td>\n",
       "      <td>0</td>\n",
       "      <td>1</td>\n",
       "      <td>0</td>\n",
       "      <td>0</td>\n",
       "      <td>1</td>\n",
       "      <td>0</td>\n",
       "      <td>0</td>\n",
       "    </tr>\n",
       "    <tr>\n",
       "      <th>2</th>\n",
       "      <td>ENSG00000004059</td>\n",
       "      <td>0.007570</td>\n",
       "      <td>2.940541</td>\n",
       "      <td>105.475676</td>\n",
       "      <td>0.007416</td>\n",
       "      <td>3.642703</td>\n",
       "      <td>98.947027</td>\n",
       "      <td>0.007555</td>\n",
       "      <td>2.087146</td>\n",
       "      <td>89.364324</td>\n",
       "      <td>...</td>\n",
       "      <td>1</td>\n",
       "      <td>0</td>\n",
       "      <td>1</td>\n",
       "      <td>0</td>\n",
       "      <td>0</td>\n",
       "      <td>0</td>\n",
       "      <td>0</td>\n",
       "      <td>1</td>\n",
       "      <td>0</td>\n",
       "      <td>0</td>\n",
       "    </tr>\n",
       "    <tr>\n",
       "      <th>3</th>\n",
       "      <td>ENSG00000004059</td>\n",
       "      <td>0.010620</td>\n",
       "      <td>6.476350</td>\n",
       "      <td>129.355000</td>\n",
       "      <td>0.008632</td>\n",
       "      <td>2.899200</td>\n",
       "      <td>97.836500</td>\n",
       "      <td>0.006102</td>\n",
       "      <td>2.236520</td>\n",
       "      <td>89.154000</td>\n",
       "      <td>...</td>\n",
       "      <td>1</td>\n",
       "      <td>0</td>\n",
       "      <td>1</td>\n",
       "      <td>0</td>\n",
       "      <td>0</td>\n",
       "      <td>0</td>\n",
       "      <td>0</td>\n",
       "      <td>0</td>\n",
       "      <td>1</td>\n",
       "      <td>0</td>\n",
       "    </tr>\n",
       "    <tr>\n",
       "      <th>4</th>\n",
       "      <td>ENSG00000004059</td>\n",
       "      <td>0.010701</td>\n",
       "      <td>6.415051</td>\n",
       "      <td>117.924242</td>\n",
       "      <td>0.011479</td>\n",
       "      <td>5.870303</td>\n",
       "      <td>121.954545</td>\n",
       "      <td>0.010019</td>\n",
       "      <td>4.260253</td>\n",
       "      <td>85.178788</td>\n",
       "      <td>...</td>\n",
       "      <td>0</td>\n",
       "      <td>1</td>\n",
       "      <td>1</td>\n",
       "      <td>0</td>\n",
       "      <td>0</td>\n",
       "      <td>1</td>\n",
       "      <td>0</td>\n",
       "      <td>0</td>\n",
       "      <td>0</td>\n",
       "      <td>0</td>\n",
       "    </tr>\n",
       "    <tr>\n",
       "      <th>...</th>\n",
       "      <td>...</td>\n",
       "      <td>...</td>\n",
       "      <td>...</td>\n",
       "      <td>...</td>\n",
       "      <td>...</td>\n",
       "      <td>...</td>\n",
       "      <td>...</td>\n",
       "      <td>...</td>\n",
       "      <td>...</td>\n",
       "      <td>...</td>\n",
       "      <td>...</td>\n",
       "      <td>...</td>\n",
       "      <td>...</td>\n",
       "      <td>...</td>\n",
       "      <td>...</td>\n",
       "      <td>...</td>\n",
       "      <td>...</td>\n",
       "      <td>...</td>\n",
       "      <td>...</td>\n",
       "      <td>...</td>\n",
       "      <td>...</td>\n",
       "    </tr>\n",
       "    <tr>\n",
       "      <th>121833</th>\n",
       "      <td>ENSG00000167747</td>\n",
       "      <td>0.009594</td>\n",
       "      <td>3.294164</td>\n",
       "      <td>118.232877</td>\n",
       "      <td>0.007300</td>\n",
       "      <td>4.929726</td>\n",
       "      <td>116.342466</td>\n",
       "      <td>0.006555</td>\n",
       "      <td>4.005616</td>\n",
       "      <td>82.004110</td>\n",
       "      <td>...</td>\n",
       "      <td>0</td>\n",
       "      <td>1</td>\n",
       "      <td>1</td>\n",
       "      <td>0</td>\n",
       "      <td>0</td>\n",
       "      <td>0</td>\n",
       "      <td>0</td>\n",
       "      <td>0</td>\n",
       "      <td>1</td>\n",
       "      <td>1</td>\n",
       "    </tr>\n",
       "    <tr>\n",
       "      <th>121834</th>\n",
       "      <td>ENSG00000167747</td>\n",
       "      <td>0.008393</td>\n",
       "      <td>4.511014</td>\n",
       "      <td>110.969565</td>\n",
       "      <td>0.010305</td>\n",
       "      <td>9.105797</td>\n",
       "      <td>114.927536</td>\n",
       "      <td>0.005568</td>\n",
       "      <td>3.644638</td>\n",
       "      <td>80.497101</td>\n",
       "      <td>...</td>\n",
       "      <td>0</td>\n",
       "      <td>1</td>\n",
       "      <td>1</td>\n",
       "      <td>0</td>\n",
       "      <td>0</td>\n",
       "      <td>0</td>\n",
       "      <td>1</td>\n",
       "      <td>0</td>\n",
       "      <td>0</td>\n",
       "      <td>0</td>\n",
       "    </tr>\n",
       "    <tr>\n",
       "      <th>121835</th>\n",
       "      <td>ENSG00000167747</td>\n",
       "      <td>0.008161</td>\n",
       "      <td>3.918438</td>\n",
       "      <td>113.968750</td>\n",
       "      <td>0.006877</td>\n",
       "      <td>4.759687</td>\n",
       "      <td>113.562500</td>\n",
       "      <td>0.006410</td>\n",
       "      <td>2.181562</td>\n",
       "      <td>84.190625</td>\n",
       "      <td>...</td>\n",
       "      <td>0</td>\n",
       "      <td>1</td>\n",
       "      <td>1</td>\n",
       "      <td>0</td>\n",
       "      <td>0</td>\n",
       "      <td>0</td>\n",
       "      <td>1</td>\n",
       "      <td>0</td>\n",
       "      <td>0</td>\n",
       "      <td>1</td>\n",
       "    </tr>\n",
       "    <tr>\n",
       "      <th>121836</th>\n",
       "      <td>ENSG00000167747</td>\n",
       "      <td>0.008044</td>\n",
       "      <td>3.191228</td>\n",
       "      <td>109.354386</td>\n",
       "      <td>0.007419</td>\n",
       "      <td>6.552982</td>\n",
       "      <td>123.263158</td>\n",
       "      <td>0.006472</td>\n",
       "      <td>2.540877</td>\n",
       "      <td>82.289474</td>\n",
       "      <td>...</td>\n",
       "      <td>0</td>\n",
       "      <td>1</td>\n",
       "      <td>0</td>\n",
       "      <td>1</td>\n",
       "      <td>0</td>\n",
       "      <td>1</td>\n",
       "      <td>0</td>\n",
       "      <td>0</td>\n",
       "      <td>0</td>\n",
       "      <td>0</td>\n",
       "    </tr>\n",
       "    <tr>\n",
       "      <th>121837</th>\n",
       "      <td>ENSG00000167747</td>\n",
       "      <td>0.008788</td>\n",
       "      <td>4.090577</td>\n",
       "      <td>105.807692</td>\n",
       "      <td>0.006907</td>\n",
       "      <td>8.702885</td>\n",
       "      <td>113.134615</td>\n",
       "      <td>0.008337</td>\n",
       "      <td>2.576731</td>\n",
       "      <td>78.536538</td>\n",
       "      <td>...</td>\n",
       "      <td>0</td>\n",
       "      <td>1</td>\n",
       "      <td>1</td>\n",
       "      <td>0</td>\n",
       "      <td>0</td>\n",
       "      <td>0</td>\n",
       "      <td>0</td>\n",
       "      <td>0</td>\n",
       "      <td>1</td>\n",
       "      <td>0</td>\n",
       "    </tr>\n",
       "  </tbody>\n",
       "</table>\n",
       "<p>121838 rows × 28 columns</p>\n",
       "</div>"
      ],
      "text/plain": [
       "                gene_id  Prev_Pos_mean_of_DT  Prev_Pos_mean_of_SD  \\\n",
       "0       ENSG00000004059             0.008264             4.223784   \n",
       "1       ENSG00000004059             0.006609             3.216424   \n",
       "2       ENSG00000004059             0.007570             2.940541   \n",
       "3       ENSG00000004059             0.010620             6.476350   \n",
       "4       ENSG00000004059             0.010701             6.415051   \n",
       "...                 ...                  ...                  ...   \n",
       "121833  ENSG00000167747             0.009594             3.294164   \n",
       "121834  ENSG00000167747             0.008393             4.511014   \n",
       "121835  ENSG00000167747             0.008161             3.918438   \n",
       "121836  ENSG00000167747             0.008044             3.191228   \n",
       "121837  ENSG00000167747             0.008788             4.090577   \n",
       "\n",
       "        Prev_Pos_mean_of_Mean  Curr_Pos_mean_of_DT  Curr_Pos_mean_of_SD  \\\n",
       "0                  123.702703             0.009373             7.382162   \n",
       "1                  109.681395             0.006813             3.226535   \n",
       "2                  105.475676             0.007416             3.642703   \n",
       "3                  129.355000             0.008632             2.899200   \n",
       "4                  117.924242             0.011479             5.870303   \n",
       "...                       ...                  ...                  ...   \n",
       "121833             118.232877             0.007300             4.929726   \n",
       "121834             110.969565             0.010305             9.105797   \n",
       "121835             113.968750             0.006877             4.759687   \n",
       "121836             109.354386             0.007419             6.552982   \n",
       "121837             105.807692             0.006907             8.702885   \n",
       "\n",
       "        Curr_Pos_mean_of_Mean  Next_Pos_mean_of_DT  Next_Pos_mean_of_SD  \\\n",
       "0                  125.913514             0.007345             4.386989   \n",
       "1                  107.889535             0.007710             3.016599   \n",
       "2                   98.947027             0.007555             2.087146   \n",
       "3                   97.836500             0.006102             2.236520   \n",
       "4                  121.954545             0.010019             4.260253   \n",
       "...                       ...                  ...                  ...   \n",
       "121833             116.342466             0.006555             4.005616   \n",
       "121834             114.927536             0.005568             3.644638   \n",
       "121835             113.562500             0.006410             2.181562   \n",
       "121836             123.263158             0.006472             2.540877   \n",
       "121837             113.134615             0.008337             2.576731   \n",
       "\n",
       "        Next_Pos_mean_of_Mean  ...  centre_2_A  centre_2_G  centre_5_A  \\\n",
       "0                   80.570270  ...           0           1           0   \n",
       "1                   94.290698  ...           1           0           0   \n",
       "2                   89.364324  ...           1           0           1   \n",
       "3                   89.154000  ...           1           0           1   \n",
       "4                   85.178788  ...           0           1           1   \n",
       "...                       ...  ...         ...         ...         ...   \n",
       "121833              82.004110  ...           0           1           1   \n",
       "121834              80.497101  ...           0           1           1   \n",
       "121835              84.190625  ...           0           1           1   \n",
       "121836              82.289474  ...           0           1           0   \n",
       "121837              78.536538  ...           0           1           1   \n",
       "\n",
       "        centre_5_C  centre_5_T  right_5_A  right_5_C  right_5_G  right_5_T  \\\n",
       "0                1           0          1          0          0          0   \n",
       "1                0           1          0          0          1          0   \n",
       "2                0           0          0          0          1          0   \n",
       "3                0           0          0          0          0          1   \n",
       "4                0           0          1          0          0          0   \n",
       "...            ...         ...        ...        ...        ...        ...   \n",
       "121833           0           0          0          0          0          1   \n",
       "121834           0           0          0          1          0          0   \n",
       "121835           0           0          0          1          0          0   \n",
       "121836           1           0          1          0          0          0   \n",
       "121837           0           0          0          0          0          1   \n",
       "\n",
       "        label  \n",
       "0           0  \n",
       "1           0  \n",
       "2           0  \n",
       "3           0  \n",
       "4           0  \n",
       "...       ...  \n",
       "121833      1  \n",
       "121834      0  \n",
       "121835      1  \n",
       "121836      0  \n",
       "121837      0  \n",
       "\n",
       "[121838 rows x 28 columns]"
      ]
     },
     "execution_count": 108,
     "metadata": {},
     "output_type": "execute_result"
    }
   ],
   "source": [
    "df2"
   ]
  },
  {
   "cell_type": "code",
   "execution_count": 109,
   "metadata": {},
   "outputs": [],
   "source": [
    "df2[\"id\"] = df2.index"
   ]
  },
  {
   "cell_type": "code",
   "execution_count": 110,
   "metadata": {},
   "outputs": [],
   "source": [
    "gene_ids = list(df2[\"gene_id\"].unique())"
   ]
  },
  {
   "cell_type": "code",
   "execution_count": 111,
   "metadata": {},
   "outputs": [],
   "source": [
    "train_ids, test_ids = train_test_split(gene_ids, train_size = 0.8)"
   ]
  },
  {
   "cell_type": "code",
   "execution_count": 112,
   "metadata": {},
   "outputs": [],
   "source": [
    "tuning_train_ids, tuning_val_ids = train_test_split(train_ids, train_size = 0.7)"
   ]
  },
  {
   "cell_type": "code",
   "execution_count": 113,
   "metadata": {},
   "outputs": [],
   "source": [
    "train_df = df2[df2[\"gene_id\"].isin(train_ids)]\n",
    "val_df = df2[df2[\"gene_id\"].isin(tuning_val_ids)]\n",
    "test_df = df2[df2[\"gene_id\"].isin(test_ids)]"
   ]
  },
  {
   "cell_type": "code",
   "execution_count": 114,
   "metadata": {},
   "outputs": [
    {
     "data": {
      "text/plain": [
       "array(['ENSG00000003056', 'ENSG00000001036', 'ENSG00000001630', ...,\n",
       "       'ENSG00000029363', 'ENSG00000284707', 'ENSG00000235823'],\n",
       "      dtype=object)"
      ]
     },
     "execution_count": 114,
     "metadata": {},
     "output_type": "execute_result"
    }
   ],
   "source": [
    "train_df.gene_id.unique()"
   ]
  },
  {
   "cell_type": "code",
   "execution_count": 115,
   "metadata": {},
   "outputs": [],
   "source": [
    "split_index = [-1 if x in val_df.id else 0 for x in train_df.id]\n",
    "pds = PredefinedSplit(test_fold = split_index)"
   ]
  },
  {
   "cell_type": "code",
   "execution_count": 116,
   "metadata": {},
   "outputs": [],
   "source": [
    "X_train = train_df.drop([\"gene_id\", \"label\"], axis = 1).to_numpy()\n",
    "y_train = train_df[[\"label\"]].to_numpy().ravel()\n",
    "\n",
    "X_val = val_df.drop([\"gene_id\", \"label\"], axis = 1).to_numpy()\n",
    "y_val = val_df[[\"label\"]].to_numpy().ravel()\n",
    "\n",
    "\n",
    "X_test = test_df.drop([\"gene_id\", \"label\"], axis = 1).to_numpy()\n",
    "y_test = test_df[[\"label\"]].to_numpy().ravel()"
   ]
  },
  {
   "cell_type": "code",
   "execution_count": 117,
   "metadata": {},
   "outputs": [],
   "source": [
    "params = {\n",
    "    'n_estimators': [100, 200, 500],\n",
    "    'learning_rate': [0.01,0.05,0.1],\n",
    "    'booster': ['gbtree'],\n",
    "    'reg_alpha': [0, 0.5, 1],\n",
    "    'reg_lambda': [0.5, 1, 5],\n",
    "    'base_score': [0.2, 0.5, 0.8],\n",
    "    'scale_pos_weight': [5,7,14]\n",
    "}"
   ]
  },
  {
   "cell_type": "code",
   "execution_count": 156,
   "metadata": {},
   "outputs": [],
   "source": [
    "from sklearn.metrics import precision_recall_curve, make_scorer, auc, roc_auc_score\n",
    "\n",
    "def pr_auc_score(y_true, y_score):\n",
    "    \"\"\"\n",
    "    Generates the Area Under the Curve for precision and recall.\n",
    "    \"\"\"\n",
    "    precision, recall, thresholds = precision_recall_curve(y_true, y_score)\n",
    "    return auc(recall, precision)\n",
    "\n",
    "pr_auc_scorer = make_scorer(pr_auc_score, greater_is_better=True,\n",
    "                            needs_proba=True)"
   ]
  },
  {
   "cell_type": "code",
   "execution_count": 145,
   "metadata": {},
   "outputs": [
    {
     "data": {
      "text/html": [
       "<style>#sk-container-id-16 {color: black;background-color: white;}#sk-container-id-16 pre{padding: 0;}#sk-container-id-16 div.sk-toggleable {background-color: white;}#sk-container-id-16 label.sk-toggleable__label {cursor: pointer;display: block;width: 100%;margin-bottom: 0;padding: 0.3em;box-sizing: border-box;text-align: center;}#sk-container-id-16 label.sk-toggleable__label-arrow:before {content: \"▸\";float: left;margin-right: 0.25em;color: #696969;}#sk-container-id-16 label.sk-toggleable__label-arrow:hover:before {color: black;}#sk-container-id-16 div.sk-estimator:hover label.sk-toggleable__label-arrow:before {color: black;}#sk-container-id-16 div.sk-toggleable__content {max-height: 0;max-width: 0;overflow: hidden;text-align: left;background-color: #f0f8ff;}#sk-container-id-16 div.sk-toggleable__content pre {margin: 0.2em;color: black;border-radius: 0.25em;background-color: #f0f8ff;}#sk-container-id-16 input.sk-toggleable__control:checked~div.sk-toggleable__content {max-height: 200px;max-width: 100%;overflow: auto;}#sk-container-id-16 input.sk-toggleable__control:checked~label.sk-toggleable__label-arrow:before {content: \"▾\";}#sk-container-id-16 div.sk-estimator input.sk-toggleable__control:checked~label.sk-toggleable__label {background-color: #d4ebff;}#sk-container-id-16 div.sk-label input.sk-toggleable__control:checked~label.sk-toggleable__label {background-color: #d4ebff;}#sk-container-id-16 input.sk-hidden--visually {border: 0;clip: rect(1px 1px 1px 1px);clip: rect(1px, 1px, 1px, 1px);height: 1px;margin: -1px;overflow: hidden;padding: 0;position: absolute;width: 1px;}#sk-container-id-16 div.sk-estimator {font-family: monospace;background-color: #f0f8ff;border: 1px dotted black;border-radius: 0.25em;box-sizing: border-box;margin-bottom: 0.5em;}#sk-container-id-16 div.sk-estimator:hover {background-color: #d4ebff;}#sk-container-id-16 div.sk-parallel-item::after {content: \"\";width: 100%;border-bottom: 1px solid gray;flex-grow: 1;}#sk-container-id-16 div.sk-label:hover label.sk-toggleable__label {background-color: #d4ebff;}#sk-container-id-16 div.sk-serial::before {content: \"\";position: absolute;border-left: 1px solid gray;box-sizing: border-box;top: 0;bottom: 0;left: 50%;z-index: 0;}#sk-container-id-16 div.sk-serial {display: flex;flex-direction: column;align-items: center;background-color: white;padding-right: 0.2em;padding-left: 0.2em;position: relative;}#sk-container-id-16 div.sk-item {position: relative;z-index: 1;}#sk-container-id-16 div.sk-parallel {display: flex;align-items: stretch;justify-content: center;background-color: white;position: relative;}#sk-container-id-16 div.sk-item::before, #sk-container-id-16 div.sk-parallel-item::before {content: \"\";position: absolute;border-left: 1px solid gray;box-sizing: border-box;top: 0;bottom: 0;left: 50%;z-index: -1;}#sk-container-id-16 div.sk-parallel-item {display: flex;flex-direction: column;z-index: 1;position: relative;background-color: white;}#sk-container-id-16 div.sk-parallel-item:first-child::after {align-self: flex-end;width: 50%;}#sk-container-id-16 div.sk-parallel-item:last-child::after {align-self: flex-start;width: 50%;}#sk-container-id-16 div.sk-parallel-item:only-child::after {width: 0;}#sk-container-id-16 div.sk-dashed-wrapped {border: 1px dashed gray;margin: 0 0.4em 0.5em 0.4em;box-sizing: border-box;padding-bottom: 0.4em;background-color: white;}#sk-container-id-16 div.sk-label label {font-family: monospace;font-weight: bold;display: inline-block;line-height: 1.2em;}#sk-container-id-16 div.sk-label-container {text-align: center;}#sk-container-id-16 div.sk-container {/* jupyter's `normalize.less` sets `[hidden] { display: none; }` but bootstrap.min.css set `[hidden] { display: none !important; }` so we also need the `!important` here to be able to override the default hidden behavior on the sphinx rendered scikit-learn.org. See: https://github.com/scikit-learn/scikit-learn/issues/21755 */display: inline-block !important;position: relative;}#sk-container-id-16 div.sk-text-repr-fallback {display: none;}</style><div id=\"sk-container-id-16\" class=\"sk-top-container\"><div class=\"sk-text-repr-fallback\"><pre>RandomizedSearchCV(cv=PredefinedSplit(test_fold=array([-1, -1, ..., -1, -1])),\n",
       "                   estimator=XGBClassifier(base_score=None, booster=None,\n",
       "                                           callbacks=None,\n",
       "                                           colsample_bylevel=None,\n",
       "                                           colsample_bynode=None,\n",
       "                                           colsample_bytree=None,\n",
       "                                           early_stopping_rounds=None,\n",
       "                                           enable_categorical=False,\n",
       "                                           eval_metric=None, gamma=None,\n",
       "                                           gpu_id=None, grow_policy=None,\n",
       "                                           importance_type=None,\n",
       "                                           interaction...\n",
       "                                           num_parallel_tree=None,\n",
       "                                           predictor=None, random_state=None,\n",
       "                                           reg_alpha=None, reg_lambda=None, ...),\n",
       "                   n_iter=200, n_jobs=-1,\n",
       "                   param_distributions={&#x27;base_score&#x27;: [0.2, 0.5, 0.8],\n",
       "                                        &#x27;booster&#x27;: [&#x27;gbtree&#x27;],\n",
       "                                        &#x27;learning_rate&#x27;: [0.01, 0.05, 0.1],\n",
       "                                        &#x27;n_estimators&#x27;: [100, 200, 500],\n",
       "                                        &#x27;reg_alpha&#x27;: [0, 0.5, 1],\n",
       "                                        &#x27;reg_lambda&#x27;: [0.5, 1, 5],\n",
       "                                        &#x27;scale_pos_weight&#x27;: [5, 7, 14, 21]},\n",
       "                   scoring=make_scorer(pr_auc_score, needs_proba=True))</pre><b>In a Jupyter environment, please rerun this cell to show the HTML representation or trust the notebook. <br />On GitHub, the HTML representation is unable to render, please try loading this page with nbviewer.org.</b></div><div class=\"sk-container\" hidden><div class=\"sk-item sk-dashed-wrapped\"><div class=\"sk-label-container\"><div class=\"sk-label sk-toggleable\"><input class=\"sk-toggleable__control sk-hidden--visually\" id=\"sk-estimator-id-34\" type=\"checkbox\" ><label for=\"sk-estimator-id-34\" class=\"sk-toggleable__label sk-toggleable__label-arrow\">RandomizedSearchCV</label><div class=\"sk-toggleable__content\"><pre>RandomizedSearchCV(cv=PredefinedSplit(test_fold=array([-1, -1, ..., -1, -1])),\n",
       "                   estimator=XGBClassifier(base_score=None, booster=None,\n",
       "                                           callbacks=None,\n",
       "                                           colsample_bylevel=None,\n",
       "                                           colsample_bynode=None,\n",
       "                                           colsample_bytree=None,\n",
       "                                           early_stopping_rounds=None,\n",
       "                                           enable_categorical=False,\n",
       "                                           eval_metric=None, gamma=None,\n",
       "                                           gpu_id=None, grow_policy=None,\n",
       "                                           importance_type=None,\n",
       "                                           interaction...\n",
       "                                           num_parallel_tree=None,\n",
       "                                           predictor=None, random_state=None,\n",
       "                                           reg_alpha=None, reg_lambda=None, ...),\n",
       "                   n_iter=200, n_jobs=-1,\n",
       "                   param_distributions={&#x27;base_score&#x27;: [0.2, 0.5, 0.8],\n",
       "                                        &#x27;booster&#x27;: [&#x27;gbtree&#x27;],\n",
       "                                        &#x27;learning_rate&#x27;: [0.01, 0.05, 0.1],\n",
       "                                        &#x27;n_estimators&#x27;: [100, 200, 500],\n",
       "                                        &#x27;reg_alpha&#x27;: [0, 0.5, 1],\n",
       "                                        &#x27;reg_lambda&#x27;: [0.5, 1, 5],\n",
       "                                        &#x27;scale_pos_weight&#x27;: [5, 7, 14, 21]},\n",
       "                   scoring=make_scorer(pr_auc_score, needs_proba=True))</pre></div></div></div><div class=\"sk-parallel\"><div class=\"sk-parallel-item\"><div class=\"sk-item\"><div class=\"sk-label-container\"><div class=\"sk-label sk-toggleable\"><input class=\"sk-toggleable__control sk-hidden--visually\" id=\"sk-estimator-id-35\" type=\"checkbox\" ><label for=\"sk-estimator-id-35\" class=\"sk-toggleable__label sk-toggleable__label-arrow\">estimator: XGBClassifier</label><div class=\"sk-toggleable__content\"><pre>XGBClassifier(base_score=None, booster=None, callbacks=None,\n",
       "              colsample_bylevel=None, colsample_bynode=None,\n",
       "              colsample_bytree=None, early_stopping_rounds=None,\n",
       "              enable_categorical=False, eval_metric=None, gamma=None,\n",
       "              gpu_id=None, grow_policy=None, importance_type=None,\n",
       "              interaction_constraints=None, learning_rate=None, max_bin=None,\n",
       "              max_cat_to_onehot=None, max_delta_step=None, max_depth=None,\n",
       "              max_leaves=None, min_child_weight=None, missing=nan,\n",
       "              monotone_constraints=None, n_estimators=100, n_jobs=None,\n",
       "              num_parallel_tree=None, predictor=None, random_state=None,\n",
       "              reg_alpha=None, reg_lambda=None, ...)</pre></div></div></div><div class=\"sk-serial\"><div class=\"sk-item\"><div class=\"sk-estimator sk-toggleable\"><input class=\"sk-toggleable__control sk-hidden--visually\" id=\"sk-estimator-id-36\" type=\"checkbox\" ><label for=\"sk-estimator-id-36\" class=\"sk-toggleable__label sk-toggleable__label-arrow\">XGBClassifier</label><div class=\"sk-toggleable__content\"><pre>XGBClassifier(base_score=None, booster=None, callbacks=None,\n",
       "              colsample_bylevel=None, colsample_bynode=None,\n",
       "              colsample_bytree=None, early_stopping_rounds=None,\n",
       "              enable_categorical=False, eval_metric=None, gamma=None,\n",
       "              gpu_id=None, grow_policy=None, importance_type=None,\n",
       "              interaction_constraints=None, learning_rate=None, max_bin=None,\n",
       "              max_cat_to_onehot=None, max_delta_step=None, max_depth=None,\n",
       "              max_leaves=None, min_child_weight=None, missing=nan,\n",
       "              monotone_constraints=None, n_estimators=100, n_jobs=None,\n",
       "              num_parallel_tree=None, predictor=None, random_state=None,\n",
       "              reg_alpha=None, reg_lambda=None, ...)</pre></div></div></div></div></div></div></div></div></div></div>"
      ],
      "text/plain": [
       "RandomizedSearchCV(cv=PredefinedSplit(test_fold=array([-1, -1, ..., -1, -1])),\n",
       "                   estimator=XGBClassifier(base_score=None, booster=None,\n",
       "                                           callbacks=None,\n",
       "                                           colsample_bylevel=None,\n",
       "                                           colsample_bynode=None,\n",
       "                                           colsample_bytree=None,\n",
       "                                           early_stopping_rounds=None,\n",
       "                                           enable_categorical=False,\n",
       "                                           eval_metric=None, gamma=None,\n",
       "                                           gpu_id=None, grow_policy=None,\n",
       "                                           importance_type=None,\n",
       "                                           interaction...\n",
       "                                           num_parallel_tree=None,\n",
       "                                           predictor=None, random_state=None,\n",
       "                                           reg_alpha=None, reg_lambda=None, ...),\n",
       "                   n_iter=200, n_jobs=-1,\n",
       "                   param_distributions={'base_score': [0.2, 0.5, 0.8],\n",
       "                                        'booster': ['gbtree'],\n",
       "                                        'learning_rate': [0.01, 0.05, 0.1],\n",
       "                                        'n_estimators': [100, 200, 500],\n",
       "                                        'reg_alpha': [0, 0.5, 1],\n",
       "                                        'reg_lambda': [0.5, 1, 5],\n",
       "                                        'scale_pos_weight': [5, 7, 14, 21]},\n",
       "                   scoring=make_scorer(pr_auc_score, needs_proba=True))"
      ]
     },
     "execution_count": 145,
     "metadata": {},
     "output_type": "execute_result"
    }
   ],
   "source": [
    "tuning_model = RandomizedSearchCV(XGBClassifier(), params, n_jobs=-1, cv=pds, scoring=pr_auc_scorer, n_iter = 200)\n",
    "tuning_model.fit(X_train, y_train)"
   ]
  },
  {
   "cell_type": "code",
   "execution_count": 151,
   "metadata": {},
   "outputs": [
    {
     "data": {
      "text/html": [
       "<div>\n",
       "<style scoped>\n",
       "    .dataframe tbody tr th:only-of-type {\n",
       "        vertical-align: middle;\n",
       "    }\n",
       "\n",
       "    .dataframe tbody tr th {\n",
       "        vertical-align: top;\n",
       "    }\n",
       "\n",
       "    .dataframe thead th {\n",
       "        text-align: right;\n",
       "    }\n",
       "</style>\n",
       "<table border=\"1\" class=\"dataframe\">\n",
       "  <thead>\n",
       "    <tr style=\"text-align: right;\">\n",
       "      <th></th>\n",
       "      <th>mean_fit_time</th>\n",
       "      <th>std_fit_time</th>\n",
       "      <th>mean_score_time</th>\n",
       "      <th>std_score_time</th>\n",
       "      <th>param_scale_pos_weight</th>\n",
       "      <th>param_reg_lambda</th>\n",
       "      <th>param_reg_alpha</th>\n",
       "      <th>param_n_estimators</th>\n",
       "      <th>param_learning_rate</th>\n",
       "      <th>param_booster</th>\n",
       "      <th>param_base_score</th>\n",
       "      <th>params</th>\n",
       "      <th>split0_test_score</th>\n",
       "      <th>mean_test_score</th>\n",
       "      <th>std_test_score</th>\n",
       "      <th>rank_test_score</th>\n",
       "    </tr>\n",
       "  </thead>\n",
       "  <tbody>\n",
       "    <tr>\n",
       "      <th>32</th>\n",
       "      <td>58.746427</td>\n",
       "      <td>0.0</td>\n",
       "      <td>1.050645</td>\n",
       "      <td>0.0</td>\n",
       "      <td>7</td>\n",
       "      <td>5</td>\n",
       "      <td>1</td>\n",
       "      <td>500</td>\n",
       "      <td>0.05</td>\n",
       "      <td>gbtree</td>\n",
       "      <td>0.8</td>\n",
       "      <td>{'scale_pos_weight': 7, 'reg_lambda': 5, 'reg_...</td>\n",
       "      <td>0.417267</td>\n",
       "      <td>0.417267</td>\n",
       "      <td>0.0</td>\n",
       "      <td>1</td>\n",
       "    </tr>\n",
       "    <tr>\n",
       "      <th>23</th>\n",
       "      <td>21.835581</td>\n",
       "      <td>0.0</td>\n",
       "      <td>0.393473</td>\n",
       "      <td>0.0</td>\n",
       "      <td>5</td>\n",
       "      <td>5</td>\n",
       "      <td>1</td>\n",
       "      <td>200</td>\n",
       "      <td>0.1</td>\n",
       "      <td>gbtree</td>\n",
       "      <td>0.5</td>\n",
       "      <td>{'scale_pos_weight': 5, 'reg_lambda': 5, 'reg_...</td>\n",
       "      <td>0.417127</td>\n",
       "      <td>0.417127</td>\n",
       "      <td>0.0</td>\n",
       "      <td>2</td>\n",
       "    </tr>\n",
       "    <tr>\n",
       "      <th>37</th>\n",
       "      <td>23.611649</td>\n",
       "      <td>0.0</td>\n",
       "      <td>0.419908</td>\n",
       "      <td>0.0</td>\n",
       "      <td>5</td>\n",
       "      <td>5</td>\n",
       "      <td>0.5</td>\n",
       "      <td>200</td>\n",
       "      <td>0.05</td>\n",
       "      <td>gbtree</td>\n",
       "      <td>0.2</td>\n",
       "      <td>{'scale_pos_weight': 5, 'reg_lambda': 5, 'reg_...</td>\n",
       "      <td>0.416963</td>\n",
       "      <td>0.416963</td>\n",
       "      <td>0.0</td>\n",
       "      <td>3</td>\n",
       "    </tr>\n",
       "    <tr>\n",
       "      <th>181</th>\n",
       "      <td>25.626804</td>\n",
       "      <td>0.0</td>\n",
       "      <td>0.414039</td>\n",
       "      <td>0.0</td>\n",
       "      <td>7</td>\n",
       "      <td>5</td>\n",
       "      <td>0.5</td>\n",
       "      <td>200</td>\n",
       "      <td>0.1</td>\n",
       "      <td>gbtree</td>\n",
       "      <td>0.5</td>\n",
       "      <td>{'scale_pos_weight': 7, 'reg_lambda': 5, 'reg_...</td>\n",
       "      <td>0.416938</td>\n",
       "      <td>0.416938</td>\n",
       "      <td>0.0</td>\n",
       "      <td>4</td>\n",
       "    </tr>\n",
       "    <tr>\n",
       "      <th>19</th>\n",
       "      <td>21.189486</td>\n",
       "      <td>0.0</td>\n",
       "      <td>0.368489</td>\n",
       "      <td>0.0</td>\n",
       "      <td>5</td>\n",
       "      <td>1</td>\n",
       "      <td>0.5</td>\n",
       "      <td>200</td>\n",
       "      <td>0.1</td>\n",
       "      <td>gbtree</td>\n",
       "      <td>0.2</td>\n",
       "      <td>{'scale_pos_weight': 5, 'reg_lambda': 1, 'reg_...</td>\n",
       "      <td>0.416721</td>\n",
       "      <td>0.416721</td>\n",
       "      <td>0.0</td>\n",
       "      <td>5</td>\n",
       "    </tr>\n",
       "    <tr>\n",
       "      <th>...</th>\n",
       "      <td>...</td>\n",
       "      <td>...</td>\n",
       "      <td>...</td>\n",
       "      <td>...</td>\n",
       "      <td>...</td>\n",
       "      <td>...</td>\n",
       "      <td>...</td>\n",
       "      <td>...</td>\n",
       "      <td>...</td>\n",
       "      <td>...</td>\n",
       "      <td>...</td>\n",
       "      <td>...</td>\n",
       "      <td>...</td>\n",
       "      <td>...</td>\n",
       "      <td>...</td>\n",
       "      <td>...</td>\n",
       "    </tr>\n",
       "    <tr>\n",
       "      <th>99</th>\n",
       "      <td>12.432519</td>\n",
       "      <td>0.0</td>\n",
       "      <td>0.229117</td>\n",
       "      <td>0.0</td>\n",
       "      <td>21</td>\n",
       "      <td>1</td>\n",
       "      <td>0.5</td>\n",
       "      <td>100</td>\n",
       "      <td>0.01</td>\n",
       "      <td>gbtree</td>\n",
       "      <td>0.8</td>\n",
       "      <td>{'scale_pos_weight': 21, 'reg_lambda': 1, 'reg...</td>\n",
       "      <td>0.359167</td>\n",
       "      <td>0.359167</td>\n",
       "      <td>0.0</td>\n",
       "      <td>196</td>\n",
       "    </tr>\n",
       "    <tr>\n",
       "      <th>84</th>\n",
       "      <td>13.160655</td>\n",
       "      <td>0.0</td>\n",
       "      <td>0.200321</td>\n",
       "      <td>0.0</td>\n",
       "      <td>14</td>\n",
       "      <td>1</td>\n",
       "      <td>0.5</td>\n",
       "      <td>100</td>\n",
       "      <td>0.01</td>\n",
       "      <td>gbtree</td>\n",
       "      <td>0.5</td>\n",
       "      <td>{'scale_pos_weight': 14, 'reg_lambda': 1, 'reg...</td>\n",
       "      <td>0.357775</td>\n",
       "      <td>0.357775</td>\n",
       "      <td>0.0</td>\n",
       "      <td>197</td>\n",
       "    </tr>\n",
       "    <tr>\n",
       "      <th>52</th>\n",
       "      <td>11.480281</td>\n",
       "      <td>0.0</td>\n",
       "      <td>0.219128</td>\n",
       "      <td>0.0</td>\n",
       "      <td>21</td>\n",
       "      <td>1</td>\n",
       "      <td>1</td>\n",
       "      <td>100</td>\n",
       "      <td>0.01</td>\n",
       "      <td>gbtree</td>\n",
       "      <td>0.8</td>\n",
       "      <td>{'scale_pos_weight': 21, 'reg_lambda': 1, 'reg...</td>\n",
       "      <td>0.357533</td>\n",
       "      <td>0.357533</td>\n",
       "      <td>0.0</td>\n",
       "      <td>198</td>\n",
       "    </tr>\n",
       "    <tr>\n",
       "      <th>12</th>\n",
       "      <td>10.479807</td>\n",
       "      <td>0.0</td>\n",
       "      <td>0.184090</td>\n",
       "      <td>0.0</td>\n",
       "      <td>21</td>\n",
       "      <td>0.5</td>\n",
       "      <td>1</td>\n",
       "      <td>100</td>\n",
       "      <td>0.01</td>\n",
       "      <td>gbtree</td>\n",
       "      <td>0.2</td>\n",
       "      <td>{'scale_pos_weight': 21, 'reg_lambda': 0.5, 'r...</td>\n",
       "      <td>0.344852</td>\n",
       "      <td>0.344852</td>\n",
       "      <td>0.0</td>\n",
       "      <td>199</td>\n",
       "    </tr>\n",
       "    <tr>\n",
       "      <th>141</th>\n",
       "      <td>13.135278</td>\n",
       "      <td>0.0</td>\n",
       "      <td>0.251593</td>\n",
       "      <td>0.0</td>\n",
       "      <td>21</td>\n",
       "      <td>5</td>\n",
       "      <td>0</td>\n",
       "      <td>100</td>\n",
       "      <td>0.01</td>\n",
       "      <td>gbtree</td>\n",
       "      <td>0.2</td>\n",
       "      <td>{'scale_pos_weight': 21, 'reg_lambda': 5, 'reg...</td>\n",
       "      <td>0.342957</td>\n",
       "      <td>0.342957</td>\n",
       "      <td>0.0</td>\n",
       "      <td>200</td>\n",
       "    </tr>\n",
       "  </tbody>\n",
       "</table>\n",
       "<p>200 rows × 16 columns</p>\n",
       "</div>"
      ],
      "text/plain": [
       "     mean_fit_time  std_fit_time  mean_score_time  std_score_time  \\\n",
       "32       58.746427           0.0         1.050645             0.0   \n",
       "23       21.835581           0.0         0.393473             0.0   \n",
       "37       23.611649           0.0         0.419908             0.0   \n",
       "181      25.626804           0.0         0.414039             0.0   \n",
       "19       21.189486           0.0         0.368489             0.0   \n",
       "..             ...           ...              ...             ...   \n",
       "99       12.432519           0.0         0.229117             0.0   \n",
       "84       13.160655           0.0         0.200321             0.0   \n",
       "52       11.480281           0.0         0.219128             0.0   \n",
       "12       10.479807           0.0         0.184090             0.0   \n",
       "141      13.135278           0.0         0.251593             0.0   \n",
       "\n",
       "    param_scale_pos_weight param_reg_lambda param_reg_alpha  \\\n",
       "32                       7                5               1   \n",
       "23                       5                5               1   \n",
       "37                       5                5             0.5   \n",
       "181                      7                5             0.5   \n",
       "19                       5                1             0.5   \n",
       "..                     ...              ...             ...   \n",
       "99                      21                1             0.5   \n",
       "84                      14                1             0.5   \n",
       "52                      21                1               1   \n",
       "12                      21              0.5               1   \n",
       "141                     21                5               0   \n",
       "\n",
       "    param_n_estimators param_learning_rate param_booster param_base_score  \\\n",
       "32                 500                0.05        gbtree              0.8   \n",
       "23                 200                 0.1        gbtree              0.5   \n",
       "37                 200                0.05        gbtree              0.2   \n",
       "181                200                 0.1        gbtree              0.5   \n",
       "19                 200                 0.1        gbtree              0.2   \n",
       "..                 ...                 ...           ...              ...   \n",
       "99                 100                0.01        gbtree              0.8   \n",
       "84                 100                0.01        gbtree              0.5   \n",
       "52                 100                0.01        gbtree              0.8   \n",
       "12                 100                0.01        gbtree              0.2   \n",
       "141                100                0.01        gbtree              0.2   \n",
       "\n",
       "                                                params  split0_test_score  \\\n",
       "32   {'scale_pos_weight': 7, 'reg_lambda': 5, 'reg_...           0.417267   \n",
       "23   {'scale_pos_weight': 5, 'reg_lambda': 5, 'reg_...           0.417127   \n",
       "37   {'scale_pos_weight': 5, 'reg_lambda': 5, 'reg_...           0.416963   \n",
       "181  {'scale_pos_weight': 7, 'reg_lambda': 5, 'reg_...           0.416938   \n",
       "19   {'scale_pos_weight': 5, 'reg_lambda': 1, 'reg_...           0.416721   \n",
       "..                                                 ...                ...   \n",
       "99   {'scale_pos_weight': 21, 'reg_lambda': 1, 'reg...           0.359167   \n",
       "84   {'scale_pos_weight': 14, 'reg_lambda': 1, 'reg...           0.357775   \n",
       "52   {'scale_pos_weight': 21, 'reg_lambda': 1, 'reg...           0.357533   \n",
       "12   {'scale_pos_weight': 21, 'reg_lambda': 0.5, 'r...           0.344852   \n",
       "141  {'scale_pos_weight': 21, 'reg_lambda': 5, 'reg...           0.342957   \n",
       "\n",
       "     mean_test_score  std_test_score  rank_test_score  \n",
       "32          0.417267             0.0                1  \n",
       "23          0.417127             0.0                2  \n",
       "37          0.416963             0.0                3  \n",
       "181         0.416938             0.0                4  \n",
       "19          0.416721             0.0                5  \n",
       "..               ...             ...              ...  \n",
       "99          0.359167             0.0              196  \n",
       "84          0.357775             0.0              197  \n",
       "52          0.357533             0.0              198  \n",
       "12          0.344852             0.0              199  \n",
       "141         0.342957             0.0              200  \n",
       "\n",
       "[200 rows x 16 columns]"
      ]
     },
     "execution_count": 151,
     "metadata": {},
     "output_type": "execute_result"
    }
   ],
   "source": [
    "(pd.DataFrame(tuning_model.cv_results_)).sort_values(by=['rank_test_score'])"
   ]
  },
  {
   "cell_type": "code",
   "execution_count": 149,
   "metadata": {},
   "outputs": [
    {
     "data": {
      "text/plain": [
       "{'scale_pos_weight': 7,\n",
       " 'reg_lambda': 5,\n",
       " 'reg_alpha': 1,\n",
       " 'n_estimators': 500,\n",
       " 'learning_rate': 0.05,\n",
       " 'booster': 'gbtree',\n",
       " 'base_score': 0.8}"
      ]
     },
     "execution_count": 149,
     "metadata": {},
     "output_type": "execute_result"
    }
   ],
   "source": [
    "tuning_model.best_params_"
   ]
  },
  {
   "cell_type": "code",
   "execution_count": 159,
   "metadata": {},
   "outputs": [
    {
     "data": {
      "text/html": [
       "<style>#sk-container-id-20 {color: black;background-color: white;}#sk-container-id-20 pre{padding: 0;}#sk-container-id-20 div.sk-toggleable {background-color: white;}#sk-container-id-20 label.sk-toggleable__label {cursor: pointer;display: block;width: 100%;margin-bottom: 0;padding: 0.3em;box-sizing: border-box;text-align: center;}#sk-container-id-20 label.sk-toggleable__label-arrow:before {content: \"▸\";float: left;margin-right: 0.25em;color: #696969;}#sk-container-id-20 label.sk-toggleable__label-arrow:hover:before {color: black;}#sk-container-id-20 div.sk-estimator:hover label.sk-toggleable__label-arrow:before {color: black;}#sk-container-id-20 div.sk-toggleable__content {max-height: 0;max-width: 0;overflow: hidden;text-align: left;background-color: #f0f8ff;}#sk-container-id-20 div.sk-toggleable__content pre {margin: 0.2em;color: black;border-radius: 0.25em;background-color: #f0f8ff;}#sk-container-id-20 input.sk-toggleable__control:checked~div.sk-toggleable__content {max-height: 200px;max-width: 100%;overflow: auto;}#sk-container-id-20 input.sk-toggleable__control:checked~label.sk-toggleable__label-arrow:before {content: \"▾\";}#sk-container-id-20 div.sk-estimator input.sk-toggleable__control:checked~label.sk-toggleable__label {background-color: #d4ebff;}#sk-container-id-20 div.sk-label input.sk-toggleable__control:checked~label.sk-toggleable__label {background-color: #d4ebff;}#sk-container-id-20 input.sk-hidden--visually {border: 0;clip: rect(1px 1px 1px 1px);clip: rect(1px, 1px, 1px, 1px);height: 1px;margin: -1px;overflow: hidden;padding: 0;position: absolute;width: 1px;}#sk-container-id-20 div.sk-estimator {font-family: monospace;background-color: #f0f8ff;border: 1px dotted black;border-radius: 0.25em;box-sizing: border-box;margin-bottom: 0.5em;}#sk-container-id-20 div.sk-estimator:hover {background-color: #d4ebff;}#sk-container-id-20 div.sk-parallel-item::after {content: \"\";width: 100%;border-bottom: 1px solid gray;flex-grow: 1;}#sk-container-id-20 div.sk-label:hover label.sk-toggleable__label {background-color: #d4ebff;}#sk-container-id-20 div.sk-serial::before {content: \"\";position: absolute;border-left: 1px solid gray;box-sizing: border-box;top: 0;bottom: 0;left: 50%;z-index: 0;}#sk-container-id-20 div.sk-serial {display: flex;flex-direction: column;align-items: center;background-color: white;padding-right: 0.2em;padding-left: 0.2em;position: relative;}#sk-container-id-20 div.sk-item {position: relative;z-index: 1;}#sk-container-id-20 div.sk-parallel {display: flex;align-items: stretch;justify-content: center;background-color: white;position: relative;}#sk-container-id-20 div.sk-item::before, #sk-container-id-20 div.sk-parallel-item::before {content: \"\";position: absolute;border-left: 1px solid gray;box-sizing: border-box;top: 0;bottom: 0;left: 50%;z-index: -1;}#sk-container-id-20 div.sk-parallel-item {display: flex;flex-direction: column;z-index: 1;position: relative;background-color: white;}#sk-container-id-20 div.sk-parallel-item:first-child::after {align-self: flex-end;width: 50%;}#sk-container-id-20 div.sk-parallel-item:last-child::after {align-self: flex-start;width: 50%;}#sk-container-id-20 div.sk-parallel-item:only-child::after {width: 0;}#sk-container-id-20 div.sk-dashed-wrapped {border: 1px dashed gray;margin: 0 0.4em 0.5em 0.4em;box-sizing: border-box;padding-bottom: 0.4em;background-color: white;}#sk-container-id-20 div.sk-label label {font-family: monospace;font-weight: bold;display: inline-block;line-height: 1.2em;}#sk-container-id-20 div.sk-label-container {text-align: center;}#sk-container-id-20 div.sk-container {/* jupyter's `normalize.less` sets `[hidden] { display: none; }` but bootstrap.min.css set `[hidden] { display: none !important; }` so we also need the `!important` here to be able to override the default hidden behavior on the sphinx rendered scikit-learn.org. See: https://github.com/scikit-learn/scikit-learn/issues/21755 */display: inline-block !important;position: relative;}#sk-container-id-20 div.sk-text-repr-fallback {display: none;}</style><div id=\"sk-container-id-20\" class=\"sk-top-container\"><div class=\"sk-text-repr-fallback\"><pre>XGBClassifier(base_score=0.8, booster=&#x27;gbtree&#x27;, callbacks=None,\n",
       "              colsample_bylevel=1, colsample_bynode=1, colsample_bytree=1,\n",
       "              early_stopping_rounds=None, enable_categorical=False,\n",
       "              eval_metric=None, gamma=0, gpu_id=-1, grow_policy=&#x27;depthwise&#x27;,\n",
       "              importance_type=None, interaction_constraints=&#x27;&#x27;,\n",
       "              learning_rate=0.05, max_bin=256, max_cat_to_onehot=4,\n",
       "              max_delta_step=0, max_depth=6, max_leaves=0, min_child_weight=1,\n",
       "              missing=nan, monotone_constraints=&#x27;()&#x27;, n_estimators=500,\n",
       "              n_jobs=0, num_parallel_tree=1, predictor=&#x27;auto&#x27;, random_state=0,\n",
       "              reg_alpha=1, reg_lambda=5, ...)</pre><b>In a Jupyter environment, please rerun this cell to show the HTML representation or trust the notebook. <br />On GitHub, the HTML representation is unable to render, please try loading this page with nbviewer.org.</b></div><div class=\"sk-container\" hidden><div class=\"sk-item\"><div class=\"sk-estimator sk-toggleable\"><input class=\"sk-toggleable__control sk-hidden--visually\" id=\"sk-estimator-id-40\" type=\"checkbox\" checked><label for=\"sk-estimator-id-40\" class=\"sk-toggleable__label sk-toggleable__label-arrow\">XGBClassifier</label><div class=\"sk-toggleable__content\"><pre>XGBClassifier(base_score=0.8, booster=&#x27;gbtree&#x27;, callbacks=None,\n",
       "              colsample_bylevel=1, colsample_bynode=1, colsample_bytree=1,\n",
       "              early_stopping_rounds=None, enable_categorical=False,\n",
       "              eval_metric=None, gamma=0, gpu_id=-1, grow_policy=&#x27;depthwise&#x27;,\n",
       "              importance_type=None, interaction_constraints=&#x27;&#x27;,\n",
       "              learning_rate=0.05, max_bin=256, max_cat_to_onehot=4,\n",
       "              max_delta_step=0, max_depth=6, max_leaves=0, min_child_weight=1,\n",
       "              missing=nan, monotone_constraints=&#x27;()&#x27;, n_estimators=500,\n",
       "              n_jobs=0, num_parallel_tree=1, predictor=&#x27;auto&#x27;, random_state=0,\n",
       "              reg_alpha=1, reg_lambda=5, ...)</pre></div></div></div></div></div>"
      ],
      "text/plain": [
       "XGBClassifier(base_score=0.8, booster='gbtree', callbacks=None,\n",
       "              colsample_bylevel=1, colsample_bynode=1, colsample_bytree=1,\n",
       "              early_stopping_rounds=None, enable_categorical=False,\n",
       "              eval_metric=None, gamma=0, gpu_id=-1, grow_policy='depthwise',\n",
       "              importance_type=None, interaction_constraints='',\n",
       "              learning_rate=0.05, max_bin=256, max_cat_to_onehot=4,\n",
       "              max_delta_step=0, max_depth=6, max_leaves=0, min_child_weight=1,\n",
       "              missing=nan, monotone_constraints='()', n_estimators=500,\n",
       "              n_jobs=0, num_parallel_tree=1, predictor='auto', random_state=0,\n",
       "              reg_alpha=1, reg_lambda=5, ...)"
      ]
     },
     "execution_count": 159,
     "metadata": {},
     "output_type": "execute_result"
    }
   ],
   "source": [
    "model = XGBClassifier(scale_pos_weight=5, reg_lambda= 5, reg_alpha= 1, n_estimators= 500,learning_rate= 0.05,booster= 'gbtree',base_score= 0.8)\n",
    "model.fit(X_train, y_train)"
   ]
  },
  {
   "cell_type": "code",
   "execution_count": 68,
   "metadata": {},
   "outputs": [
    {
     "name": "stdout",
     "output_type": "stream",
     "text": [
      "              precision    recall  f1-score   support\n",
      "\n",
      "           0       0.98      0.97      0.97     23834\n",
      "           1       0.45      0.52      0.48      1100\n",
      "\n",
      "    accuracy                           0.95     24934\n",
      "   macro avg       0.71      0.74      0.73     24934\n",
      "weighted avg       0.95      0.95      0.95     24934\n",
      "\n"
     ]
    }
   ],
   "source": [
    "# hyperparams : XGBClassifier(reg_lambda= 5, reg_alpha= 1, n_estimators= 200,learning_rate= 0.05,booster= 'gbtree',base_score= 0.2, scale_pos_weight=5)\n",
    "y_pred=model.predict(X_test)\n",
    "print(classification_report(y_test, y_pred))"
   ]
  },
  {
   "cell_type": "code",
   "execution_count": 35,
   "metadata": {},
   "outputs": [
    {
     "name": "stdout",
     "output_type": "stream",
     "text": [
      "              precision    recall  f1-score   support\n",
      "\n",
      "           0       0.98      0.97      0.97     24382\n",
      "           1       0.42      0.50      0.46      1087\n",
      "\n",
      "    accuracy                           0.95     25469\n",
      "   macro avg       0.70      0.74      0.71     25469\n",
      "weighted avg       0.95      0.95      0.95     25469\n",
      "\n"
     ]
    }
   ],
   "source": [
    "# hyperparams: XGBClassifier(reg_lambda= 1, reg_alpha= 1, n_estimators= 200,learning_rate= 0.05,booster= 'gbtree',base_score= 0.8, scale_pos_weight=5)\n",
    "y_pred=model.predict(X_test)\n",
    "print(classification_report(y_test, y_pred))"
   ]
  },
  {
   "cell_type": "code",
   "execution_count": 86,
   "metadata": {},
   "outputs": [
    {
     "name": "stdout",
     "output_type": "stream",
     "text": [
      "              precision    recall  f1-score   support\n",
      "\n",
      "           0       0.98      0.97      0.98     25373\n",
      "           1       0.42      0.49      0.45      1034\n",
      "\n",
      "    accuracy                           0.95     26407\n",
      "   macro avg       0.70      0.73      0.71     26407\n",
      "weighted avg       0.96      0.95      0.96     26407\n",
      "\n"
     ]
    }
   ],
   "source": [
    "# hyperparams: XGBClassifier(reg_lambda= 5, reg_alpha= 5, n_estimators= 100,learning_rate= 0.05,booster= 'gbtree',base_score= 0.2, scale_pos_weight=5)\n",
    "y_pred=model.predict(X_test)\n",
    "print(classification_report(y_test, y_pred))"
   ]
  },
  {
   "cell_type": "code",
   "execution_count": 39,
   "metadata": {},
   "outputs": [
    {
     "name": "stdout",
     "output_type": "stream",
     "text": [
      "              precision    recall  f1-score   support\n",
      "\n",
      "           0       0.98      0.97      0.97     23154\n",
      "           1       0.49      0.53      0.51      1151\n",
      "\n",
      "    accuracy                           0.95     24305\n",
      "   macro avg       0.73      0.75      0.74     24305\n",
      "weighted avg       0.95      0.95      0.95     24305\n",
      "\n"
     ]
    }
   ],
   "source": [
    "# hyperparams: XGBClassifier(reg_lambda= 1, reg_alpha= 0.5, n_estimators= 100,learning_rate= 0.1,booster= 'gbtree',base_score= 0.8, scale_pos_weight=5) (auc, no SDS)\n",
    "y_pred=model.predict(X_test)\n",
    "print(classification_report(y_test, y_pred))"
   ]
  },
  {
   "cell_type": "code",
   "execution_count": 89,
   "metadata": {},
   "outputs": [
    {
     "name": "stdout",
     "output_type": "stream",
     "text": [
      "              precision    recall  f1-score   support\n",
      "\n",
      "           0       0.98      0.97      0.97     21814\n",
      "           1       0.43      0.56      0.49       963\n",
      "\n",
      "    accuracy                           0.95     22777\n",
      "   macro avg       0.71      0.77      0.73     22777\n",
      "weighted avg       0.96      0.95      0.95     22777\n",
      "\n"
     ]
    }
   ],
   "source": [
    "# hyperparams: XGBClassifier(reg_lambda= 1, reg_alpha= 0.5, n_estimators= 200,learning_rate= 0.05,booster= 'gbtree',base_score= 0.5, scale_pos_weight=5) (AUC-ROC, added sds)\n",
    "y_pred=model.predict(X_test)\n",
    "print(classification_report(y_test, y_pred))"
   ]
  },
  {
   "cell_type": "code",
   "execution_count": 144,
   "metadata": {},
   "outputs": [
    {
     "name": "stdout",
     "output_type": "stream",
     "text": [
      "              precision    recall  f1-score   support\n",
      "\n",
      "           0       0.97      0.97      0.97     21762\n",
      "           1       0.54      0.53      0.53      1227\n",
      "\n",
      "    accuracy                           0.95     22989\n",
      "   macro avg       0.76      0.75      0.75     22989\n",
      "weighted avg       0.95      0.95      0.95     22989\n",
      "\n"
     ]
    }
   ],
   "source": [
    "#hyperparams: XGBClassifier(reg_lambda= 5, reg_alpha= 0, n_estimators= 500,learning_rate= 0.05,booster= 'gbtree',base_score= 0.2, scale_pos_weight=5) (PR-AUC, NO SD)\n",
    "y_pred=model.predict(X_test)\n",
    "print(classification_report(y_test, y_pred))"
   ]
  },
  {
   "cell_type": "code",
   "execution_count": 148,
   "metadata": {},
   "outputs": [
    {
     "name": "stdout",
     "output_type": "stream",
     "text": [
      "              precision    recall  f1-score   support\n",
      "\n",
      "           0       0.98      0.97      0.97     21762\n",
      "           1       0.49      0.56      0.53      1227\n",
      "\n",
      "    accuracy                           0.95     22989\n",
      "   macro avg       0.73      0.76      0.75     22989\n",
      "weighted avg       0.95      0.95      0.95     22989\n",
      "\n"
     ]
    }
   ],
   "source": [
    "#hyperparams: XGBClassifier(scale_pos_weight=7, reg_lambda= 5, reg_alpha= 1, n_estimators= 500,learning_rate= 0.05,booster= 'gbtree',base_score= 0.8) (PR-AUC no SD more hyperparams)\n",
    "y_pred=model.predict(X_test)\n",
    "print(classification_report(y_test, y_pred))"
   ]
  },
  {
   "cell_type": "code",
   "execution_count": 160,
   "metadata": {},
   "outputs": [
    {
     "name": "stdout",
     "output_type": "stream",
     "text": [
      "0.7504522137576795\n",
      "              precision    recall  f1-score   support\n",
      "\n",
      "           0       0.97      0.98      0.97     21762\n",
      "           1       0.54      0.53      0.54      1227\n",
      "\n",
      "    accuracy                           0.95     22989\n",
      "   macro avg       0.76      0.75      0.75     22989\n",
      "weighted avg       0.95      0.95      0.95     22989\n",
      "\n"
     ]
    }
   ],
   "source": [
    "#hyperparams: XGBClassifier(scale_pos_weight=5, reg_lambda= 5, reg_alpha= 1, n_estimators= 500,learning_rate= 0.05,booster= 'gbtree',base_score= 0.8) (PR-AUC no SD)\n",
    "y_pred=model.predict(X_test)\n",
    "print(roc_auc_score(y_test, y_pred))\n",
    "print(classification_report(y_test, y_pred)) #BEST SO FAR"
   ]
  },
  {
   "cell_type": "markdown",
   "metadata": {},
   "source": [
    "# EDA"
   ]
  },
  {
   "cell_type": "code",
   "execution_count": 161,
   "metadata": {},
   "outputs": [
    {
     "data": {
      "text/plain": [
       "<BarContainer object of 27 artists>"
      ]
     },
     "execution_count": 161,
     "metadata": {},
     "output_type": "execute_result"
    },
    {
     "data": {
      "image/png": "[encoded data removed]",
      "text/plain": [
       "<Figure size 432x288 with 1 Axes>"
      ]
     },
     "metadata": {
      "needs_background": "light"
     },
     "output_type": "display_data"
    }
   ],
   "source": [
    "from sklearn.inspection import permutation_importance\n",
    "from matplotlib import pyplot as plt\n",
    "model.feature_importances_\n",
    "plt.barh(train_df.drop([\"gene_id\", \"label\"], axis = 1).columns, model.feature_importances_)"
   ]
  },
  {
   "cell_type": "code",
   "execution_count": 44,
   "metadata": {},
   "outputs": [
    {
     "data": {
      "text/plain": [
       "Index(['Prev_Pos_DT', 'Prev_Pos_SD', 'Prev_Pos_Mean', 'Curr_Pos_DT',\n",
       "       'Curr_Pos_SD', 'Curr_Pos_Mean', 'Next_Pos_DT', 'Next_Pos_SD',\n",
       "       'Next_Pos_Mean', 'n_reads', 'left_1_A', 'left_1_C', 'left_1_G',\n",
       "       'left_1_T', 'centre_1_A', 'centre_1_G', 'centre_1_T', 'centre_2_A',\n",
       "       'centre_2_G', 'centre_5_A', 'centre_5_C', 'centre_5_T', 'right_5_A',\n",
       "       'right_5_C', 'right_5_G', 'right_5_T', 'id'],\n",
       "      dtype='object')"
      ]
     },
     "execution_count": 44,
     "metadata": {},
     "output_type": "execute_result"
    }
   ],
   "source": [
    "train_df.drop([\"gene_id\", \"label\"], axis = 1).columns"
   ]
  }
 ],
 "metadata": {
  "kernelspec": {
   "display_name": "Python 3.9.13 ('news_matching_miniforge')",
   "language": "python",
   "name": "python3"
  },
  "language_info": {
   "codemirror_mode": {
    "name": "ipython",
    "version": 3
   },
   "file_extension": ".py",
   "mimetype": "text/x-python",
   "name": "python",
   "nbconvert_exporter": "python",
   "pygments_lexer": "ipython3",
   "version": "3.9.13"
  },
  "orig_nbformat": 4,
  "vscode": {
   "interpreter": {
    "hash": "36dc9dd54c8932b132aa6270041c7e0660e9d3724e4f25449051b7924bd4a509"
   }
  }
 },
 "nbformat": 4,
 "nbformat_minor": 2
}
