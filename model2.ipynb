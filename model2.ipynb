{
 "cells": [
  {
   "cell_type": "code",
   "execution_count": 83,
   "metadata": {},
   "outputs": [],
   "source": [
    "import pandas as pd\n",
    "import numpy as np\n",
    "from sklearn.model_selection import train_test_split\n",
    "from statistics import variance, median\n",
    "from tqdm import tqdm\n",
    "from sklearn.ensemble import RandomForestClassifier\n",
    "from xgboost import XGBClassifier\n",
    "from sklearn import metrics\n",
    "from sklearn.metrics import classification_report\n",
    "from sklearn.metrics import confusion_matrix\n",
    "import imblearn\n",
    "from collections import Counter\n",
    "from imblearn.over_sampling import SMOTE\n",
    "from imblearn.over_sampling import RandomOverSampler\n",
    "from sklearn.model_selection import RandomizedSearchCV\n",
    "from sklearn.model_selection import PredefinedSplit"
   ]
  },
  {
   "cell_type": "code",
   "execution_count": 84,
   "metadata": {},
   "outputs": [
    {
     "data": {
      "application/vnd.jupyter.widget-view+json": {
       "model_id": "bb197be73cb14c4faecfa5a2cfc20ff5",
       "version_major": 2,
       "version_minor": 0
      },
      "text/plain": [
       "Output()"
      ]
     },
     "metadata": {},
     "output_type": "display_data"
    },
    {
     "data": {
      "text/html": [
       "<pre style=\"white-space:pre;overflow-x:auto;line-height:normal;font-family:Menlo,'DejaVu Sans Mono',consolas,'Courier New',monospace\"></pre>\n"
      ],
      "text/plain": []
     },
     "metadata": {},
     "output_type": "display_data"
    },
    {
     "data": {
      "text/html": [
       "<pre style=\"white-space:pre;overflow-x:auto;line-height:normal;font-family:Menlo,'DejaVu Sans Mono',consolas,'Courier New',monospace\">\n",
       "</pre>\n"
      ],
      "text/plain": [
       "\n"
      ]
     },
     "metadata": {},
     "output_type": "display_data"
    }
   ],
   "source": [
    "import json\n",
    "import rich.progress\n",
    "\n",
    "with rich.progress.open(\"data/data.json\", \"rb\") as file:\n",
    "    json_data = [json.loads(line) for line in file]"
   ]
  },
  {
   "cell_type": "code",
   "execution_count": 85,
   "metadata": {},
   "outputs": [],
   "source": [
    "label_df = pd.read_csv(\"data/data.info\")"
   ]
  },
  {
   "cell_type": "code",
   "execution_count": 86,
   "metadata": {},
   "outputs": [
    {
     "name": "stderr",
     "output_type": "stream",
     "text": [
      "100%|██████████| 121838/121838 [00:20<00:00, 6088.06it/s]\n"
     ]
    }
   ],
   "source": [
    "all_rows = []\n",
    "\n",
    "for list_index in tqdm(range(len(json_data))):\n",
    "    #print(json_data[list_index])\n",
    "    for gene_id in json_data[list_index]:\n",
    "        for pos in json_data[list_index][gene_id]:\n",
    "            for bases in json_data[list_index][gene_id][pos]:\n",
    "                reads = json_data[list_index][gene_id][pos][bases]\n",
    "                #avg_reads = [sum(x)/len(x) for x in zip(*reads)]\n",
    "                median_reads = [median(x) for x in zip(*reads)]\n",
    "                #variance_reads = [variance(x) for x in zip(*reads)]\n",
    "                #first_qrt_reads = [np.percentile(x, 25) for x in zip(*reads)]\n",
    "                #third_qrt_reads = [np.percentile(x, 75) for x in zip(*reads)]\n",
    "                n_reads = [len(reads)]\n",
    "                one_row = [gene_id, int(pos), bases] + median_reads + n_reads\n",
    "                all_rows.append(one_row)"
   ]
  },
  {
   "cell_type": "code",
   "execution_count": 87,
   "metadata": {},
   "outputs": [],
   "source": [
    "df = pd.DataFrame(all_rows, columns =['transcript_id', 'transcript_position', 'bases', \n",
    "'Prev_Pos_median_of_DT', 'Prev_Pos_median_of_SD', 'Prev_Pos_median_of_Mean', \n",
    "'Curr_Pos_median_of_DT', 'Curr_Pos_median_of_SD', 'Curr_Pos_median_of_Mean',\n",
    "'Next_Pos_median_of_DT', 'Next_Pos_median_of_SD', 'Next_Pos_median_of_Mean',\n",
    "\n",
    "#'Prev_Pos_median_of_DT', 'Prev_Pos_median_of_SD', 'Prev_Pos_median_of_Mean', \n",
    "#'Curr_Pos_median_of_DT', 'Curr_Pos_median_of_SD', 'Curr_Pos_median_of_Mean',\n",
    "#'Next_Pos_median_of_DT', 'Next_Pos_median_of_SD', 'Next_Pos_median_of_Mean',\n",
    "\n",
    "\n",
    "#'Prev_Pos_sd_of_DT', 'Prev_Pos_sd_of_SD', 'Prev_Pos_sd_of_Mean', \n",
    "#'Curr_Pos_sd_of_DT', 'Curr_Pos_sd_of_SD', 'Curr_Pos_sd_of_Mean',\n",
    "#'Next_Pos_sd_of_DT', 'Next_Pos_sd_of_SD', 'Next_Pos_sd_of_Mean', \n",
    "\n",
    "#'Prev_Pos_first_qrt_of_DT', 'Prev_Pos_first_qrt_of_SD', 'Prev_Pos_first_qrt_of_Mean', \n",
    "#'Curr_Pos_first_qrt_of_DT', 'Curr_Pos_first_qrt_of_SD', 'Curr_Pos_first_qrt_of_Mean',\n",
    "#'Next_Pos_first_qrt_of_DT', 'Next_Pos_first_qrt_of_SD', 'Next_Pos_first_qrt_of_Mean',\n",
    "\n",
    "#'Prev_Pos_third_qrt_of_DT', 'Prev_Pos_third_qrt_of_SD', 'Prev_Pos_third_qrt_of_Mean', \n",
    "#'Curr_Pos_third_qrt_of_DT', 'Curr_Pos_third_qrt_of_SD', 'Curr_Pos_third_qrt_of_Mean',\n",
    "#'Next_Pos_third_qrt_of_DT', 'Next_Pos_third_qrt_of_SD', 'Next_Pos_third_qrt_of_Mean',\n",
    "\n",
    "'n_reads'])\n",
    "\n",
    "df = df.merge(label_df, how = 'left', on = ['transcript_id', 'transcript_position'])"
   ]
  },
  {
   "cell_type": "code",
   "execution_count": 88,
   "metadata": {},
   "outputs": [],
   "source": [
    "df[\"left_1\"] = df[\"bases\"].apply(lambda x: x[0])\n",
    "df[\"curr_pos_bases\"] = df[\"bases\"].apply(lambda x: x[1:6])\n",
    "df[\"right_5\"] = df[\"bases\"].apply(lambda x: x[6])"
   ]
  },
  {
   "cell_type": "code",
   "execution_count": 89,
   "metadata": {},
   "outputs": [],
   "source": [
    "df[\"centre_1\"] = df[\"curr_pos_bases\"].apply(lambda x: x[0])\n",
    "df[\"centre_2\"] = df[\"curr_pos_bases\"].apply(lambda x: x[1])\n",
    "df[\"centre_3\"] = df[\"curr_pos_bases\"].apply(lambda x: x[2])\n",
    "df[\"centre_4\"] = df[\"curr_pos_bases\"].apply(lambda x: x[3])\n",
    "df[\"centre_5\"] = df[\"curr_pos_bases\"].apply(lambda x: x[4])"
   ]
  },
  {
   "cell_type": "code",
   "execution_count": 90,
   "metadata": {},
   "outputs": [],
   "source": [
    "df[\"A_count\"] = df[\"bases\"].apply(lambda x: x.count('A'))\n",
    "df[\"G_count\"] = df[\"bases\"].apply(lambda x: x.count('G'))\n",
    "df[\"C_count\"] = df[\"bases\"].apply(lambda x: x.count('C'))\n",
    "df[\"T_count\"] = df[\"bases\"].apply(lambda x: x.count('T'))"
   ]
  },
  {
   "cell_type": "code",
   "execution_count": 92,
   "metadata": {},
   "outputs": [],
   "source": [
    "categorical_cols = ['left_1', 'centre_1', 'centre_2', 'centre_3', 'centre_4', 'centre_5', 'right_5']\n",
    "\n",
    "\n",
    "df = pd.get_dummies(df, columns = categorical_cols)"
   ]
  },
  {
   "cell_type": "code",
   "execution_count": 94,
   "metadata": {},
   "outputs": [
    {
     "data": {
      "text/plain": [
       "Index(['transcript_id', 'transcript_position', 'bases',\n",
       "       'Prev_Pos_median_of_DT', 'Prev_Pos_median_of_SD',\n",
       "       'Prev_Pos_median_of_Mean', 'Curr_Pos_median_of_DT',\n",
       "       'Curr_Pos_median_of_SD', 'Curr_Pos_median_of_Mean',\n",
       "       'Next_Pos_median_of_DT', 'Next_Pos_median_of_SD',\n",
       "       'Next_Pos_median_of_Mean', 'n_reads', 'gene_id', 'label',\n",
       "       'curr_pos_bases', 'A_count', 'G_count', 'C_count', 'T_count',\n",
       "       'left_1_A', 'left_1_C', 'left_1_G', 'left_1_T', 'centre_1_A',\n",
       "       'centre_1_G', 'centre_1_T', 'centre_2_A', 'centre_2_G', 'centre_3_A',\n",
       "       'centre_4_C', 'centre_5_A', 'centre_5_C', 'centre_5_T', 'right_5_A',\n",
       "       'right_5_C', 'right_5_G', 'right_5_T'],\n",
       "      dtype='object')"
      ]
     },
     "execution_count": 94,
     "metadata": {},
     "output_type": "execute_result"
    }
   ],
   "source": [
    "df.columns"
   ]
  },
  {
   "cell_type": "code",
   "execution_count": 95,
   "metadata": {},
   "outputs": [],
   "source": [
    "expected_columns = ['left_1_A', 'left_1_C', 'left_1_G', 'left_1_T',\n",
    "                    'centre_1_A', 'centre_1_G', 'centre_1_T', \n",
    "                    'centre_2_A', 'centre_2_G', \n",
    "                    #'centre_3_A',\n",
    "                    #'centre_4_C',\n",
    "                    'centre_5_A', 'centre_5_C', 'centre_5_T',\n",
    "                    'right_5_A', 'right_5_C', 'right_5_G', 'right_5_T']"
   ]
  },
  {
   "cell_type": "code",
   "execution_count": 96,
   "metadata": {},
   "outputs": [],
   "source": [
    "added_cols = []\n",
    "df_cols = df.columns\n",
    "for col in expected_columns:\n",
    "    if col not in df_cols:\n",
    "        df[col] = [0 for i in range(len(df))]\n",
    "        added_cols.append(col)"
   ]
  },
  {
   "cell_type": "code",
   "execution_count": 97,
   "metadata": {},
   "outputs": [],
   "source": [
    "ordered_columns = ['transcript_id', 'transcript_position', 'bases', 'gene_id', \n",
    "       'Prev_Pos_median_of_DT', 'Prev_Pos_median_of_SD', 'Prev_Pos_median_of_Mean', \n",
    "       'Curr_Pos_median_of_DT', 'Curr_Pos_median_of_SD', 'Curr_Pos_median_of_Mean',\n",
    "       'Next_Pos_median_of_DT', 'Next_Pos_median_of_SD', 'Next_Pos_median_of_Mean',\n",
    "\n",
    "       #'Prev_Pos_median_of_DT', 'Prev_Pos_median_of_SD', 'Prev_Pos_median_of_Mean', \n",
    "       #'Curr_Pos_median_of_DT', 'Curr_Pos_median_of_SD', 'Curr_Pos_median_of_Mean',\n",
    "       #'Next_Pos_median_of_DT', 'Next_Pos_median_of_SD', 'Next_Pos_median_of_Mean',\n",
    "\n",
    "       #'Prev_Pos_sd_of_DT', 'Prev_Pos_sd_of_SD', 'Prev_Pos_sd_of_Mean', \n",
    "       #'Curr_Pos_sd_of_DT', 'Curr_Pos_sd_of_SD', 'Curr_Pos_sd_of_Mean',\n",
    "       #'Next_Pos_sd_of_DT', 'Next_Pos_sd_of_SD', 'Next_Pos_sd_of_Mean', \n",
    "       \n",
    "       #'Prev_Pos_first_qrt_of_DT', 'Prev_Pos_first_qrt_of_SD', 'Prev_Pos_first_qrt_of_Mean', \n",
    "       #'Curr_Pos_first_qrt_of_DT', 'Curr_Pos_first_qrt_of_SD', 'Curr_Pos_first_qrt_of_Mean',\n",
    "       #'Next_Pos_first_qrt_of_DT', 'Next_Pos_first_qrt_of_SD', 'Next_Pos_first_qrt_of_Mean',\n",
    "\n",
    "       #'Prev_Pos_third_qrt_of_DT', 'Prev_Pos_third_qrt_of_SD', 'Prev_Pos_third_qrt_of_Mean', \n",
    "       #'Curr_Pos_third_qrt_of_DT', 'Curr_Pos_third_qrt_of_SD', 'Curr_Pos_third_qrt_of_Mean',\n",
    "       #'Next_Pos_third_qrt_of_DT', 'Next_Pos_third_qrt_of_SD', 'Next_Pos_third_qrt_of_Mean',\n",
    "\n",
    "       'n_reads', 'A_count', 'G_count', 'C_count', 'T_count',\n",
    "       'left_1_A', 'left_1_C', 'left_1_G', 'left_1_T',\n",
    "       'centre_1_A', 'centre_1_G', 'centre_1_T', \n",
    "       'centre_2_A', 'centre_2_G', \n",
    "       'centre_5_A', 'centre_5_C', 'centre_5_T',\n",
    "       'right_5_A', 'right_5_C', 'right_5_G', 'right_5_T', 'label']"
   ]
  },
  {
   "cell_type": "code",
   "execution_count": 99,
   "metadata": {},
   "outputs": [],
   "source": [
    "df = df[ordered_columns]\n",
    "df2 = df.drop(['transcript_id', 'bases'], axis = 1)\n",
    "df2[\"id\"] = df2.index\n",
    "gene_ids = list(df2[\"gene_id\"].unique())"
   ]
  },
  {
   "cell_type": "code",
   "execution_count": 100,
   "metadata": {},
   "outputs": [],
   "source": [
    "train_ids, test_ids = train_test_split(gene_ids, train_size = 0.8)\n",
    "tuning_train_ids, tuning_val_ids = train_test_split(train_ids, train_size = 0.7)"
   ]
  },
  {
   "cell_type": "code",
   "execution_count": 101,
   "metadata": {},
   "outputs": [],
   "source": [
    "train_df = df2[df2[\"gene_id\"].isin(train_ids)]\n",
    "val_df = df2[df2[\"gene_id\"].isin(tuning_val_ids)]\n",
    "test_df = df2[df2[\"gene_id\"].isin(test_ids)]"
   ]
  },
  {
   "cell_type": "code",
   "execution_count": 102,
   "metadata": {},
   "outputs": [],
   "source": [
    "split_index = [-1 if x in val_df.id else 0 for x in train_df.id]\n",
    "pds = PredefinedSplit(test_fold = split_index)\n",
    "train_df = train_df.drop([\"id\"], axis = 1)\n",
    "val_df = val_df.drop([\"id\"], axis = 1)\n",
    "test_df = test_df.drop([\"id\"], axis = 1)"
   ]
  },
  {
   "cell_type": "code",
   "execution_count": 103,
   "metadata": {},
   "outputs": [],
   "source": [
    "X_train = train_df.drop([\"gene_id\", \"label\"], axis = 1).to_numpy()\n",
    "y_train = train_df[[\"label\"]].to_numpy().ravel()\n",
    "\n",
    "X_val = val_df.drop([\"gene_id\", \"label\"], axis = 1).to_numpy()\n",
    "y_val = val_df[[\"label\"]].to_numpy().ravel()\n",
    "\n",
    "\n",
    "X_test = test_df.drop([\"gene_id\", \"label\"], axis = 1).to_numpy()\n",
    "y_test = test_df[[\"label\"]].to_numpy().ravel()"
   ]
  },
  {
   "cell_type": "code",
   "execution_count": 113,
   "metadata": {},
   "outputs": [
    {
     "name": "stdout",
     "output_type": "stream",
     "text": [
      "(98070, 31)\n",
      "(98070,)\n",
      "(29055, 31)\n",
      "(29055,)\n",
      "(23768, 31)\n",
      "(23768,)\n"
     ]
    }
   ],
   "source": [
    "print(np.shape(X_train))\n",
    "print(np.shape(y_train))\n",
    "print(np.shape(X_val))\n",
    "print(np.shape(y_val))\n",
    "print(np.shape(X_test))\n",
    "print(np.shape(y_test))"
   ]
  },
  {
   "cell_type": "code",
   "execution_count": 104,
   "metadata": {},
   "outputs": [],
   "source": [
    "params = {\n",
    "    'n_estimators': [100, 200, 500],\n",
    "    'learning_rate': [0.01,0.05,0.1],\n",
    "    'booster': ['gbtree'],\n",
    "    'reg_alpha': [0, 0.5, 1],\n",
    "    'reg_lambda': [0.5, 1, 5],\n",
    "    'base_score': [0.2, 0.5, 0.8],\n",
    "    'scale_pos_weight': [5,7,14]\n",
    "}"
   ]
  },
  {
   "cell_type": "code",
   "execution_count": 105,
   "metadata": {},
   "outputs": [],
   "source": [
    "from sklearn.metrics import precision_recall_curve, make_scorer, auc, roc_auc_score, average_precision_score\n",
    "\n",
    "def pr_auc_roc_auc_mean_score(y_true, y_prob):\n",
    "    \"\"\"\n",
    "    Generates the Area Under the Curve for precision and recall.\n",
    "    \"\"\"\n",
    "    #precision, recall, thresholds = precision_recall_curve(y_true, y_score)\n",
    "    roc_auc = roc_auc_score(y_true, y_prob)\n",
    "    #pr_auc = auc(recall, precision)\n",
    "    pr_auc = average_precision_score(y_true, y_prob)\n",
    "    return (roc_auc + pr_auc)/2\n",
    "\n",
    "# P: TP/(TP+FP)\n",
    "# R: TP/(TP+FN)\n",
    "# \n",
    "\n",
    "pr_auc_roc_auc_mean_scorer = make_scorer(pr_auc_roc_auc_mean_score, greater_is_better=True,\n",
    "                            needs_proba=True)"
   ]
  },
  {
   "cell_type": "code",
   "execution_count": 106,
   "metadata": {},
   "outputs": [
    {
     "data": {
      "text/html": [
       "<style>#sk-container-id-10 {color: black;background-color: white;}#sk-container-id-10 pre{padding: 0;}#sk-container-id-10 div.sk-toggleable {background-color: white;}#sk-container-id-10 label.sk-toggleable__label {cursor: pointer;display: block;width: 100%;margin-bottom: 0;padding: 0.3em;box-sizing: border-box;text-align: center;}#sk-container-id-10 label.sk-toggleable__label-arrow:before {content: \"▸\";float: left;margin-right: 0.25em;color: #696969;}#sk-container-id-10 label.sk-toggleable__label-arrow:hover:before {color: black;}#sk-container-id-10 div.sk-estimator:hover label.sk-toggleable__label-arrow:before {color: black;}#sk-container-id-10 div.sk-toggleable__content {max-height: 0;max-width: 0;overflow: hidden;text-align: left;background-color: #f0f8ff;}#sk-container-id-10 div.sk-toggleable__content pre {margin: 0.2em;color: black;border-radius: 0.25em;background-color: #f0f8ff;}#sk-container-id-10 input.sk-toggleable__control:checked~div.sk-toggleable__content {max-height: 200px;max-width: 100%;overflow: auto;}#sk-container-id-10 input.sk-toggleable__control:checked~label.sk-toggleable__label-arrow:before {content: \"▾\";}#sk-container-id-10 div.sk-estimator input.sk-toggleable__control:checked~label.sk-toggleable__label {background-color: #d4ebff;}#sk-container-id-10 div.sk-label input.sk-toggleable__control:checked~label.sk-toggleable__label {background-color: #d4ebff;}#sk-container-id-10 input.sk-hidden--visually {border: 0;clip: rect(1px 1px 1px 1px);clip: rect(1px, 1px, 1px, 1px);height: 1px;margin: -1px;overflow: hidden;padding: 0;position: absolute;width: 1px;}#sk-container-id-10 div.sk-estimator {font-family: monospace;background-color: #f0f8ff;border: 1px dotted black;border-radius: 0.25em;box-sizing: border-box;margin-bottom: 0.5em;}#sk-container-id-10 div.sk-estimator:hover {background-color: #d4ebff;}#sk-container-id-10 div.sk-parallel-item::after {content: \"\";width: 100%;border-bottom: 1px solid gray;flex-grow: 1;}#sk-container-id-10 div.sk-label:hover label.sk-toggleable__label {background-color: #d4ebff;}#sk-container-id-10 div.sk-serial::before {content: \"\";position: absolute;border-left: 1px solid gray;box-sizing: border-box;top: 0;bottom: 0;left: 50%;z-index: 0;}#sk-container-id-10 div.sk-serial {display: flex;flex-direction: column;align-items: center;background-color: white;padding-right: 0.2em;padding-left: 0.2em;position: relative;}#sk-container-id-10 div.sk-item {position: relative;z-index: 1;}#sk-container-id-10 div.sk-parallel {display: flex;align-items: stretch;justify-content: center;background-color: white;position: relative;}#sk-container-id-10 div.sk-item::before, #sk-container-id-10 div.sk-parallel-item::before {content: \"\";position: absolute;border-left: 1px solid gray;box-sizing: border-box;top: 0;bottom: 0;left: 50%;z-index: -1;}#sk-container-id-10 div.sk-parallel-item {display: flex;flex-direction: column;z-index: 1;position: relative;background-color: white;}#sk-container-id-10 div.sk-parallel-item:first-child::after {align-self: flex-end;width: 50%;}#sk-container-id-10 div.sk-parallel-item:last-child::after {align-self: flex-start;width: 50%;}#sk-container-id-10 div.sk-parallel-item:only-child::after {width: 0;}#sk-container-id-10 div.sk-dashed-wrapped {border: 1px dashed gray;margin: 0 0.4em 0.5em 0.4em;box-sizing: border-box;padding-bottom: 0.4em;background-color: white;}#sk-container-id-10 div.sk-label label {font-family: monospace;font-weight: bold;display: inline-block;line-height: 1.2em;}#sk-container-id-10 div.sk-label-container {text-align: center;}#sk-container-id-10 div.sk-container {/* jupyter's `normalize.less` sets `[hidden] { display: none; }` but bootstrap.min.css set `[hidden] { display: none !important; }` so we also need the `!important` here to be able to override the default hidden behavior on the sphinx rendered scikit-learn.org. See: https://github.com/scikit-learn/scikit-learn/issues/21755 */display: inline-block !important;position: relative;}#sk-container-id-10 div.sk-text-repr-fallback {display: none;}</style><div id=\"sk-container-id-10\" class=\"sk-top-container\"><div class=\"sk-text-repr-fallback\"><pre>RandomizedSearchCV(cv=PredefinedSplit(test_fold=array([-1, -1, ..., -1, -1])),\n",
       "                   estimator=XGBClassifier(base_score=None, booster=None,\n",
       "                                           callbacks=None,\n",
       "                                           colsample_bylevel=None,\n",
       "                                           colsample_bynode=None,\n",
       "                                           colsample_bytree=None,\n",
       "                                           early_stopping_rounds=None,\n",
       "                                           enable_categorical=False,\n",
       "                                           eval_metric=None, gamma=None,\n",
       "                                           gpu_id=None, grow_policy=None,\n",
       "                                           importance_type=None,\n",
       "                                           interaction...\n",
       "                                           predictor=None, random_state=None,\n",
       "                                           reg_alpha=None, reg_lambda=None, ...),\n",
       "                   n_iter=100, n_jobs=-1,\n",
       "                   param_distributions={&#x27;base_score&#x27;: [0.2, 0.5, 0.8],\n",
       "                                        &#x27;booster&#x27;: [&#x27;gbtree&#x27;],\n",
       "                                        &#x27;learning_rate&#x27;: [0.01, 0.05, 0.1],\n",
       "                                        &#x27;n_estimators&#x27;: [100, 200, 500],\n",
       "                                        &#x27;reg_alpha&#x27;: [0, 0.5, 1],\n",
       "                                        &#x27;reg_lambda&#x27;: [0.5, 1, 5],\n",
       "                                        &#x27;scale_pos_weight&#x27;: [5, 7, 14]},\n",
       "                   scoring=make_scorer(pr_auc_roc_auc_mean_score, needs_proba=True))</pre><b>In a Jupyter environment, please rerun this cell to show the HTML representation or trust the notebook. <br />On GitHub, the HTML representation is unable to render, please try loading this page with nbviewer.org.</b></div><div class=\"sk-container\" hidden><div class=\"sk-item sk-dashed-wrapped\"><div class=\"sk-label-container\"><div class=\"sk-label sk-toggleable\"><input class=\"sk-toggleable__control sk-hidden--visually\" id=\"sk-estimator-id-18\" type=\"checkbox\" ><label for=\"sk-estimator-id-18\" class=\"sk-toggleable__label sk-toggleable__label-arrow\">RandomizedSearchCV</label><div class=\"sk-toggleable__content\"><pre>RandomizedSearchCV(cv=PredefinedSplit(test_fold=array([-1, -1, ..., -1, -1])),\n",
       "                   estimator=XGBClassifier(base_score=None, booster=None,\n",
       "                                           callbacks=None,\n",
       "                                           colsample_bylevel=None,\n",
       "                                           colsample_bynode=None,\n",
       "                                           colsample_bytree=None,\n",
       "                                           early_stopping_rounds=None,\n",
       "                                           enable_categorical=False,\n",
       "                                           eval_metric=None, gamma=None,\n",
       "                                           gpu_id=None, grow_policy=None,\n",
       "                                           importance_type=None,\n",
       "                                           interaction...\n",
       "                                           predictor=None, random_state=None,\n",
       "                                           reg_alpha=None, reg_lambda=None, ...),\n",
       "                   n_iter=100, n_jobs=-1,\n",
       "                   param_distributions={&#x27;base_score&#x27;: [0.2, 0.5, 0.8],\n",
       "                                        &#x27;booster&#x27;: [&#x27;gbtree&#x27;],\n",
       "                                        &#x27;learning_rate&#x27;: [0.01, 0.05, 0.1],\n",
       "                                        &#x27;n_estimators&#x27;: [100, 200, 500],\n",
       "                                        &#x27;reg_alpha&#x27;: [0, 0.5, 1],\n",
       "                                        &#x27;reg_lambda&#x27;: [0.5, 1, 5],\n",
       "                                        &#x27;scale_pos_weight&#x27;: [5, 7, 14]},\n",
       "                   scoring=make_scorer(pr_auc_roc_auc_mean_score, needs_proba=True))</pre></div></div></div><div class=\"sk-parallel\"><div class=\"sk-parallel-item\"><div class=\"sk-item\"><div class=\"sk-label-container\"><div class=\"sk-label sk-toggleable\"><input class=\"sk-toggleable__control sk-hidden--visually\" id=\"sk-estimator-id-19\" type=\"checkbox\" ><label for=\"sk-estimator-id-19\" class=\"sk-toggleable__label sk-toggleable__label-arrow\">estimator: XGBClassifier</label><div class=\"sk-toggleable__content\"><pre>XGBClassifier(base_score=None, booster=None, callbacks=None,\n",
       "              colsample_bylevel=None, colsample_bynode=None,\n",
       "              colsample_bytree=None, early_stopping_rounds=None,\n",
       "              enable_categorical=False, eval_metric=None, gamma=None,\n",
       "              gpu_id=None, grow_policy=None, importance_type=None,\n",
       "              interaction_constraints=None, learning_rate=None, max_bin=None,\n",
       "              max_cat_to_onehot=None, max_delta_step=None, max_depth=None,\n",
       "              max_leaves=None, min_child_weight=None, missing=nan,\n",
       "              monotone_constraints=None, n_estimators=100, n_jobs=None,\n",
       "              num_parallel_tree=None, predictor=None, random_state=None,\n",
       "              reg_alpha=None, reg_lambda=None, ...)</pre></div></div></div><div class=\"sk-serial\"><div class=\"sk-item\"><div class=\"sk-estimator sk-toggleable\"><input class=\"sk-toggleable__control sk-hidden--visually\" id=\"sk-estimator-id-20\" type=\"checkbox\" ><label for=\"sk-estimator-id-20\" class=\"sk-toggleable__label sk-toggleable__label-arrow\">XGBClassifier</label><div class=\"sk-toggleable__content\"><pre>XGBClassifier(base_score=None, booster=None, callbacks=None,\n",
       "              colsample_bylevel=None, colsample_bynode=None,\n",
       "              colsample_bytree=None, early_stopping_rounds=None,\n",
       "              enable_categorical=False, eval_metric=None, gamma=None,\n",
       "              gpu_id=None, grow_policy=None, importance_type=None,\n",
       "              interaction_constraints=None, learning_rate=None, max_bin=None,\n",
       "              max_cat_to_onehot=None, max_delta_step=None, max_depth=None,\n",
       "              max_leaves=None, min_child_weight=None, missing=nan,\n",
       "              monotone_constraints=None, n_estimators=100, n_jobs=None,\n",
       "              num_parallel_tree=None, predictor=None, random_state=None,\n",
       "              reg_alpha=None, reg_lambda=None, ...)</pre></div></div></div></div></div></div></div></div></div></div>"
      ],
      "text/plain": [
       "RandomizedSearchCV(cv=PredefinedSplit(test_fold=array([-1, -1, ..., -1, -1])),\n",
       "                   estimator=XGBClassifier(base_score=None, booster=None,\n",
       "                                           callbacks=None,\n",
       "                                           colsample_bylevel=None,\n",
       "                                           colsample_bynode=None,\n",
       "                                           colsample_bytree=None,\n",
       "                                           early_stopping_rounds=None,\n",
       "                                           enable_categorical=False,\n",
       "                                           eval_metric=None, gamma=None,\n",
       "                                           gpu_id=None, grow_policy=None,\n",
       "                                           importance_type=None,\n",
       "                                           interaction...\n",
       "                                           predictor=None, random_state=None,\n",
       "                                           reg_alpha=None, reg_lambda=None, ...),\n",
       "                   n_iter=100, n_jobs=-1,\n",
       "                   param_distributions={'base_score': [0.2, 0.5, 0.8],\n",
       "                                        'booster': ['gbtree'],\n",
       "                                        'learning_rate': [0.01, 0.05, 0.1],\n",
       "                                        'n_estimators': [100, 200, 500],\n",
       "                                        'reg_alpha': [0, 0.5, 1],\n",
       "                                        'reg_lambda': [0.5, 1, 5],\n",
       "                                        'scale_pos_weight': [5, 7, 14]},\n",
       "                   scoring=make_scorer(pr_auc_roc_auc_mean_score, needs_proba=True))"
      ]
     },
     "execution_count": 106,
     "metadata": {},
     "output_type": "execute_result"
    }
   ],
   "source": [
    "tuning_model = RandomizedSearchCV(XGBClassifier(), params, n_jobs=-1, cv=pds, scoring=pr_auc_roc_auc_mean_scorer, n_iter = 100) #'average_precision'\n",
    "tuning_model.fit(X_train, y_train)"
   ]
  },
  {
   "cell_type": "code",
   "execution_count": 107,
   "metadata": {},
   "outputs": [
    {
     "data": {
      "text/html": [
       "<div>\n",
       "<style scoped>\n",
       "    .dataframe tbody tr th:only-of-type {\n",
       "        vertical-align: middle;\n",
       "    }\n",
       "\n",
       "    .dataframe tbody tr th {\n",
       "        vertical-align: top;\n",
       "    }\n",
       "\n",
       "    .dataframe thead th {\n",
       "        text-align: right;\n",
       "    }\n",
       "</style>\n",
       "<table border=\"1\" class=\"dataframe\">\n",
       "  <thead>\n",
       "    <tr style=\"text-align: right;\">\n",
       "      <th></th>\n",
       "      <th>mean_fit_time</th>\n",
       "      <th>std_fit_time</th>\n",
       "      <th>mean_score_time</th>\n",
       "      <th>std_score_time</th>\n",
       "      <th>param_scale_pos_weight</th>\n",
       "      <th>param_reg_lambda</th>\n",
       "      <th>param_reg_alpha</th>\n",
       "      <th>param_n_estimators</th>\n",
       "      <th>param_learning_rate</th>\n",
       "      <th>param_booster</th>\n",
       "      <th>param_base_score</th>\n",
       "      <th>params</th>\n",
       "      <th>split0_test_score</th>\n",
       "      <th>mean_test_score</th>\n",
       "      <th>std_test_score</th>\n",
       "      <th>rank_test_score</th>\n",
       "    </tr>\n",
       "  </thead>\n",
       "  <tbody>\n",
       "    <tr>\n",
       "      <th>69</th>\n",
       "      <td>24.005186</td>\n",
       "      <td>0.0</td>\n",
       "      <td>0.704703</td>\n",
       "      <td>0.0</td>\n",
       "      <td>5</td>\n",
       "      <td>1</td>\n",
       "      <td>1</td>\n",
       "      <td>200</td>\n",
       "      <td>0.05</td>\n",
       "      <td>gbtree</td>\n",
       "      <td>0.8</td>\n",
       "      <td>{'scale_pos_weight': 5, 'reg_lambda': 1, 'reg_...</td>\n",
       "      <td>0.646142</td>\n",
       "      <td>0.646142</td>\n",
       "      <td>0.0</td>\n",
       "      <td>1</td>\n",
       "    </tr>\n",
       "    <tr>\n",
       "      <th>0</th>\n",
       "      <td>23.929969</td>\n",
       "      <td>0.0</td>\n",
       "      <td>1.074891</td>\n",
       "      <td>0.0</td>\n",
       "      <td>5</td>\n",
       "      <td>1</td>\n",
       "      <td>0.5</td>\n",
       "      <td>200</td>\n",
       "      <td>0.05</td>\n",
       "      <td>gbtree</td>\n",
       "      <td>0.8</td>\n",
       "      <td>{'scale_pos_weight': 5, 'reg_lambda': 1, 'reg_...</td>\n",
       "      <td>0.645774</td>\n",
       "      <td>0.645774</td>\n",
       "      <td>0.0</td>\n",
       "      <td>2</td>\n",
       "    </tr>\n",
       "    <tr>\n",
       "      <th>76</th>\n",
       "      <td>12.767277</td>\n",
       "      <td>0.0</td>\n",
       "      <td>0.445457</td>\n",
       "      <td>0.0</td>\n",
       "      <td>5</td>\n",
       "      <td>1</td>\n",
       "      <td>1</td>\n",
       "      <td>100</td>\n",
       "      <td>0.1</td>\n",
       "      <td>gbtree</td>\n",
       "      <td>0.8</td>\n",
       "      <td>{'scale_pos_weight': 5, 'reg_lambda': 1, 'reg_...</td>\n",
       "      <td>0.644943</td>\n",
       "      <td>0.644943</td>\n",
       "      <td>0.0</td>\n",
       "      <td>3</td>\n",
       "    </tr>\n",
       "    <tr>\n",
       "      <th>36</th>\n",
       "      <td>24.202205</td>\n",
       "      <td>0.0</td>\n",
       "      <td>0.744769</td>\n",
       "      <td>0.0</td>\n",
       "      <td>7</td>\n",
       "      <td>0.5</td>\n",
       "      <td>1</td>\n",
       "      <td>200</td>\n",
       "      <td>0.05</td>\n",
       "      <td>gbtree</td>\n",
       "      <td>0.8</td>\n",
       "      <td>{'scale_pos_weight': 7, 'reg_lambda': 0.5, 're...</td>\n",
       "      <td>0.644785</td>\n",
       "      <td>0.644785</td>\n",
       "      <td>0.0</td>\n",
       "      <td>4</td>\n",
       "    </tr>\n",
       "    <tr>\n",
       "      <th>53</th>\n",
       "      <td>12.028321</td>\n",
       "      <td>0.0</td>\n",
       "      <td>0.411888</td>\n",
       "      <td>0.0</td>\n",
       "      <td>7</td>\n",
       "      <td>5</td>\n",
       "      <td>1</td>\n",
       "      <td>100</td>\n",
       "      <td>0.1</td>\n",
       "      <td>gbtree</td>\n",
       "      <td>0.2</td>\n",
       "      <td>{'scale_pos_weight': 7, 'reg_lambda': 5, 'reg_...</td>\n",
       "      <td>0.644289</td>\n",
       "      <td>0.644289</td>\n",
       "      <td>0.0</td>\n",
       "      <td>5</td>\n",
       "    </tr>\n",
       "  </tbody>\n",
       "</table>\n",
       "</div>"
      ],
      "text/plain": [
       "    mean_fit_time  std_fit_time  mean_score_time  std_score_time  \\\n",
       "69      24.005186           0.0         0.704703             0.0   \n",
       "0       23.929969           0.0         1.074891             0.0   \n",
       "76      12.767277           0.0         0.445457             0.0   \n",
       "36      24.202205           0.0         0.744769             0.0   \n",
       "53      12.028321           0.0         0.411888             0.0   \n",
       "\n",
       "   param_scale_pos_weight param_reg_lambda param_reg_alpha param_n_estimators  \\\n",
       "69                      5                1               1                200   \n",
       "0                       5                1             0.5                200   \n",
       "76                      5                1               1                100   \n",
       "36                      7              0.5               1                200   \n",
       "53                      7                5               1                100   \n",
       "\n",
       "   param_learning_rate param_booster param_base_score  \\\n",
       "69                0.05        gbtree              0.8   \n",
       "0                 0.05        gbtree              0.8   \n",
       "76                 0.1        gbtree              0.8   \n",
       "36                0.05        gbtree              0.8   \n",
       "53                 0.1        gbtree              0.2   \n",
       "\n",
       "                                               params  split0_test_score  \\\n",
       "69  {'scale_pos_weight': 5, 'reg_lambda': 1, 'reg_...           0.646142   \n",
       "0   {'scale_pos_weight': 5, 'reg_lambda': 1, 'reg_...           0.645774   \n",
       "76  {'scale_pos_weight': 5, 'reg_lambda': 1, 'reg_...           0.644943   \n",
       "36  {'scale_pos_weight': 7, 'reg_lambda': 0.5, 're...           0.644785   \n",
       "53  {'scale_pos_weight': 7, 'reg_lambda': 5, 'reg_...           0.644289   \n",
       "\n",
       "    mean_test_score  std_test_score  rank_test_score  \n",
       "69         0.646142             0.0                1  \n",
       "0          0.645774             0.0                2  \n",
       "76         0.644943             0.0                3  \n",
       "36         0.644785             0.0                4  \n",
       "53         0.644289             0.0                5  "
      ]
     },
     "execution_count": 107,
     "metadata": {},
     "output_type": "execute_result"
    }
   ],
   "source": [
    "(pd.DataFrame(tuning_model.cv_results_)).sort_values(by=['rank_test_score']).head()"
   ]
  },
  {
   "cell_type": "code",
   "execution_count": 108,
   "metadata": {},
   "outputs": [
    {
     "data": {
      "text/plain": [
       "{'scale_pos_weight': 5,\n",
       " 'reg_lambda': 1,\n",
       " 'reg_alpha': 1,\n",
       " 'n_estimators': 200,\n",
       " 'learning_rate': 0.05,\n",
       " 'booster': 'gbtree',\n",
       " 'base_score': 0.8}"
      ]
     },
     "execution_count": 108,
     "metadata": {},
     "output_type": "execute_result"
    }
   ],
   "source": [
    "tuning_model.best_params_"
   ]
  },
  {
   "cell_type": "code",
   "execution_count": 109,
   "metadata": {},
   "outputs": [
    {
     "data": {
      "text/html": [
       "<style>#sk-container-id-11 {color: black;background-color: white;}#sk-container-id-11 pre{padding: 0;}#sk-container-id-11 div.sk-toggleable {background-color: white;}#sk-container-id-11 label.sk-toggleable__label {cursor: pointer;display: block;width: 100%;margin-bottom: 0;padding: 0.3em;box-sizing: border-box;text-align: center;}#sk-container-id-11 label.sk-toggleable__label-arrow:before {content: \"▸\";float: left;margin-right: 0.25em;color: #696969;}#sk-container-id-11 label.sk-toggleable__label-arrow:hover:before {color: black;}#sk-container-id-11 div.sk-estimator:hover label.sk-toggleable__label-arrow:before {color: black;}#sk-container-id-11 div.sk-toggleable__content {max-height: 0;max-width: 0;overflow: hidden;text-align: left;background-color: #f0f8ff;}#sk-container-id-11 div.sk-toggleable__content pre {margin: 0.2em;color: black;border-radius: 0.25em;background-color: #f0f8ff;}#sk-container-id-11 input.sk-toggleable__control:checked~div.sk-toggleable__content {max-height: 200px;max-width: 100%;overflow: auto;}#sk-container-id-11 input.sk-toggleable__control:checked~label.sk-toggleable__label-arrow:before {content: \"▾\";}#sk-container-id-11 div.sk-estimator input.sk-toggleable__control:checked~label.sk-toggleable__label {background-color: #d4ebff;}#sk-container-id-11 div.sk-label input.sk-toggleable__control:checked~label.sk-toggleable__label {background-color: #d4ebff;}#sk-container-id-11 input.sk-hidden--visually {border: 0;clip: rect(1px 1px 1px 1px);clip: rect(1px, 1px, 1px, 1px);height: 1px;margin: -1px;overflow: hidden;padding: 0;position: absolute;width: 1px;}#sk-container-id-11 div.sk-estimator {font-family: monospace;background-color: #f0f8ff;border: 1px dotted black;border-radius: 0.25em;box-sizing: border-box;margin-bottom: 0.5em;}#sk-container-id-11 div.sk-estimator:hover {background-color: #d4ebff;}#sk-container-id-11 div.sk-parallel-item::after {content: \"\";width: 100%;border-bottom: 1px solid gray;flex-grow: 1;}#sk-container-id-11 div.sk-label:hover label.sk-toggleable__label {background-color: #d4ebff;}#sk-container-id-11 div.sk-serial::before {content: \"\";position: absolute;border-left: 1px solid gray;box-sizing: border-box;top: 0;bottom: 0;left: 50%;z-index: 0;}#sk-container-id-11 div.sk-serial {display: flex;flex-direction: column;align-items: center;background-color: white;padding-right: 0.2em;padding-left: 0.2em;position: relative;}#sk-container-id-11 div.sk-item {position: relative;z-index: 1;}#sk-container-id-11 div.sk-parallel {display: flex;align-items: stretch;justify-content: center;background-color: white;position: relative;}#sk-container-id-11 div.sk-item::before, #sk-container-id-11 div.sk-parallel-item::before {content: \"\";position: absolute;border-left: 1px solid gray;box-sizing: border-box;top: 0;bottom: 0;left: 50%;z-index: -1;}#sk-container-id-11 div.sk-parallel-item {display: flex;flex-direction: column;z-index: 1;position: relative;background-color: white;}#sk-container-id-11 div.sk-parallel-item:first-child::after {align-self: flex-end;width: 50%;}#sk-container-id-11 div.sk-parallel-item:last-child::after {align-self: flex-start;width: 50%;}#sk-container-id-11 div.sk-parallel-item:only-child::after {width: 0;}#sk-container-id-11 div.sk-dashed-wrapped {border: 1px dashed gray;margin: 0 0.4em 0.5em 0.4em;box-sizing: border-box;padding-bottom: 0.4em;background-color: white;}#sk-container-id-11 div.sk-label label {font-family: monospace;font-weight: bold;display: inline-block;line-height: 1.2em;}#sk-container-id-11 div.sk-label-container {text-align: center;}#sk-container-id-11 div.sk-container {/* jupyter's `normalize.less` sets `[hidden] { display: none; }` but bootstrap.min.css set `[hidden] { display: none !important; }` so we also need the `!important` here to be able to override the default hidden behavior on the sphinx rendered scikit-learn.org. See: https://github.com/scikit-learn/scikit-learn/issues/21755 */display: inline-block !important;position: relative;}#sk-container-id-11 div.sk-text-repr-fallback {display: none;}</style><div id=\"sk-container-id-11\" class=\"sk-top-container\"><div class=\"sk-text-repr-fallback\"><pre>XGBClassifier(base_score=0.8, booster=&#x27;gbtree&#x27;, callbacks=None,\n",
       "              colsample_bylevel=1, colsample_bynode=1, colsample_bytree=1,\n",
       "              early_stopping_rounds=None, enable_categorical=False,\n",
       "              eval_metric=None, gamma=0, gpu_id=-1, grow_policy=&#x27;depthwise&#x27;,\n",
       "              importance_type=None, interaction_constraints=&#x27;&#x27;,\n",
       "              learning_rate=0.05, max_bin=256, max_cat_to_onehot=4,\n",
       "              max_delta_step=0, max_depth=6, max_leaves=0, min_child_weight=1,\n",
       "              missing=nan, monotone_constraints=&#x27;()&#x27;, n_estimators=200,\n",
       "              n_jobs=0, num_parallel_tree=1, predictor=&#x27;auto&#x27;, random_state=0,\n",
       "              reg_alpha=1, reg_lambda=1, ...)</pre><b>In a Jupyter environment, please rerun this cell to show the HTML representation or trust the notebook. <br />On GitHub, the HTML representation is unable to render, please try loading this page with nbviewer.org.</b></div><div class=\"sk-container\" hidden><div class=\"sk-item\"><div class=\"sk-estimator sk-toggleable\"><input class=\"sk-toggleable__control sk-hidden--visually\" id=\"sk-estimator-id-21\" type=\"checkbox\" checked><label for=\"sk-estimator-id-21\" class=\"sk-toggleable__label sk-toggleable__label-arrow\">XGBClassifier</label><div class=\"sk-toggleable__content\"><pre>XGBClassifier(base_score=0.8, booster=&#x27;gbtree&#x27;, callbacks=None,\n",
       "              colsample_bylevel=1, colsample_bynode=1, colsample_bytree=1,\n",
       "              early_stopping_rounds=None, enable_categorical=False,\n",
       "              eval_metric=None, gamma=0, gpu_id=-1, grow_policy=&#x27;depthwise&#x27;,\n",
       "              importance_type=None, interaction_constraints=&#x27;&#x27;,\n",
       "              learning_rate=0.05, max_bin=256, max_cat_to_onehot=4,\n",
       "              max_delta_step=0, max_depth=6, max_leaves=0, min_child_weight=1,\n",
       "              missing=nan, monotone_constraints=&#x27;()&#x27;, n_estimators=200,\n",
       "              n_jobs=0, num_parallel_tree=1, predictor=&#x27;auto&#x27;, random_state=0,\n",
       "              reg_alpha=1, reg_lambda=1, ...)</pre></div></div></div></div></div>"
      ],
      "text/plain": [
       "XGBClassifier(base_score=0.8, booster='gbtree', callbacks=None,\n",
       "              colsample_bylevel=1, colsample_bynode=1, colsample_bytree=1,\n",
       "              early_stopping_rounds=None, enable_categorical=False,\n",
       "              eval_metric=None, gamma=0, gpu_id=-1, grow_policy='depthwise',\n",
       "              importance_type=None, interaction_constraints='',\n",
       "              learning_rate=0.05, max_bin=256, max_cat_to_onehot=4,\n",
       "              max_delta_step=0, max_depth=6, max_leaves=0, min_child_weight=1,\n",
       "              missing=nan, monotone_constraints='()', n_estimators=200,\n",
       "              n_jobs=0, num_parallel_tree=1, predictor='auto', random_state=0,\n",
       "              reg_alpha=1, reg_lambda=1, ...)"
      ]
     },
     "execution_count": 109,
     "metadata": {},
     "output_type": "execute_result"
    }
   ],
   "source": [
    "model = XGBClassifier(scale_pos_weight=5, reg_lambda= 1, reg_alpha= 1, n_estimators= 200,learning_rate= 0.05,booster= 'gbtree',base_score= 0.8)\n",
    "model.fit(X_train, y_train)"
   ]
  },
  {
   "cell_type": "code",
   "execution_count": 67,
   "metadata": {},
   "outputs": [
    {
     "name": "stdout",
     "output_type": "stream",
     "text": [
      "              precision    recall  f1-score   support\n",
      "\n",
      "           0       0.98      0.97      0.98     21905\n",
      "           1       0.49      0.49      0.49      1075\n",
      "\n",
      "    accuracy                           0.95     22980\n",
      "   macro avg       0.73      0.73      0.73     22980\n",
      "weighted avg       0.95      0.95      0.95     22980\n",
      "\n",
      "0.901568591645743\n",
      "0.45809448286520577\n"
     ]
    }
   ],
   "source": [
    "# hyperparams : XGBClassifier(scale_pos_weight=5, reg_lambda= 5, reg_alpha= 0.5, n_estimators= 100,learning_rate= 0.05,booster= 'gbtree',base_score= 0.5) #WITH roc-auc\n",
    "\n",
    "y_pred=model.predict(X_test)\n",
    "y_proba = model.predict_proba(X_test)[:, 1]\n",
    "print(classification_report(y_test, y_pred))\n",
    "print(roc_auc_score(y_test, y_proba))\n",
    "precision, recall, thresholds = precision_recall_curve(y_test, y_pred)\n",
    "print(auc(precision,recall))"
   ]
  },
  {
   "cell_type": "code",
   "execution_count": 77,
   "metadata": {},
   "outputs": [
    {
     "name": "stdout",
     "output_type": "stream",
     "text": [
      "              precision    recall  f1-score   support\n",
      "\n",
      "           0       0.98      0.97      0.98     21905\n",
      "           1       0.50      0.51      0.51      1075\n",
      "\n",
      "    accuracy                           0.95     22980\n",
      "   macro avg       0.74      0.74      0.74     22980\n",
      "weighted avg       0.95      0.95      0.95     22980\n",
      "\n",
      "0.902966573416922\n",
      "0.4706846009873644\n",
      "              precision    recall  f1-score   support\n",
      "\n",
      "           0       0.98      0.98      0.98     29096\n",
      "           1       0.57      0.61      0.59      1397\n",
      "\n",
      "    accuracy                           0.96     30493\n",
      "   macro avg       0.78      0.79      0.78     30493\n",
      "weighted avg       0.96      0.96      0.96     30493\n",
      "\n",
      "0.9522603967534028\n",
      "0.5522313609427854\n"
     ]
    }
   ],
   "source": [
    "# hyperparams: XGBClassifier(scale_pos_weight=5, reg_lambda= 0.5, reg_alpha= 1, n_estimators= 200,learning_rate= 0.05,booster= 'gbtree',base_score= 0.8) #only average_precision_score as metric\n",
    "y_pred=model.predict(X_test)\n",
    "y_proba = model.predict_proba(X_test)[:, 1]\n",
    "print(classification_report(y_test, y_pred))\n",
    "print(roc_auc_score(y_test, y_proba))\n",
    "precision, recall, thresholds = precision_recall_curve(y_test, y_pred)\n",
    "print(auc(precision,recall))\n",
    "### BEST MODELLLLL\n",
    "\n",
    "y_pred=model.predict(X_val)\n",
    "y_proba = model.predict_proba(X_val)[:, 1]\n",
    "print(classification_report(y_val, y_pred))\n",
    "print(roc_auc_score(y_val, y_proba))\n",
    "precision, recall, thresholds = precision_recall_curve(y_val, y_pred)\n",
    "print(auc(precision,recall))"
   ]
  },
  {
   "cell_type": "code",
   "execution_count": 73,
   "metadata": {},
   "outputs": [
    {
     "name": "stdout",
     "output_type": "stream",
     "text": [
      "              precision    recall  f1-score   support\n",
      "\n",
      "           0       0.98      0.97      0.98     21905\n",
      "           1       0.50      0.51      0.51      1075\n",
      "\n",
      "    accuracy                           0.95     22980\n",
      "   macro avg       0.74      0.74      0.74     22980\n",
      "weighted avg       0.95      0.95      0.95     22980\n",
      "\n",
      "0.901568591645743\n",
      "0.4706846009873644\n"
     ]
    }
   ],
   "source": [
    "# hyperparams: XGBClassifier(scale_pos_weight=5, reg_lambda= 5, reg_alpha= 0, n_estimators= 100,learning_rate= 0.1,booster= 'gbtree',base_score= 0.8) #with both metrics\n",
    "y_pred=model.predict(X_test)\n",
    "print(classification_report(y_test, y_pred))\n",
    "print(roc_auc_score(y_test, y_proba))\n",
    "precision, recall, thresholds = precision_recall_curve(y_test, y_pred)\n",
    "print(auc(precision,recall))"
   ]
  },
  {
   "cell_type": "code",
   "execution_count": 114,
   "metadata": {},
   "outputs": [
    {
     "name": "stdout",
     "output_type": "stream",
     "text": [
      "              precision    recall  f1-score   support\n",
      "\n",
      "           0       0.98      0.97      0.98     22769\n",
      "           1       0.47      0.53      0.50       999\n",
      "\n",
      "    accuracy                           0.96     23768\n",
      "   macro avg       0.72      0.75      0.74     23768\n",
      "weighted avg       0.96      0.96      0.96     23768\n",
      "\n",
      "0.8904738327857481\n",
      "0.46579426770074706\n"
     ]
    }
   ],
   "source": [
    "# XGBClassifier(scale_pos_weight=5, reg_lambda= 1, reg_alpha= 1, n_estimators= 200,learning_rate= 0.05,booster= 'gbtree',base_score= 0.8) #added A_count, G_count, C_count, T_count\n",
    "y_pred=model.predict(X_test)\n",
    "y_proba = model.predict_proba(X_test)[:, 1]\n",
    "print(classification_report(y_test, y_pred))\n",
    "print(roc_auc_score(y_test, y_proba))\n",
    "precision, recall, thresholds = precision_recall_curve(y_test, y_pred)\n",
    "print(auc(precision,recall))"
   ]
  },
  {
   "cell_type": "code",
   "execution_count": 39,
   "metadata": {},
   "outputs": [
    {
     "name": "stdout",
     "output_type": "stream",
     "text": [
      "              precision    recall  f1-score   support\n",
      "\n",
      "           0       0.98      0.97      0.97     23154\n",
      "           1       0.49      0.53      0.51      1151\n",
      "\n",
      "    accuracy                           0.95     24305\n",
      "   macro avg       0.73      0.75      0.74     24305\n",
      "weighted avg       0.95      0.95      0.95     24305\n",
      "\n"
     ]
    }
   ],
   "source": [
    "# hyperparams: XGBClassifier(reg_lambda= 1, reg_alpha= 0.5, n_estimators= 100,learning_rate= 0.1,booster= 'gbtree',base_score= 0.8, scale_pos_weight=5) (auc, no SDS)\n",
    "y_pred=model.predict(X_test)\n",
    "print(classification_report(y_test, y_pred))"
   ]
  },
  {
   "cell_type": "markdown",
   "metadata": {},
   "source": [
    "# EDA"
   ]
  },
  {
   "cell_type": "code",
   "execution_count": 76,
   "metadata": {},
   "outputs": [
    {
     "data": {
      "image/png": "[encoded data removed]",
      "text/plain": [
       "<Figure size 432x288 with 1 Axes>"
      ]
     },
     "metadata": {
      "needs_background": "light"
     },
     "output_type": "display_data"
    }
   ],
   "source": [
    "from xgboost import plot_importance\n",
    "from matplotlib import pyplot\n",
    "model.get_booster().feature_names = list(train_df.drop([\"gene_id\", \"label\"], axis = 1).columns)\n",
    "plot_importance(model)\n",
    "pyplot.show()"
   ]
  },
  {
   "cell_type": "code",
   "execution_count": 75,
   "metadata": {},
   "outputs": [
    {
     "data": {
      "text/plain": [
       "Index(['transcript_position', 'gene_id', 'Prev_Pos_median_of_DT',\n",
       "       'Prev_Pos_median_of_SD', 'Prev_Pos_median_of_Mean',\n",
       "       'Curr_Pos_median_of_DT', 'Curr_Pos_median_of_SD',\n",
       "       'Curr_Pos_median_of_Mean', 'Next_Pos_median_of_DT',\n",
       "       'Next_Pos_median_of_SD', 'Next_Pos_median_of_Mean', 'n_reads',\n",
       "       'left_1_A', 'left_1_C', 'left_1_G', 'left_1_T', 'centre_1_A',\n",
       "       'centre_1_G', 'centre_1_T', 'centre_2_A', 'centre_2_G', 'centre_5_A',\n",
       "       'centre_5_C', 'centre_5_T', 'right_5_A', 'right_5_C', 'right_5_G',\n",
       "       'right_5_T', 'label'],\n",
       "      dtype='object')"
      ]
     },
     "execution_count": 75,
     "metadata": {},
     "output_type": "execute_result"
    }
   ],
   "source": [
    "train_df.columns"
   ]
  }
 ],
 "metadata": {
  "kernelspec": {
   "display_name": "Python 3.9.13 ('news_matching_miniforge')",
   "language": "python",
   "name": "python3"
  },
  "language_info": {
   "codemirror_mode": {
    "name": "ipython",
    "version": 3
   },
   "file_extension": ".py",
   "mimetype": "text/x-python",
   "name": "python",
   "nbconvert_exporter": "python",
   "pygments_lexer": "ipython3",
   "version": "3.9.13"
  },
  "orig_nbformat": 4,
  "vscode": {
   "interpreter": {
    "hash": "36dc9dd54c8932b132aa6270041c7e0660e9d3724e4f25449051b7924bd4a509"
   }
  }
 },
 "nbformat": 4,
 "nbformat_minor": 2
}
