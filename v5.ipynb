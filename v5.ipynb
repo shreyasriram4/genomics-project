{
 "cells": [
  {
   "cell_type": "markdown",
   "metadata": {},
   "source": [
    "In this notebook, we aim to do the following: \n",
    "1. Harvest the dataset with median instead of average because there may be outliers. (done) \n",
    "2. Drop the columns that correspond to AC because it will always be there. (done)\n",
    "2. Get base scores without splitting the dataset. The scores we are interested in are AUC, PR AUC, Precision and Recall. (done)\n",
    "3. Split the Training dataset manually using gene_id (done)\n",
    "4. Perform Optimization using RandomizedSearchCV and then followed by gridsearchCV. (can't be done)\n",
    "5. See how much better we can get with hyperparameter tuning. \n",
    "6. We shall then focus on reducing features and see if results improve. "
   ]
  },
  {
   "cell_type": "code",
   "execution_count": 70,
   "metadata": {},
   "outputs": [],
   "source": [
    "import pandas as pd\n",
    "import numpy as np\n",
    "from sklearn.preprocessing import OneHotEncoder\n",
    "from sklearn.model_selection import train_test_split\n",
    "from sklearn.preprocessing import MinMaxScaler\n",
    "from collections import defaultdict\n",
    "from imblearn.over_sampling import SMOTE\n",
    "from xgboost import XGBClassifier\n",
    "from sklearn.linear_model import LogisticRegression\n",
    "from sklearn.ensemble import RandomForestClassifier\n",
    "from sklearn.tree import DecisionTreeClassifier\n",
    "from lightgbm import LGBMClassifier\n",
    "from sklearn.metrics import roc_auc_score, f1_score, accuracy_score, precision_score, recall_score, confusion_matrix, mean_squared_error, auc, roc_curve, classification_report, ConfusionMatrixDisplay\n",
    "import matplotlib.pyplot as plt\n",
    "from sklearn.metrics import average_precision_score, precision_recall_curve\n",
    "from sklearn.metrics import plot_precision_recall_curve\n",
    "from sklearn.model_selection import cross_validate, RandomizedSearchCV\n",
    "from scipy.stats import pearsonr, chi2_contingency, entropy\n",
    "from scipy import special \n",
    "import seaborn as sns\n",
    "from imblearn.under_sampling import NearMiss\n",
    "from imblearn.over_sampling import RandomOverSampler"
   ]
  },
  {
   "cell_type": "code",
   "execution_count": 2,
   "metadata": {},
   "outputs": [],
   "source": [
    "df = pd.read_json('./data/data.json', lines=True)\n",
    "labels = pd.read_csv('./data/labels.info', sep=',')"
   ]
  },
  {
   "cell_type": "markdown",
   "metadata": {},
   "source": [
    "We shall be taking median instead of mean because if there are outliers, the median is closer to the true value of the mean. "
   ]
  },
  {
   "cell_type": "code",
   "execution_count": 3,
   "metadata": {},
   "outputs": [],
   "source": [
    "def get_dataframe(df):\n",
    "    transcripts = df.columns\n",
    "    dataframes = []\n",
    "    for transcript in transcripts:\n",
    "        df_curr_transcript = df.loc[:, transcript]\n",
    "        df_curr_transcript.dropna(inplace=True)\n",
    "        df_curr_transcript = list(df_curr_transcript)\n",
    "        \n",
    "        for position in df_curr_transcript:\n",
    "            #position here is a dictionary\n",
    "            for k1, v1, in position.items():\n",
    "                order = list(v1.keys())[0]\n",
    "                for k2, v2 in v1.items():\n",
    "\n",
    "                    \n",
    "                    n = len(v2)\n",
    "\n",
    "                    left_dwelling_t = np.zeros(n)\n",
    "                    left_sd = np.zeros(n)\n",
    "                    left_mean = np.zeros(n)\n",
    "\n",
    "                    centre_dwelling_t = np.zeros(n)\n",
    "                    centre_sd = np.zeros(n)\n",
    "                    centre_mean = np.zeros(n)\n",
    "\n",
    "                    right_dwelling_t = np.zeros(n)\n",
    "                    right_sd = np.zeros(n)\n",
    "                    right_mean = np.zeros(n)\n",
    "\n",
    "                    for i in range(n):\n",
    "                        left_dwelling_t[i] = v2[i][0]\n",
    "                        left_sd[i] = v2[i][1]\n",
    "                        left_mean[i] = v2[i][2]\n",
    "\n",
    "                        centre_dwelling_t[i] = v2[i][3]\n",
    "                        centre_sd[i] = v2[i][4]\n",
    "                        centre_mean[i] = v2[i][5]\n",
    "                        \n",
    "                        right_dwelling_t[i] = v2[i][6]\n",
    "                        right_sd[i] = v2[i][7]\n",
    "                        right_mean[i] = v2[i][8]\n",
    "\n",
    "                    left_dwelling_t = np.median(left_dwelling_t)\n",
    "                    left_sd = np.median(left_sd)\n",
    "                    left_mean = np.median(left_mean)\n",
    "\n",
    "                    centre_dwelling_t = np.median(centre_dwelling_t)\n",
    "                    centre_sd = np.median(centre_sd)\n",
    "                    centre_mean = np.median(centre_mean)\n",
    "                    \n",
    "                    right_dwelling_t = np.median(right_dwelling_t)\n",
    "                    right_sd = np.median(right_sd)\n",
    "                    right_mean = np.median(right_mean)\n",
    "                    \n",
    "                final_order = order[:3] + order[5:]\n",
    "                curr_dataframe = pd.DataFrame({'transcript_id':[transcript], 'order': [final_order], 'curr_pos': [k1], 'median_left_dwelling_t': [left_dwelling_t], 'median_left_sd': [left_sd], \n",
    "                                            'median_left_mean': [left_mean], 'median_centre_dwelling_t': [centre_dwelling_t], 'median_centre_sd': [centre_sd], 'median_centre_mean': [centre_mean], \n",
    "                                            'median_right_dwelling_t': [right_dwelling_t], 'median_right_sd': [right_sd], 'median_right_mean': [right_mean], 'num_reads': n})   \n",
    "                dataframes.append(curr_dataframe)\n",
    "    final_df = pd.concat(dataframes)\n",
    "    final_df['curr_pos'] = final_df['curr_pos'].astype('int64')\n",
    "    return final_df "
   ]
  },
  {
   "cell_type": "code",
   "execution_count": 4,
   "metadata": {},
   "outputs": [],
   "source": [
    "df1 = get_dataframe(df)"
   ]
  },
  {
   "cell_type": "code",
   "execution_count": 5,
   "metadata": {},
   "outputs": [
    {
     "data": {
      "text/html": [
       "<div>\n",
       "<style scoped>\n",
       "    .dataframe tbody tr th:only-of-type {\n",
       "        vertical-align: middle;\n",
       "    }\n",
       "\n",
       "    .dataframe tbody tr th {\n",
       "        vertical-align: top;\n",
       "    }\n",
       "\n",
       "    .dataframe thead th {\n",
       "        text-align: right;\n",
       "    }\n",
       "</style>\n",
       "<table border=\"1\" class=\"dataframe\">\n",
       "  <thead>\n",
       "    <tr style=\"text-align: right;\">\n",
       "      <th></th>\n",
       "      <th>transcript_id</th>\n",
       "      <th>order</th>\n",
       "      <th>curr_pos</th>\n",
       "      <th>median_left_dwelling_t</th>\n",
       "      <th>median_left_sd</th>\n",
       "      <th>median_left_mean</th>\n",
       "      <th>median_centre_dwelling_t</th>\n",
       "      <th>median_centre_sd</th>\n",
       "      <th>median_centre_mean</th>\n",
       "      <th>median_right_dwelling_t</th>\n",
       "      <th>median_right_sd</th>\n",
       "      <th>median_right_mean</th>\n",
       "      <th>num_reads</th>\n",
       "    </tr>\n",
       "  </thead>\n",
       "  <tbody>\n",
       "    <tr>\n",
       "      <th>0</th>\n",
       "      <td>ENST00000000233</td>\n",
       "      <td>AAGCA</td>\n",
       "      <td>244</td>\n",
       "      <td>0.00697</td>\n",
       "      <td>3.73</td>\n",
       "      <td>125.0</td>\n",
       "      <td>0.007970</td>\n",
       "      <td>6.650</td>\n",
       "      <td>126.0</td>\n",
       "      <td>0.005980</td>\n",
       "      <td>3.440</td>\n",
       "      <td>80.50</td>\n",
       "      <td>185</td>\n",
       "    </tr>\n",
       "    <tr>\n",
       "      <th>0</th>\n",
       "      <td>ENST00000000233</td>\n",
       "      <td>CAATG</td>\n",
       "      <td>261</td>\n",
       "      <td>0.00564</td>\n",
       "      <td>2.88</td>\n",
       "      <td>110.0</td>\n",
       "      <td>0.005885</td>\n",
       "      <td>3.000</td>\n",
       "      <td>108.0</td>\n",
       "      <td>0.006790</td>\n",
       "      <td>2.660</td>\n",
       "      <td>94.10</td>\n",
       "      <td>172</td>\n",
       "    </tr>\n",
       "    <tr>\n",
       "      <th>0</th>\n",
       "      <td>ENST00000000233</td>\n",
       "      <td>GAAAG</td>\n",
       "      <td>316</td>\n",
       "      <td>0.00631</td>\n",
       "      <td>2.65</td>\n",
       "      <td>106.0</td>\n",
       "      <td>0.006310</td>\n",
       "      <td>3.780</td>\n",
       "      <td>99.5</td>\n",
       "      <td>0.006310</td>\n",
       "      <td>1.910</td>\n",
       "      <td>89.20</td>\n",
       "      <td>185</td>\n",
       "    </tr>\n",
       "    <tr>\n",
       "      <th>0</th>\n",
       "      <td>ENST00000000233</td>\n",
       "      <td>AGAAT</td>\n",
       "      <td>332</td>\n",
       "      <td>0.00902</td>\n",
       "      <td>5.73</td>\n",
       "      <td>130.0</td>\n",
       "      <td>0.007320</td>\n",
       "      <td>2.635</td>\n",
       "      <td>97.5</td>\n",
       "      <td>0.004980</td>\n",
       "      <td>2.135</td>\n",
       "      <td>89.90</td>\n",
       "      <td>200</td>\n",
       "    </tr>\n",
       "    <tr>\n",
       "      <th>0</th>\n",
       "      <td>ENST00000000233</td>\n",
       "      <td>AGGAA</td>\n",
       "      <td>368</td>\n",
       "      <td>0.00896</td>\n",
       "      <td>6.52</td>\n",
       "      <td>118.0</td>\n",
       "      <td>0.010500</td>\n",
       "      <td>5.660</td>\n",
       "      <td>122.0</td>\n",
       "      <td>0.008695</td>\n",
       "      <td>4.160</td>\n",
       "      <td>85.40</td>\n",
       "      <td>198</td>\n",
       "    </tr>\n",
       "    <tr>\n",
       "      <th>...</th>\n",
       "      <td>...</td>\n",
       "      <td>...</td>\n",
       "      <td>...</td>\n",
       "      <td>...</td>\n",
       "      <td>...</td>\n",
       "      <td>...</td>\n",
       "      <td>...</td>\n",
       "      <td>...</td>\n",
       "      <td>...</td>\n",
       "      <td>...</td>\n",
       "      <td>...</td>\n",
       "      <td>...</td>\n",
       "      <td>...</td>\n",
       "    </tr>\n",
       "    <tr>\n",
       "      <th>0</th>\n",
       "      <td>ENST00000641834</td>\n",
       "      <td>GGGAT</td>\n",
       "      <td>1348</td>\n",
       "      <td>0.00817</td>\n",
       "      <td>3.20</td>\n",
       "      <td>118.0</td>\n",
       "      <td>0.005310</td>\n",
       "      <td>4.580</td>\n",
       "      <td>116.0</td>\n",
       "      <td>0.004650</td>\n",
       "      <td>3.640</td>\n",
       "      <td>82.10</td>\n",
       "      <td>73</td>\n",
       "    </tr>\n",
       "    <tr>\n",
       "      <th>0</th>\n",
       "      <td>ENST00000641834</td>\n",
       "      <td>CTGAC</td>\n",
       "      <td>1429</td>\n",
       "      <td>0.00618</td>\n",
       "      <td>3.69</td>\n",
       "      <td>112.0</td>\n",
       "      <td>0.009600</td>\n",
       "      <td>9.140</td>\n",
       "      <td>116.0</td>\n",
       "      <td>0.004820</td>\n",
       "      <td>3.440</td>\n",
       "      <td>80.60</td>\n",
       "      <td>69</td>\n",
       "    </tr>\n",
       "    <tr>\n",
       "      <th>0</th>\n",
       "      <td>ENST00000641834</td>\n",
       "      <td>TGGAC</td>\n",
       "      <td>1531</td>\n",
       "      <td>0.00697</td>\n",
       "      <td>3.83</td>\n",
       "      <td>114.0</td>\n",
       "      <td>0.005725</td>\n",
       "      <td>4.440</td>\n",
       "      <td>114.0</td>\n",
       "      <td>0.005790</td>\n",
       "      <td>1.925</td>\n",
       "      <td>84.50</td>\n",
       "      <td>64</td>\n",
       "    </tr>\n",
       "    <tr>\n",
       "      <th>0</th>\n",
       "      <td>ENST00000641834</td>\n",
       "      <td>CTGCA</td>\n",
       "      <td>1537</td>\n",
       "      <td>0.00660</td>\n",
       "      <td>3.16</td>\n",
       "      <td>110.0</td>\n",
       "      <td>0.006810</td>\n",
       "      <td>5.790</td>\n",
       "      <td>124.0</td>\n",
       "      <td>0.006310</td>\n",
       "      <td>2.330</td>\n",
       "      <td>82.00</td>\n",
       "      <td>57</td>\n",
       "    </tr>\n",
       "    <tr>\n",
       "      <th>0</th>\n",
       "      <td>ENST00000641834</td>\n",
       "      <td>TTGAT</td>\n",
       "      <td>1693</td>\n",
       "      <td>0.00709</td>\n",
       "      <td>3.16</td>\n",
       "      <td>107.0</td>\n",
       "      <td>0.006705</td>\n",
       "      <td>8.675</td>\n",
       "      <td>113.0</td>\n",
       "      <td>0.006205</td>\n",
       "      <td>2.295</td>\n",
       "      <td>77.45</td>\n",
       "      <td>52</td>\n",
       "    </tr>\n",
       "  </tbody>\n",
       "</table>\n",
       "<p>121838 rows × 13 columns</p>\n",
       "</div>"
      ],
      "text/plain": [
       "      transcript_id  order  curr_pos  median_left_dwelling_t  median_left_sd  \\\n",
       "0   ENST00000000233  AAGCA       244                 0.00697            3.73   \n",
       "0   ENST00000000233  CAATG       261                 0.00564            2.88   \n",
       "0   ENST00000000233  GAAAG       316                 0.00631            2.65   \n",
       "0   ENST00000000233  AGAAT       332                 0.00902            5.73   \n",
       "0   ENST00000000233  AGGAA       368                 0.00896            6.52   \n",
       "..              ...    ...       ...                     ...             ...   \n",
       "0   ENST00000641834  GGGAT      1348                 0.00817            3.20   \n",
       "0   ENST00000641834  CTGAC      1429                 0.00618            3.69   \n",
       "0   ENST00000641834  TGGAC      1531                 0.00697            3.83   \n",
       "0   ENST00000641834  CTGCA      1537                 0.00660            3.16   \n",
       "0   ENST00000641834  TTGAT      1693                 0.00709            3.16   \n",
       "\n",
       "    median_left_mean  median_centre_dwelling_t  median_centre_sd  \\\n",
       "0              125.0                  0.007970             6.650   \n",
       "0              110.0                  0.005885             3.000   \n",
       "0              106.0                  0.006310             3.780   \n",
       "0              130.0                  0.007320             2.635   \n",
       "0              118.0                  0.010500             5.660   \n",
       "..               ...                       ...               ...   \n",
       "0              118.0                  0.005310             4.580   \n",
       "0              112.0                  0.009600             9.140   \n",
       "0              114.0                  0.005725             4.440   \n",
       "0              110.0                  0.006810             5.790   \n",
       "0              107.0                  0.006705             8.675   \n",
       "\n",
       "    median_centre_mean  median_right_dwelling_t  median_right_sd  \\\n",
       "0                126.0                 0.005980            3.440   \n",
       "0                108.0                 0.006790            2.660   \n",
       "0                 99.5                 0.006310            1.910   \n",
       "0                 97.5                 0.004980            2.135   \n",
       "0                122.0                 0.008695            4.160   \n",
       "..                 ...                      ...              ...   \n",
       "0                116.0                 0.004650            3.640   \n",
       "0                116.0                 0.004820            3.440   \n",
       "0                114.0                 0.005790            1.925   \n",
       "0                124.0                 0.006310            2.330   \n",
       "0                113.0                 0.006205            2.295   \n",
       "\n",
       "    median_right_mean  num_reads  \n",
       "0               80.50        185  \n",
       "0               94.10        172  \n",
       "0               89.20        185  \n",
       "0               89.90        200  \n",
       "0               85.40        198  \n",
       "..                ...        ...  \n",
       "0               82.10         73  \n",
       "0               80.60         69  \n",
       "0               84.50         64  \n",
       "0               82.00         57  \n",
       "0               77.45         52  \n",
       "\n",
       "[121838 rows x 13 columns]"
      ]
     },
     "execution_count": 5,
     "metadata": {},
     "output_type": "execute_result"
    }
   ],
   "source": [
    "df1"
   ]
  },
  {
   "cell_type": "markdown",
   "metadata": {},
   "source": [
    "### Preprocess"
   ]
  },
  {
   "cell_type": "markdown",
   "metadata": {},
   "source": [
    "If we look at an eg. AAGACCA, the letters 'AC' will repeat in index 3 and 4 for every single order. So we aim to drop A and C from the columns. Next, because of DRACH rules, we know for sure that we will have the following bases at each position:\n",
    "\n",
    "- order1 - all\n",
    "- order2 - AGT\n",
    "- order3 - AG\n",
    "- order4 - A (we drop these cols)\n",
    "- order5 - C (we drop these cols)\n",
    "- order6 - ACT\n",
    "- order7 - all"
   ]
  },
  {
   "cell_type": "code",
   "execution_count": 6,
   "metadata": {},
   "outputs": [],
   "source": [
    "df1 = pd.merge(df1, labels, how='left',left_on=['transcript_id', 'curr_pos'], right_on=['transcript_id', 'transcript_position'])\n",
    "df1 = df1.drop(['transcript_position'], axis='columns')"
   ]
  },
  {
   "cell_type": "code",
   "execution_count": 7,
   "metadata": {},
   "outputs": [],
   "source": [
    "df2 = df1.copy()\n",
    "df2['order_1'] = df2['order'].apply(lambda x: x[0])\n",
    "df2['order_2'] = df2['order'].apply(lambda x: x[1])\n",
    "df2['order_3'] = df2['order'].apply(lambda x: x[2])\n",
    "df2['order_4'] = df2['order'].apply(lambda x: x[3])\n",
    "df2['order_5'] = df2['order'].apply(lambda x: x[4])"
   ]
  },
  {
   "cell_type": "code",
   "execution_count": 8,
   "metadata": {},
   "outputs": [
    {
     "data": {
      "text/html": [
       "<div>\n",
       "<style scoped>\n",
       "    .dataframe tbody tr th:only-of-type {\n",
       "        vertical-align: middle;\n",
       "    }\n",
       "\n",
       "    .dataframe tbody tr th {\n",
       "        vertical-align: top;\n",
       "    }\n",
       "\n",
       "    .dataframe thead th {\n",
       "        text-align: right;\n",
       "    }\n",
       "</style>\n",
       "<table border=\"1\" class=\"dataframe\">\n",
       "  <thead>\n",
       "    <tr style=\"text-align: right;\">\n",
       "      <th></th>\n",
       "      <th>order</th>\n",
       "      <th>order_1</th>\n",
       "      <th>order_2</th>\n",
       "      <th>order_3</th>\n",
       "      <th>order_4</th>\n",
       "      <th>order_5</th>\n",
       "    </tr>\n",
       "  </thead>\n",
       "  <tbody>\n",
       "    <tr>\n",
       "      <th>0</th>\n",
       "      <td>AAGCA</td>\n",
       "      <td>A</td>\n",
       "      <td>A</td>\n",
       "      <td>G</td>\n",
       "      <td>C</td>\n",
       "      <td>A</td>\n",
       "    </tr>\n",
       "    <tr>\n",
       "      <th>1</th>\n",
       "      <td>CAATG</td>\n",
       "      <td>C</td>\n",
       "      <td>A</td>\n",
       "      <td>A</td>\n",
       "      <td>T</td>\n",
       "      <td>G</td>\n",
       "    </tr>\n",
       "    <tr>\n",
       "      <th>2</th>\n",
       "      <td>GAAAG</td>\n",
       "      <td>G</td>\n",
       "      <td>A</td>\n",
       "      <td>A</td>\n",
       "      <td>A</td>\n",
       "      <td>G</td>\n",
       "    </tr>\n",
       "    <tr>\n",
       "      <th>3</th>\n",
       "      <td>AGAAT</td>\n",
       "      <td>A</td>\n",
       "      <td>G</td>\n",
       "      <td>A</td>\n",
       "      <td>A</td>\n",
       "      <td>T</td>\n",
       "    </tr>\n",
       "    <tr>\n",
       "      <th>4</th>\n",
       "      <td>AGGAA</td>\n",
       "      <td>A</td>\n",
       "      <td>G</td>\n",
       "      <td>G</td>\n",
       "      <td>A</td>\n",
       "      <td>A</td>\n",
       "    </tr>\n",
       "    <tr>\n",
       "      <th>...</th>\n",
       "      <td>...</td>\n",
       "      <td>...</td>\n",
       "      <td>...</td>\n",
       "      <td>...</td>\n",
       "      <td>...</td>\n",
       "      <td>...</td>\n",
       "    </tr>\n",
       "    <tr>\n",
       "      <th>121833</th>\n",
       "      <td>GGGAT</td>\n",
       "      <td>G</td>\n",
       "      <td>G</td>\n",
       "      <td>G</td>\n",
       "      <td>A</td>\n",
       "      <td>T</td>\n",
       "    </tr>\n",
       "    <tr>\n",
       "      <th>121834</th>\n",
       "      <td>CTGAC</td>\n",
       "      <td>C</td>\n",
       "      <td>T</td>\n",
       "      <td>G</td>\n",
       "      <td>A</td>\n",
       "      <td>C</td>\n",
       "    </tr>\n",
       "    <tr>\n",
       "      <th>121835</th>\n",
       "      <td>TGGAC</td>\n",
       "      <td>T</td>\n",
       "      <td>G</td>\n",
       "      <td>G</td>\n",
       "      <td>A</td>\n",
       "      <td>C</td>\n",
       "    </tr>\n",
       "    <tr>\n",
       "      <th>121836</th>\n",
       "      <td>CTGCA</td>\n",
       "      <td>C</td>\n",
       "      <td>T</td>\n",
       "      <td>G</td>\n",
       "      <td>C</td>\n",
       "      <td>A</td>\n",
       "    </tr>\n",
       "    <tr>\n",
       "      <th>121837</th>\n",
       "      <td>TTGAT</td>\n",
       "      <td>T</td>\n",
       "      <td>T</td>\n",
       "      <td>G</td>\n",
       "      <td>A</td>\n",
       "      <td>T</td>\n",
       "    </tr>\n",
       "  </tbody>\n",
       "</table>\n",
       "<p>121838 rows × 6 columns</p>\n",
       "</div>"
      ],
      "text/plain": [
       "        order order_1 order_2 order_3 order_4 order_5\n",
       "0       AAGCA       A       A       G       C       A\n",
       "1       CAATG       C       A       A       T       G\n",
       "2       GAAAG       G       A       A       A       G\n",
       "3       AGAAT       A       G       A       A       T\n",
       "4       AGGAA       A       G       G       A       A\n",
       "...       ...     ...     ...     ...     ...     ...\n",
       "121833  GGGAT       G       G       G       A       T\n",
       "121834  CTGAC       C       T       G       A       C\n",
       "121835  TGGAC       T       G       G       A       C\n",
       "121836  CTGCA       C       T       G       C       A\n",
       "121837  TTGAT       T       T       G       A       T\n",
       "\n",
       "[121838 rows x 6 columns]"
      ]
     },
     "execution_count": 8,
     "metadata": {},
     "output_type": "execute_result"
    }
   ],
   "source": [
    "df2.loc[:, ['order', 'order_1', 'order_2', 'order_3', 'order_4', 'order_5']]"
   ]
  },
  {
   "cell_type": "code",
   "execution_count": 9,
   "metadata": {},
   "outputs": [],
   "source": [
    "#categorical data\n",
    "categorical_cols = ['order_1', 'order_2', 'order_3',\n",
    "       'order_4', 'order_5']\n",
    "\n",
    "#import pandas as pd\n",
    "df3 = pd.get_dummies(df2, columns = categorical_cols)"
   ]
  },
  {
   "cell_type": "code",
   "execution_count": 10,
   "metadata": {},
   "outputs": [],
   "source": [
    "expected_columns = ['order_1_A', 'order_1_C', 'order_1_G', 'order_1_T',\n",
    "                    'order_2_A', 'order_2_G', 'order_2_T', \n",
    "                    'order_3_A', 'order_3_G', \n",
    "                    'order_4_A', 'order_4_C', 'order_4_T', \n",
    "                    'order_5_A', 'order_5_C', 'order_5_G', 'order_5_T']"
   ]
  },
  {
   "cell_type": "code",
   "execution_count": 11,
   "metadata": {},
   "outputs": [
    {
     "data": {
      "text/html": [
       "<div>\n",
       "<style scoped>\n",
       "    .dataframe tbody tr th:only-of-type {\n",
       "        vertical-align: middle;\n",
       "    }\n",
       "\n",
       "    .dataframe tbody tr th {\n",
       "        vertical-align: top;\n",
       "    }\n",
       "\n",
       "    .dataframe thead th {\n",
       "        text-align: right;\n",
       "    }\n",
       "</style>\n",
       "<table border=\"1\" class=\"dataframe\">\n",
       "  <thead>\n",
       "    <tr style=\"text-align: right;\">\n",
       "      <th></th>\n",
       "      <th>transcript_id</th>\n",
       "      <th>order</th>\n",
       "      <th>curr_pos</th>\n",
       "      <th>median_left_dwelling_t</th>\n",
       "      <th>median_left_sd</th>\n",
       "      <th>median_left_mean</th>\n",
       "      <th>median_centre_dwelling_t</th>\n",
       "      <th>median_centre_sd</th>\n",
       "      <th>median_centre_mean</th>\n",
       "      <th>median_right_dwelling_t</th>\n",
       "      <th>...</th>\n",
       "      <th>order_2_T</th>\n",
       "      <th>order_3_A</th>\n",
       "      <th>order_3_G</th>\n",
       "      <th>order_4_A</th>\n",
       "      <th>order_4_C</th>\n",
       "      <th>order_4_T</th>\n",
       "      <th>order_5_A</th>\n",
       "      <th>order_5_C</th>\n",
       "      <th>order_5_G</th>\n",
       "      <th>order_5_T</th>\n",
       "    </tr>\n",
       "  </thead>\n",
       "  <tbody>\n",
       "    <tr>\n",
       "      <th>0</th>\n",
       "      <td>ENST00000000233</td>\n",
       "      <td>AAGCA</td>\n",
       "      <td>244</td>\n",
       "      <td>0.00697</td>\n",
       "      <td>3.73</td>\n",
       "      <td>125.0</td>\n",
       "      <td>0.007970</td>\n",
       "      <td>6.650</td>\n",
       "      <td>126.0</td>\n",
       "      <td>0.005980</td>\n",
       "      <td>...</td>\n",
       "      <td>0</td>\n",
       "      <td>0</td>\n",
       "      <td>1</td>\n",
       "      <td>0</td>\n",
       "      <td>1</td>\n",
       "      <td>0</td>\n",
       "      <td>1</td>\n",
       "      <td>0</td>\n",
       "      <td>0</td>\n",
       "      <td>0</td>\n",
       "    </tr>\n",
       "    <tr>\n",
       "      <th>1</th>\n",
       "      <td>ENST00000000233</td>\n",
       "      <td>CAATG</td>\n",
       "      <td>261</td>\n",
       "      <td>0.00564</td>\n",
       "      <td>2.88</td>\n",
       "      <td>110.0</td>\n",
       "      <td>0.005885</td>\n",
       "      <td>3.000</td>\n",
       "      <td>108.0</td>\n",
       "      <td>0.006790</td>\n",
       "      <td>...</td>\n",
       "      <td>0</td>\n",
       "      <td>1</td>\n",
       "      <td>0</td>\n",
       "      <td>0</td>\n",
       "      <td>0</td>\n",
       "      <td>1</td>\n",
       "      <td>0</td>\n",
       "      <td>0</td>\n",
       "      <td>1</td>\n",
       "      <td>0</td>\n",
       "    </tr>\n",
       "    <tr>\n",
       "      <th>2</th>\n",
       "      <td>ENST00000000233</td>\n",
       "      <td>GAAAG</td>\n",
       "      <td>316</td>\n",
       "      <td>0.00631</td>\n",
       "      <td>2.65</td>\n",
       "      <td>106.0</td>\n",
       "      <td>0.006310</td>\n",
       "      <td>3.780</td>\n",
       "      <td>99.5</td>\n",
       "      <td>0.006310</td>\n",
       "      <td>...</td>\n",
       "      <td>0</td>\n",
       "      <td>1</td>\n",
       "      <td>0</td>\n",
       "      <td>1</td>\n",
       "      <td>0</td>\n",
       "      <td>0</td>\n",
       "      <td>0</td>\n",
       "      <td>0</td>\n",
       "      <td>1</td>\n",
       "      <td>0</td>\n",
       "    </tr>\n",
       "    <tr>\n",
       "      <th>3</th>\n",
       "      <td>ENST00000000233</td>\n",
       "      <td>AGAAT</td>\n",
       "      <td>332</td>\n",
       "      <td>0.00902</td>\n",
       "      <td>5.73</td>\n",
       "      <td>130.0</td>\n",
       "      <td>0.007320</td>\n",
       "      <td>2.635</td>\n",
       "      <td>97.5</td>\n",
       "      <td>0.004980</td>\n",
       "      <td>...</td>\n",
       "      <td>0</td>\n",
       "      <td>1</td>\n",
       "      <td>0</td>\n",
       "      <td>1</td>\n",
       "      <td>0</td>\n",
       "      <td>0</td>\n",
       "      <td>0</td>\n",
       "      <td>0</td>\n",
       "      <td>0</td>\n",
       "      <td>1</td>\n",
       "    </tr>\n",
       "    <tr>\n",
       "      <th>4</th>\n",
       "      <td>ENST00000000233</td>\n",
       "      <td>AGGAA</td>\n",
       "      <td>368</td>\n",
       "      <td>0.00896</td>\n",
       "      <td>6.52</td>\n",
       "      <td>118.0</td>\n",
       "      <td>0.010500</td>\n",
       "      <td>5.660</td>\n",
       "      <td>122.0</td>\n",
       "      <td>0.008695</td>\n",
       "      <td>...</td>\n",
       "      <td>0</td>\n",
       "      <td>0</td>\n",
       "      <td>1</td>\n",
       "      <td>1</td>\n",
       "      <td>0</td>\n",
       "      <td>0</td>\n",
       "      <td>1</td>\n",
       "      <td>0</td>\n",
       "      <td>0</td>\n",
       "      <td>0</td>\n",
       "    </tr>\n",
       "    <tr>\n",
       "      <th>...</th>\n",
       "      <td>...</td>\n",
       "      <td>...</td>\n",
       "      <td>...</td>\n",
       "      <td>...</td>\n",
       "      <td>...</td>\n",
       "      <td>...</td>\n",
       "      <td>...</td>\n",
       "      <td>...</td>\n",
       "      <td>...</td>\n",
       "      <td>...</td>\n",
       "      <td>...</td>\n",
       "      <td>...</td>\n",
       "      <td>...</td>\n",
       "      <td>...</td>\n",
       "      <td>...</td>\n",
       "      <td>...</td>\n",
       "      <td>...</td>\n",
       "      <td>...</td>\n",
       "      <td>...</td>\n",
       "      <td>...</td>\n",
       "      <td>...</td>\n",
       "    </tr>\n",
       "    <tr>\n",
       "      <th>121833</th>\n",
       "      <td>ENST00000641834</td>\n",
       "      <td>GGGAT</td>\n",
       "      <td>1348</td>\n",
       "      <td>0.00817</td>\n",
       "      <td>3.20</td>\n",
       "      <td>118.0</td>\n",
       "      <td>0.005310</td>\n",
       "      <td>4.580</td>\n",
       "      <td>116.0</td>\n",
       "      <td>0.004650</td>\n",
       "      <td>...</td>\n",
       "      <td>0</td>\n",
       "      <td>0</td>\n",
       "      <td>1</td>\n",
       "      <td>1</td>\n",
       "      <td>0</td>\n",
       "      <td>0</td>\n",
       "      <td>0</td>\n",
       "      <td>0</td>\n",
       "      <td>0</td>\n",
       "      <td>1</td>\n",
       "    </tr>\n",
       "    <tr>\n",
       "      <th>121834</th>\n",
       "      <td>ENST00000641834</td>\n",
       "      <td>CTGAC</td>\n",
       "      <td>1429</td>\n",
       "      <td>0.00618</td>\n",
       "      <td>3.69</td>\n",
       "      <td>112.0</td>\n",
       "      <td>0.009600</td>\n",
       "      <td>9.140</td>\n",
       "      <td>116.0</td>\n",
       "      <td>0.004820</td>\n",
       "      <td>...</td>\n",
       "      <td>1</td>\n",
       "      <td>0</td>\n",
       "      <td>1</td>\n",
       "      <td>1</td>\n",
       "      <td>0</td>\n",
       "      <td>0</td>\n",
       "      <td>0</td>\n",
       "      <td>1</td>\n",
       "      <td>0</td>\n",
       "      <td>0</td>\n",
       "    </tr>\n",
       "    <tr>\n",
       "      <th>121835</th>\n",
       "      <td>ENST00000641834</td>\n",
       "      <td>TGGAC</td>\n",
       "      <td>1531</td>\n",
       "      <td>0.00697</td>\n",
       "      <td>3.83</td>\n",
       "      <td>114.0</td>\n",
       "      <td>0.005725</td>\n",
       "      <td>4.440</td>\n",
       "      <td>114.0</td>\n",
       "      <td>0.005790</td>\n",
       "      <td>...</td>\n",
       "      <td>0</td>\n",
       "      <td>0</td>\n",
       "      <td>1</td>\n",
       "      <td>1</td>\n",
       "      <td>0</td>\n",
       "      <td>0</td>\n",
       "      <td>0</td>\n",
       "      <td>1</td>\n",
       "      <td>0</td>\n",
       "      <td>0</td>\n",
       "    </tr>\n",
       "    <tr>\n",
       "      <th>121836</th>\n",
       "      <td>ENST00000641834</td>\n",
       "      <td>CTGCA</td>\n",
       "      <td>1537</td>\n",
       "      <td>0.00660</td>\n",
       "      <td>3.16</td>\n",
       "      <td>110.0</td>\n",
       "      <td>0.006810</td>\n",
       "      <td>5.790</td>\n",
       "      <td>124.0</td>\n",
       "      <td>0.006310</td>\n",
       "      <td>...</td>\n",
       "      <td>1</td>\n",
       "      <td>0</td>\n",
       "      <td>1</td>\n",
       "      <td>0</td>\n",
       "      <td>1</td>\n",
       "      <td>0</td>\n",
       "      <td>1</td>\n",
       "      <td>0</td>\n",
       "      <td>0</td>\n",
       "      <td>0</td>\n",
       "    </tr>\n",
       "    <tr>\n",
       "      <th>121837</th>\n",
       "      <td>ENST00000641834</td>\n",
       "      <td>TTGAT</td>\n",
       "      <td>1693</td>\n",
       "      <td>0.00709</td>\n",
       "      <td>3.16</td>\n",
       "      <td>107.0</td>\n",
       "      <td>0.006705</td>\n",
       "      <td>8.675</td>\n",
       "      <td>113.0</td>\n",
       "      <td>0.006205</td>\n",
       "      <td>...</td>\n",
       "      <td>1</td>\n",
       "      <td>0</td>\n",
       "      <td>1</td>\n",
       "      <td>1</td>\n",
       "      <td>0</td>\n",
       "      <td>0</td>\n",
       "      <td>0</td>\n",
       "      <td>0</td>\n",
       "      <td>0</td>\n",
       "      <td>1</td>\n",
       "    </tr>\n",
       "  </tbody>\n",
       "</table>\n",
       "<p>121838 rows × 31 columns</p>\n",
       "</div>"
      ],
      "text/plain": [
       "          transcript_id  order  curr_pos  median_left_dwelling_t  \\\n",
       "0       ENST00000000233  AAGCA       244                 0.00697   \n",
       "1       ENST00000000233  CAATG       261                 0.00564   \n",
       "2       ENST00000000233  GAAAG       316                 0.00631   \n",
       "3       ENST00000000233  AGAAT       332                 0.00902   \n",
       "4       ENST00000000233  AGGAA       368                 0.00896   \n",
       "...                 ...    ...       ...                     ...   \n",
       "121833  ENST00000641834  GGGAT      1348                 0.00817   \n",
       "121834  ENST00000641834  CTGAC      1429                 0.00618   \n",
       "121835  ENST00000641834  TGGAC      1531                 0.00697   \n",
       "121836  ENST00000641834  CTGCA      1537                 0.00660   \n",
       "121837  ENST00000641834  TTGAT      1693                 0.00709   \n",
       "\n",
       "        median_left_sd  median_left_mean  median_centre_dwelling_t  \\\n",
       "0                 3.73             125.0                  0.007970   \n",
       "1                 2.88             110.0                  0.005885   \n",
       "2                 2.65             106.0                  0.006310   \n",
       "3                 5.73             130.0                  0.007320   \n",
       "4                 6.52             118.0                  0.010500   \n",
       "...                ...               ...                       ...   \n",
       "121833            3.20             118.0                  0.005310   \n",
       "121834            3.69             112.0                  0.009600   \n",
       "121835            3.83             114.0                  0.005725   \n",
       "121836            3.16             110.0                  0.006810   \n",
       "121837            3.16             107.0                  0.006705   \n",
       "\n",
       "        median_centre_sd  median_centre_mean  median_right_dwelling_t  ...  \\\n",
       "0                  6.650               126.0                 0.005980  ...   \n",
       "1                  3.000               108.0                 0.006790  ...   \n",
       "2                  3.780                99.5                 0.006310  ...   \n",
       "3                  2.635                97.5                 0.004980  ...   \n",
       "4                  5.660               122.0                 0.008695  ...   \n",
       "...                  ...                 ...                      ...  ...   \n",
       "121833             4.580               116.0                 0.004650  ...   \n",
       "121834             9.140               116.0                 0.004820  ...   \n",
       "121835             4.440               114.0                 0.005790  ...   \n",
       "121836             5.790               124.0                 0.006310  ...   \n",
       "121837             8.675               113.0                 0.006205  ...   \n",
       "\n",
       "        order_2_T  order_3_A  order_3_G order_4_A  order_4_C  order_4_T  \\\n",
       "0               0          0          1         0          1          0   \n",
       "1               0          1          0         0          0          1   \n",
       "2               0          1          0         1          0          0   \n",
       "3               0          1          0         1          0          0   \n",
       "4               0          0          1         1          0          0   \n",
       "...           ...        ...        ...       ...        ...        ...   \n",
       "121833          0          0          1         1          0          0   \n",
       "121834          1          0          1         1          0          0   \n",
       "121835          0          0          1         1          0          0   \n",
       "121836          1          0          1         0          1          0   \n",
       "121837          1          0          1         1          0          0   \n",
       "\n",
       "        order_5_A  order_5_C  order_5_G  order_5_T  \n",
       "0               1          0          0          0  \n",
       "1               0          0          1          0  \n",
       "2               0          0          1          0  \n",
       "3               0          0          0          1  \n",
       "4               1          0          0          0  \n",
       "...           ...        ...        ...        ...  \n",
       "121833          0          0          0          1  \n",
       "121834          0          1          0          0  \n",
       "121835          0          1          0          0  \n",
       "121836          1          0          0          0  \n",
       "121837          0          0          0          1  \n",
       "\n",
       "[121838 rows x 31 columns]"
      ]
     },
     "execution_count": 11,
     "metadata": {},
     "output_type": "execute_result"
    }
   ],
   "source": [
    "df3"
   ]
  },
  {
   "cell_type": "code",
   "execution_count": 12,
   "metadata": {},
   "outputs": [],
   "source": [
    "added_cols = []\n",
    "df3_cols = df3.columns\n",
    "for col in expected_columns:\n",
    "    if col not in df3_cols:\n",
    "        df3[col] = [0 for i in range(len(df3))]\n",
    "        added_cols.append(col)"
   ]
  },
  {
   "cell_type": "code",
   "execution_count": 14,
   "metadata": {},
   "outputs": [
    {
     "data": {
      "text/plain": [
       "[]"
      ]
     },
     "execution_count": 14,
     "metadata": {},
     "output_type": "execute_result"
    }
   ],
   "source": [
    "added_cols"
   ]
  },
  {
   "cell_type": "code",
   "execution_count": 13,
   "metadata": {},
   "outputs": [
    {
     "data": {
      "text/plain": [
       "Index(['transcript_id', 'order', 'curr_pos', 'median_left_dwelling_t',\n",
       "       'median_left_sd', 'median_left_mean', 'median_centre_dwelling_t',\n",
       "       'median_centre_sd', 'median_centre_mean', 'median_right_dwelling_t',\n",
       "       'median_right_sd', 'median_right_mean', 'num_reads', 'gene_id', 'label',\n",
       "       'order_1_A', 'order_1_C', 'order_1_G', 'order_1_T', 'order_2_A',\n",
       "       'order_2_G', 'order_2_T', 'order_3_A', 'order_3_G', 'order_4_A',\n",
       "       'order_4_C', 'order_4_T', 'order_5_A', 'order_5_C', 'order_5_G',\n",
       "       'order_5_T'],\n",
       "      dtype='object')"
      ]
     },
     "execution_count": 13,
     "metadata": {},
     "output_type": "execute_result"
    }
   ],
   "source": [
    "df3.columns"
   ]
  },
  {
   "cell_type": "code",
   "execution_count": 15,
   "metadata": {},
   "outputs": [],
   "source": [
    "ordered_columns = ['transcript_id', 'order', 'curr_pos',\n",
    "       'median_left_dwelling_t', 'median_left_sd', 'median_left_mean',\n",
    "       'median_centre_dwelling_t', 'median_centre_sd', 'median_centre_mean',\n",
    "       'median_right_dwelling_t', 'median_right_sd', 'median_right_mean', 'num_reads',\n",
    "       'gene_id', \n",
    "       'order_1_A',\n",
    "       'order_1_C', 'order_1_G', 'order_1_T', 'order_2_A', 'order_2_G',\n",
    "       'order_2_T', 'order_3_A', 'order_3_G', 'order_4_A', 'order_4_C',\n",
    "       'order_4_T', 'order_5_A', 'order_5_C', 'order_5_G', 'order_5_T', 'label']\n",
    "df3 = df3[ordered_columns]\n",
    "    "
   ]
  },
  {
   "cell_type": "markdown",
   "metadata": {},
   "source": [
    "### Correlation Plot"
   ]
  },
  {
   "cell_type": "code",
   "execution_count": 16,
   "metadata": {},
   "outputs": [],
   "source": [
    "cat_lst = ['order_1_A',\n",
    "       'order_1_C', 'order_1_G', 'order_1_T', 'order_2_A', 'order_2_G',\n",
    "       'order_2_T', 'order_3_A', 'order_3_G', 'order_4_A', 'order_4_C',\n",
    "       'order_4_T', 'order_5_A', 'order_5_C', 'order_5_G', 'order_5_T', 'label']\n",
    "cat_dict = {}\n",
    "\n",
    "cont_dict = {}\n",
    "cont_lst = ['curr_pos',\n",
    "       'median_left_dwelling_t', 'median_left_sd', 'median_left_mean',\n",
    "       'median_centre_dwelling_t', 'median_centre_sd', 'median_centre_mean',\n",
    "       'median_right_dwelling_t', 'median_right_sd', 'median_right_mean', 'num_reads'\n",
    "]\n",
    "\n",
    "for val in cat_lst:\n",
    "    cat_dict[val] = 'categorical'\n",
    "\n",
    "for val in cont_lst:\n",
    "       cont_dict[val] = 'continuous'"
   ]
  },
  {
   "cell_type": "code",
   "execution_count": 17,
   "metadata": {},
   "outputs": [],
   "source": [
    "cont_dict.update(cat_dict)\n",
    "corr_df = df3.copy()\n",
    "corr_df.drop(['transcript_id', 'order', 'gene_id'], axis=1, inplace=True)\n",
    "corr_df[cat_lst] = corr_df[cat_lst].astype('category')"
   ]
  },
  {
   "cell_type": "code",
   "execution_count": 19,
   "metadata": {},
   "outputs": [
    {
     "name": "stdout",
     "output_type": "stream",
     "text": [
      "median_left_mean,order_2_T 0.7127261622078637\n",
      "median_centre_sd,order_3_A 0.8134970316264851\n",
      "median_centre_sd,order_3_G 0.8134970316264851\n",
      "median_centre_mean,order_3_A 0.9281478842912927\n",
      "median_centre_mean,order_3_G 0.9281478842912927\n",
      "median_right_mean,order_4_T 0.711338851587455\n",
      "order_3_A,order_3_G 0.9999835464595861\n"
     ]
    },
    {
     "data": {
      "image/png": "[encoded data removed]",
      "text/plain": [
       "<Figure size 1800x1800 with 2 Axes>"
      ]
     },
     "metadata": {},
     "output_type": "display_data"
    }
   ],
   "source": [
    "column_names = corr_df.columns.tolist()\n",
    "corr_dict = cont_dict\n",
    "corr_lst = []\n",
    "\n",
    "corr_matrix = np.zeros((len(column_names), len(column_names)))\n",
    "corr_matrix = pd.DataFrame(corr_matrix, columns = column_names, index = column_names)\n",
    "\n",
    "def cramers_corrected_stat(x, y):\n",
    "    confusion_matrix = pd.crosstab(x, y)\n",
    "    chi2 = chi2_contingency(confusion_matrix)[0]\n",
    "    n = confusion_matrix.sum().sum()\n",
    "    phi2 = chi2/n\n",
    "    r,k = confusion_matrix.shape\n",
    "    phi2corr = max(0, phi2 - ((k-1)*(r-1))/(n-1))    \n",
    "    rcorr = r - ((r-1)**2)/(n-1)\n",
    "    kcorr = k - ((k-1)**2)/(n-1)\n",
    "    return np.sqrt(phi2corr / min( (kcorr-1), (rcorr-1)))\n",
    "\n",
    "def correlation_ratio(categories, measurements):\n",
    "    fcat, _ = pd.factorize(categories)\n",
    "    cat_num = np.max(fcat)+1\n",
    "    y_avg_array = np.zeros(cat_num)\n",
    "    n_array = np.zeros(cat_num)\n",
    "    for i in range(0,cat_num):\n",
    "        cat_measures = measurements[np.argwhere(fcat == i).flatten()]\n",
    "        n_array[i] = len(cat_measures)\n",
    "        y_avg_array[i] = np.average(cat_measures)\n",
    "    y_total_avg = np.sum(np.multiply(y_avg_array,n_array))/np.sum(n_array)\n",
    "    numerator = np.sum(np.multiply(n_array,np.power(np.subtract(y_avg_array,y_total_avg),2)))\n",
    "    denominator = np.sum(np.power(np.subtract(measurements,y_total_avg),2))\n",
    "    if numerator == 0:\n",
    "        eta = 0.0\n",
    "    else:\n",
    "        eta = np.sqrt(numerator/denominator)\n",
    "    return eta\n",
    "\n",
    "def correlation_coeff(x, y):\n",
    "    abs_corr = abs(x.corr(y, method = 'pearson'))\n",
    "    return abs_corr\n",
    "\n",
    "for key in corr_dict:\n",
    "    for key2 in corr_dict:\n",
    "        if corr_dict[key] == 'continuous' and corr_dict[key2] == 'continuous':\n",
    "            curr_corr = correlation_coeff(corr_df[key], corr_df[key2])\n",
    "        elif corr_dict[key] == 'categorical' and corr_dict[key2] == 'continuous':\n",
    "            curr_corr = correlation_ratio(corr_df[key], corr_df[key2])\n",
    "        elif corr_dict[key] == 'continuous' and corr_dict[key2] == 'categorical':\n",
    "            curr_corr = correlation_ratio(corr_df[key2], corr_df[key])\n",
    "        elif corr_dict[key] == 'categorical' and corr_dict[key2] == 'categorical':\n",
    "            curr_corr = cramers_corrected_stat(corr_df[key], corr_df[key2])\n",
    "        corr_matrix[key][key2] = curr_corr\n",
    "\n",
    "        if curr_corr >= 0.7 and column_names.index(key) < column_names.index(key2):\n",
    "            corr_lst.append([key, key2, curr_corr])\n",
    "            print(key + \",\" + key2 + \" \" + str(curr_corr))\n",
    "\n",
    "sns.set(rc={'figure.figsize':(25,25)})\n",
    "ax = sns.heatmap(corr_matrix,\n",
    "                 xticklabels = column_names,\n",
    "                 yticklabels = column_names,\n",
    "                 vmin = 0,\n",
    "                 vmax = 1,\n",
    "                 cmap = sns.cm.rocket_r)\n",
    "\n",
    "top, bottom = ax.get_ylim()\n",
    "ax.set_ylim(top + 0.5, bottom - 0.5)\n",
    "plt.tight_layout()\n",
    "plt.show()"
   ]
  },
  {
   "cell_type": "markdown",
   "metadata": {},
   "source": [
    "### Train test split"
   ]
  },
  {
   "cell_type": "code",
   "execution_count": 20,
   "metadata": {},
   "outputs": [
    {
     "data": {
      "text/plain": [
       "21.25351598173516"
      ]
     },
     "execution_count": 20,
     "metadata": {},
     "output_type": "execute_result"
    }
   ],
   "source": [
    "labels.label.value_counts()[0]/labels.label.value_counts()[1]"
   ]
  },
  {
   "cell_type": "markdown",
   "metadata": {},
   "source": [
    "There are 21 times more zeroes than 1's. "
   ]
  },
  {
   "cell_type": "code",
   "execution_count": 21,
   "metadata": {},
   "outputs": [
    {
     "name": "stdout",
     "output_type": "stream",
     "text": [
      "Imbalance in train labels: 20.6593603220756\n",
      "Imbalance in test labels: 23.899402390438247\n"
     ]
    }
   ],
   "source": [
    "genes = list(labels['gene_id'].unique())\n",
    "train_genes, test_genes = train_test_split(genes, train_size = 0.8, random_state=42)\n",
    "train_labels = labels[labels['gene_id'].isin(train_genes)]\n",
    "test_labels = labels[labels['gene_id'].isin(test_genes)]\n",
    "print(f'Imbalance in train labels: {train_labels.label.value_counts()[0]/train_labels.label.value_counts()[1]}')\n",
    "print(f'Imbalance in test labels: {test_labels.label.value_counts()[0]/test_labels.label.value_counts()[1]}')"
   ]
  },
  {
   "cell_type": "code",
   "execution_count": 22,
   "metadata": {},
   "outputs": [],
   "source": [
    "X_train = pd.merge(train_labels, df3, how='inner',left_on=['gene_id', 'transcript_id', 'transcript_position', 'label'], right_on=['gene_id', 'transcript_id', 'curr_pos', 'label'])\n",
    "X_test = pd.merge(test_labels, df3, how='inner',left_on=['gene_id','transcript_id', 'transcript_position', 'label'], right_on=['gene_id', 'transcript_id', 'curr_pos', 'label'])"
   ]
  },
  {
   "cell_type": "code",
   "execution_count": 23,
   "metadata": {},
   "outputs": [],
   "source": [
    "y_train = np.asarray(X_train['label'])\n",
    "y_test = np.asarray(X_test['label'])"
   ]
  },
  {
   "cell_type": "code",
   "execution_count": 24,
   "metadata": {},
   "outputs": [],
   "source": [
    "X_test = X_test.drop(['gene_id', 'transcript_id', 'transcript_position','label', 'order'], axis=1)"
   ]
  },
  {
   "cell_type": "code",
   "execution_count": 25,
   "metadata": {},
   "outputs": [],
   "source": [
    "base_train = X_train.drop(['gene_id', 'transcript_id', 'transcript_position','label', 'order'], axis=1)\n",
    "base_y_train = y_train"
   ]
  },
  {
   "cell_type": "markdown",
   "metadata": {},
   "source": [
    "### Let us first get the results of the base training without any hypertuning and feature engineering. "
   ]
  },
  {
   "cell_type": "code",
   "execution_count": 26,
   "metadata": {},
   "outputs": [
    {
     "name": "stderr",
     "output_type": "stream",
     "text": [
      "c:\\Users\\xyber\\anaconda3\\envs\\sanraj1\\lib\\site-packages\\lightgbm\\engine.py:177: UserWarning: Found `max_iter` in params. Will use it instead of argument\n",
      "  _log_warning(f\"Found `{alias}` in params. Will use it instead of argument\")\n"
     ]
    },
    {
     "name": "stdout",
     "output_type": "stream",
     "text": [
      "[LightGBM] [Warning] num_iterations is set=1000, max_iter=1000 will be ignored. Current value: num_iterations=1000\n"
     ]
    },
    {
     "name": "stderr",
     "output_type": "stream",
     "text": [
      "c:\\Users\\xyber\\anaconda3\\envs\\sanraj1\\lib\\site-packages\\sklearn\\linear_model\\_logistic.py:444: ConvergenceWarning: lbfgs failed to converge (status=1):\n",
      "STOP: TOTAL NO. of ITERATIONS REACHED LIMIT.\n",
      "\n",
      "Increase the number of iterations (max_iter) or scale the data as shown in:\n",
      "    https://scikit-learn.org/stable/modules/preprocessing.html\n",
      "Please also refer to the documentation for alternative solver options:\n",
      "    https://scikit-learn.org/stable/modules/linear_model.html#logistic-regression\n",
      "  n_iter_i = _check_optimize_result(\n"
     ]
    },
    {
     "data": {
      "text/html": [
       "<style>#sk-container-id-1 {color: black;background-color: white;}#sk-container-id-1 pre{padding: 0;}#sk-container-id-1 div.sk-toggleable {background-color: white;}#sk-container-id-1 label.sk-toggleable__label {cursor: pointer;display: block;width: 100%;margin-bottom: 0;padding: 0.3em;box-sizing: border-box;text-align: center;}#sk-container-id-1 label.sk-toggleable__label-arrow:before {content: \"▸\";float: left;margin-right: 0.25em;color: #696969;}#sk-container-id-1 label.sk-toggleable__label-arrow:hover:before {color: black;}#sk-container-id-1 div.sk-estimator:hover label.sk-toggleable__label-arrow:before {color: black;}#sk-container-id-1 div.sk-toggleable__content {max-height: 0;max-width: 0;overflow: hidden;text-align: left;background-color: #f0f8ff;}#sk-container-id-1 div.sk-toggleable__content pre {margin: 0.2em;color: black;border-radius: 0.25em;background-color: #f0f8ff;}#sk-container-id-1 input.sk-toggleable__control:checked~div.sk-toggleable__content {max-height: 200px;max-width: 100%;overflow: auto;}#sk-container-id-1 input.sk-toggleable__control:checked~label.sk-toggleable__label-arrow:before {content: \"▾\";}#sk-container-id-1 div.sk-estimator input.sk-toggleable__control:checked~label.sk-toggleable__label {background-color: #d4ebff;}#sk-container-id-1 div.sk-label input.sk-toggleable__control:checked~label.sk-toggleable__label {background-color: #d4ebff;}#sk-container-id-1 input.sk-hidden--visually {border: 0;clip: rect(1px 1px 1px 1px);clip: rect(1px, 1px, 1px, 1px);height: 1px;margin: -1px;overflow: hidden;padding: 0;position: absolute;width: 1px;}#sk-container-id-1 div.sk-estimator {font-family: monospace;background-color: #f0f8ff;border: 1px dotted black;border-radius: 0.25em;box-sizing: border-box;margin-bottom: 0.5em;}#sk-container-id-1 div.sk-estimator:hover {background-color: #d4ebff;}#sk-container-id-1 div.sk-parallel-item::after {content: \"\";width: 100%;border-bottom: 1px solid gray;flex-grow: 1;}#sk-container-id-1 div.sk-label:hover label.sk-toggleable__label {background-color: #d4ebff;}#sk-container-id-1 div.sk-serial::before {content: \"\";position: absolute;border-left: 1px solid gray;box-sizing: border-box;top: 0;bottom: 0;left: 50%;z-index: 0;}#sk-container-id-1 div.sk-serial {display: flex;flex-direction: column;align-items: center;background-color: white;padding-right: 0.2em;padding-left: 0.2em;position: relative;}#sk-container-id-1 div.sk-item {position: relative;z-index: 1;}#sk-container-id-1 div.sk-parallel {display: flex;align-items: stretch;justify-content: center;background-color: white;position: relative;}#sk-container-id-1 div.sk-item::before, #sk-container-id-1 div.sk-parallel-item::before {content: \"\";position: absolute;border-left: 1px solid gray;box-sizing: border-box;top: 0;bottom: 0;left: 50%;z-index: -1;}#sk-container-id-1 div.sk-parallel-item {display: flex;flex-direction: column;z-index: 1;position: relative;background-color: white;}#sk-container-id-1 div.sk-parallel-item:first-child::after {align-self: flex-end;width: 50%;}#sk-container-id-1 div.sk-parallel-item:last-child::after {align-self: flex-start;width: 50%;}#sk-container-id-1 div.sk-parallel-item:only-child::after {width: 0;}#sk-container-id-1 div.sk-dashed-wrapped {border: 1px dashed gray;margin: 0 0.4em 0.5em 0.4em;box-sizing: border-box;padding-bottom: 0.4em;background-color: white;}#sk-container-id-1 div.sk-label label {font-family: monospace;font-weight: bold;display: inline-block;line-height: 1.2em;}#sk-container-id-1 div.sk-label-container {text-align: center;}#sk-container-id-1 div.sk-container {/* jupyter's `normalize.less` sets `[hidden] { display: none; }` but bootstrap.min.css set `[hidden] { display: none !important; }` so we also need the `!important` here to be able to override the default hidden behavior on the sphinx rendered scikit-learn.org. See: https://github.com/scikit-learn/scikit-learn/issues/21755 */display: inline-block !important;position: relative;}#sk-container-id-1 div.sk-text-repr-fallback {display: none;}</style><div id=\"sk-container-id-1\" class=\"sk-top-container\"><div class=\"sk-text-repr-fallback\"><pre>LogisticRegression()</pre><b>In a Jupyter environment, please rerun this cell to show the HTML representation or trust the notebook. <br />On GitHub, the HTML representation is unable to render, please try loading this page with nbviewer.org.</b></div><div class=\"sk-container\" hidden><div class=\"sk-item\"><div class=\"sk-estimator sk-toggleable\"><input class=\"sk-toggleable__control sk-hidden--visually\" id=\"sk-estimator-id-1\" type=\"checkbox\" checked><label for=\"sk-estimator-id-1\" class=\"sk-toggleable__label sk-toggleable__label-arrow\">LogisticRegression</label><div class=\"sk-toggleable__content\"><pre>LogisticRegression()</pre></div></div></div></div></div>"
      ],
      "text/plain": [
       "LogisticRegression()"
      ]
     },
     "execution_count": 26,
     "metadata": {},
     "output_type": "execute_result"
    }
   ],
   "source": [
    "scaler= MinMaxScaler()\n",
    "scaled_base_train = scaler.fit_transform(base_train)\n",
    "scaled_X_test = scaler.transform(X_test)\n",
    "\n",
    "# instantiate the classifier \n",
    "xgb_clf = XGBClassifier()\n",
    "rf_clf = RandomForestClassifier()\n",
    "lgbm_clf = LGBMClassifier(max_iter=1000)\n",
    "dt_clf = DecisionTreeClassifier()\n",
    "lr_clf = LogisticRegression()\n",
    "\n",
    "\n",
    "# fit the classifier to the training data\n",
    "xgb_clf.fit(scaled_base_train, base_y_train)\n",
    "rf_clf.fit(scaled_base_train, base_y_train)\n",
    "lgbm_clf.fit(scaled_base_train, base_y_train)\n",
    "dt_clf.fit(scaled_base_train, base_y_train)\n",
    "lr_clf.fit(scaled_base_train, base_y_train)"
   ]
  },
  {
   "cell_type": "code",
   "execution_count": 27,
   "metadata": {},
   "outputs": [],
   "source": [
    "# Get the predicited probability of testing data\n",
    "xgb_y_score = xgb_clf.predict_proba(scaled_X_test)[:, 1]\n",
    "rf_y_score = rf_clf.predict_proba(scaled_X_test)[:, 1]\n",
    "lgbm_y_score = lgbm_clf.predict_proba(scaled_X_test)[:, 1]\n",
    "dt_y_score = dt_clf.predict_proba(scaled_X_test)[:, 1]\n",
    "lr_y_score = lr_clf.predict_proba(scaled_X_test)[:, 1]"
   ]
  },
  {
   "cell_type": "code",
   "execution_count": 28,
   "metadata": {},
   "outputs": [],
   "source": [
    "xgb_y_pred = xgb_clf.predict(scaled_X_test)\n",
    "rf_y_pred = rf_clf.predict(scaled_X_test)\n",
    "lgbm_y_pred = lgbm_clf.predict(scaled_X_test)\n",
    "dt_y_pred = dt_clf.predict(scaled_X_test)\n",
    "lr_y_pred = lr_clf.predict(scaled_X_test)"
   ]
  },
  {
   "cell_type": "markdown",
   "metadata": {},
   "source": [
    "Base XGB"
   ]
  },
  {
   "cell_type": "code",
   "execution_count": 29,
   "metadata": {},
   "outputs": [
    {
     "name": "stdout",
     "output_type": "stream",
     "text": [
      "Base line xgb Precision Score: 0.6189516129032258\n",
      "Base line xgb Recall Score: 0.3057768924302789\n",
      "Base line xgb AUCROC Score: 0.8841748239382541\n",
      "Base line xgb PR AUC: 0.42487792765900534\n"
     ]
    }
   ],
   "source": [
    "print(f\"Base line xgb Precision Score: {precision_score(y_test, xgb_y_pred)}\")\n",
    "print(f\"Base line xgb Recall Score: {recall_score(y_test, xgb_y_pred)}\")\n",
    "print(f\"Base line xgb AUCROC Score: {roc_auc_score(y_test, xgb_y_score)}\")\n",
    "print(f\"Base line xgb PR AUC: {average_precision_score(y_test, xgb_y_score)}\")"
   ]
  },
  {
   "cell_type": "markdown",
   "metadata": {},
   "source": [
    "Below code is to plot the PR AUC Curve."
   ]
  },
  {
   "cell_type": "code",
   "execution_count": null,
   "metadata": {},
   "outputs": [],
   "source": [
    "# # Data to plot precision - recall curve\n",
    "# precision, recall, thresholds = precision_recall_curve(y_test, xgb_y_score)\n",
    "# # Use AUC function to calculate the area under the curve of precision recall curve\n",
    "# auc_precision_recall = auc(recall, precision)\n",
    "# print(auc_precision_recall)\n",
    "# plt.plot(recall, precision)\n",
    "# plt.show()"
   ]
  },
  {
   "cell_type": "markdown",
   "metadata": {},
   "source": [
    "Base Rf"
   ]
  },
  {
   "cell_type": "code",
   "execution_count": 30,
   "metadata": {},
   "outputs": [
    {
     "name": "stdout",
     "output_type": "stream",
     "text": [
      "Base line rf Precision Score: 0.7048192771084337\n",
      "Base line rf Recall Score: 0.23306772908366533\n",
      "Base line rf AUCROC Score: 0.8766290121863037\n",
      "Base line rf PR AUC: 0.42080090181445684\n"
     ]
    }
   ],
   "source": [
    "print(f\"Base line rf Precision Score: {precision_score(y_test, rf_y_pred)}\")\n",
    "print(f\"Base line rf Recall Score: {recall_score(y_test, rf_y_pred)}\")\n",
    "print(f\"Base line rf AUCROC Score: {roc_auc_score(y_test, rf_y_score)}\")\n",
    "print(f\"Base line rf PR AUC: {average_precision_score(y_test, rf_y_score)}\")"
   ]
  },
  {
   "cell_type": "markdown",
   "metadata": {},
   "source": [
    "Base LGBM"
   ]
  },
  {
   "cell_type": "code",
   "execution_count": 31,
   "metadata": {},
   "outputs": [
    {
     "name": "stdout",
     "output_type": "stream",
     "text": [
      "Base line lgbm Precision Score: 0.6129707112970711\n",
      "Base line lgbm Recall Score: 0.2918326693227092\n",
      "Base line lgbm AUCROC Score: 0.8767996569670473\n",
      "Base line lgbm PR AUC: 0.4125025104002921\n"
     ]
    }
   ],
   "source": [
    "print(f\"Base line lgbm Precision Score: {precision_score(y_test, lgbm_y_pred)}\")\n",
    "print(f\"Base line lgbm Recall Score: {recall_score(y_test, lgbm_y_pred)}\")\n",
    "print(f\"Base line lgbm AUCROC Score: {roc_auc_score(y_test, lgbm_y_score)}\")\n",
    "print(f\"Base line lgbm PR AUC: {average_precision_score(y_test, lgbm_y_score)}\")"
   ]
  },
  {
   "cell_type": "markdown",
   "metadata": {},
   "source": [
    "Base LR"
   ]
  },
  {
   "cell_type": "code",
   "execution_count": 32,
   "metadata": {},
   "outputs": [
    {
     "name": "stdout",
     "output_type": "stream",
     "text": [
      "Base line lr Precision Score: 0.6601307189542484\n",
      "Base line lr Recall Score: 0.20119521912350596\n",
      "Base line lr AUCROC Score: 0.8570013341092808\n",
      "Base line lr PR AUC: 0.36275826366711306\n"
     ]
    }
   ],
   "source": [
    "print(f\"Base line lr Precision Score: {precision_score(y_test, lr_y_pred)}\")\n",
    "print(f\"Base line lr Recall Score: {recall_score(y_test, lr_y_pred)}\")\n",
    "print(f\"Base line lr AUCROC Score: {roc_auc_score(y_test, lr_y_score)}\")\n",
    "print(f\"Base line lr PR AUC: {average_precision_score(y_test, lr_y_score)}\")"
   ]
  },
  {
   "cell_type": "markdown",
   "metadata": {},
   "source": [
    "#### Manual Cross Validation"
   ]
  },
  {
   "cell_type": "code",
   "execution_count": 35,
   "metadata": {},
   "outputs": [],
   "source": [
    "num_genes = len(train_genes)\n",
    "validation_set_size = int(.2 * num_genes)\n",
    "train_indices = np.array([i for i in range(num_genes)])"
   ]
  },
  {
   "cell_type": "code",
   "execution_count": 36,
   "metadata": {},
   "outputs": [],
   "source": [
    "import random\n",
    "random.seed(10)\n",
    "\n",
    "s = list(range(num_genes))\n",
    "random.shuffle(s)\n",
    "\n",
    "set1 = s[-validation_set_size:]\n",
    "del s[-validation_set_size:]\n",
    "\n",
    "set2 = s[-validation_set_size:]\n",
    "del s[-validation_set_size:]\n",
    "\n",
    "set3 = s[-validation_set_size:]\n",
    "del s[-validation_set_size:]\n",
    "\n",
    "set4 = s[-validation_set_size:]\n",
    "del s[-validation_set_size:]\n",
    "\n",
    "set5 = s"
   ]
  },
  {
   "cell_type": "code",
   "execution_count": 37,
   "metadata": {},
   "outputs": [],
   "source": [
    "genes_s1 = [train_genes[i] for i in set1]\n",
    "genes_s2 = [train_genes[i] for i in set2]\n",
    "genes_s3 = [train_genes[i] for i in set3]\n",
    "genes_s4 = [train_genes[i] for i in set4]\n",
    "genes_s5 = [train_genes[i] for i in set5]"
   ]
  },
  {
   "cell_type": "code",
   "execution_count": 38,
   "metadata": {},
   "outputs": [],
   "source": [
    "s1_train = X_train[X_train['gene_id'].isin(genes_s1)]\n",
    "s2_train = X_train[X_train['gene_id'].isin(genes_s2)]\n",
    "s3_train = X_train[X_train['gene_id'].isin(genes_s3)]\n",
    "s4_train = X_train[X_train['gene_id'].isin(genes_s4)]\n",
    "s5_train = X_train[X_train['gene_id'].isin(genes_s5)]"
   ]
  },
  {
   "cell_type": "code",
   "execution_count": 39,
   "metadata": {},
   "outputs": [],
   "source": [
    "s1_train = s1_train.drop(['gene_id', 'transcript_id', 'transcript_position', 'order'], axis=1)\n",
    "s2_train = s2_train.drop(['gene_id', 'transcript_id', 'transcript_position', 'order'], axis=1)\n",
    "s3_train = s3_train.drop(['gene_id', 'transcript_id', 'transcript_position', 'order'], axis=1)\n",
    "s4_train = s4_train.drop(['gene_id', 'transcript_id', 'transcript_position', 'order'], axis=1)\n",
    "s5_train = s5_train.drop(['gene_id', 'transcript_id', 'transcript_position', 'order'], axis=1)"
   ]
  },
  {
   "cell_type": "code",
   "execution_count": 40,
   "metadata": {},
   "outputs": [],
   "source": [
    "sets = [s1_train, s2_train, s3_train, s4_train, s5_train]"
   ]
  },
  {
   "cell_type": "code",
   "execution_count": 41,
   "metadata": {},
   "outputs": [
    {
     "name": "stdout",
     "output_type": "stream",
     "text": [
      "21.661555312157724\n",
      "20.399332591768633\n",
      "21.12316384180791\n",
      "20.554176072234764\n",
      "19.53490990990991\n"
     ]
    }
   ],
   "source": [
    "for datas in sets:\n",
    "    print(datas.label.value_counts()[0]/datas.label.value_counts()[1])"
   ]
  },
  {
   "cell_type": "code",
   "execution_count": 72,
   "metadata": {},
   "outputs": [],
   "source": [
    "def cross_val(model, data):\n",
    "    precision = 0\n",
    "    recall = 0\n",
    "    aucroc = 0\n",
    "    prauc = 0\n",
    "\n",
    "    for i in range(5):\n",
    "        val = data[i]\n",
    "        y_val = np.asarray(val['label'])\n",
    "        X_val = val.drop(['label'], axis=1)\n",
    "\n",
    "        train = pd.concat(data[:i] + data[i+1:], axis=0)\n",
    "        y_train = np.asarray(train['label'])\n",
    "        X_train = train.drop(['label'], axis=1)\n",
    "\n",
    "        scaler = MinMaxScaler()\n",
    "        X_train_scaled = scaler.fit_transform(X_train)\n",
    "        X_val_scaled = scaler.transform(X_val)\n",
    "        # define the sampling method\n",
    "        # undersample = NearMiss(version=1, n_neighbors=3)\n",
    "        oversample = RandomOverSampler(sampling_strategy='minority')\n",
    "        X_over, y_over = oversample.fit_resample(X_train_scaled, y_train)\n",
    "\n",
    "        model.fit(X_over, y_over)\n",
    "        y_score = model.predict_proba(X_val_scaled)[:, 1]\n",
    "        y_pred = model.predict(X_val_scaled)\n",
    "\n",
    "        precision += precision_score(y_val, y_pred)\n",
    "        recall += recall_score(y_val, y_pred)\n",
    "        aucroc += roc_auc_score(y_val, y_score)\n",
    "        prauc += average_precision_score(y_val, y_score)\n",
    "    \n",
    "    precision /= 5\n",
    "    recall /= 5\n",
    "    aucroc /= 5\n",
    "    prauc /= 5\n",
    "\n",
    "    results = {'precision': precision, 'recall': recall, 'aucroc': aucroc, 'prauc': prauc}\n",
    "    return results"
   ]
  },
  {
   "cell_type": "code",
   "execution_count": 73,
   "metadata": {},
   "outputs": [
    {
     "data": {
      "text/plain": [
       "{'precision': 0.6416747926789121,\n",
       " 'recall': 0.2777398288205689,\n",
       " 'aucroc': 0.8794713821472389,\n",
       " 'prauc': 0.4190229279902578}"
      ]
     },
     "execution_count": 73,
     "metadata": {},
     "output_type": "execute_result"
    }
   ],
   "source": [
    "clf = RandomForestClassifier()\n",
    "cross_val(clf, sets)"
   ]
  },
  {
   "cell_type": "code",
   "execution_count": 48,
   "metadata": {},
   "outputs": [
    {
     "data": {
      "text/plain": [
       "{'precision': 0.6746713137012995,\n",
       " 'recall': 0.17366989767573182,\n",
       " 'aucroc': 0.8744141564322969,\n",
       " 'prauc': 0.4128073781887558}"
      ]
     },
     "execution_count": 48,
     "metadata": {},
     "output_type": "execute_result"
    }
   ],
   "source": [
    "clf2 = RandomForestClassifier(class_weight='balanced')\n",
    "cross_val(clf2, sets)"
   ]
  },
  {
   "cell_type": "code",
   "execution_count": 49,
   "metadata": {},
   "outputs": [
    {
     "data": {
      "text/plain": [
       "{'precision': 0.6749428429269942,\n",
       " 'recall': 0.16986103698495417,\n",
       " 'aucroc': 0.875296891749111,\n",
       " 'prauc': 0.4127674821090298}"
      ]
     },
     "execution_count": 49,
     "metadata": {},
     "output_type": "execute_result"
    }
   ],
   "source": [
    "clf3 = RandomForestClassifier(class_weight='balanced_subsample')\n",
    "cross_val(clf3, sets)"
   ]
  },
  {
   "cell_type": "code",
   "execution_count": 59,
   "metadata": {},
   "outputs": [],
   "source": [
    "n_estimators = np.linspace(10, 1000, 10)\n",
    "criterion = ['gini', 'entropy', 'log_loss']\n",
    "max_depth = np.arange(0, 20, 4)\n",
    "max_features = ['sqrt', 'log2']\n",
    "min_samples_split = np.linspace(2, 20, 10)\n"
   ]
  },
  {
   "cell_type": "code",
   "execution_count": 74,
   "metadata": {},
   "outputs": [
    {
     "ename": "KeyboardInterrupt",
     "evalue": "",
     "output_type": "error",
     "traceback": [
      "\u001b[1;31m---------------------------------------------------------------------------\u001b[0m",
      "\u001b[1;31mKeyboardInterrupt\u001b[0m                         Traceback (most recent call last)",
      "\u001b[1;32mc:\\Users\\xyber\\OneDrive - National University of Singapore\\NUS y4s1\\dsa\\proj2\\v5.ipynb Cell 59\u001b[0m in \u001b[0;36m<cell line: 3>\u001b[1;34m()\u001b[0m\n\u001b[0;32m      <a href='vscode-notebook-cell:/c%3A/Users/xyber/OneDrive%20-%20National%20University%20of%20Singapore/NUS%20y4s1/dsa/proj2/v5.ipynb#Y123sZmlsZQ%3D%3D?line=2'>3</a>\u001b[0m \u001b[39mfor\u001b[39;00m val \u001b[39min\u001b[39;00m n_estimators:\n\u001b[0;32m      <a href='vscode-notebook-cell:/c%3A/Users/xyber/OneDrive%20-%20National%20University%20of%20Singapore/NUS%20y4s1/dsa/proj2/v5.ipynb#Y123sZmlsZQ%3D%3D?line=3'>4</a>\u001b[0m     model \u001b[39m=\u001b[39m RandomForestClassifier(n_estimators\u001b[39m=\u001b[39m\u001b[39mint\u001b[39m(val), class_weight\u001b[39m=\u001b[39m\u001b[39m'\u001b[39m\u001b[39mbalanced_subsample\u001b[39m\u001b[39m'\u001b[39m, n_jobs\u001b[39m=\u001b[39m\u001b[39m-\u001b[39m\u001b[39m1\u001b[39m)\n\u001b[1;32m----> <a href='vscode-notebook-cell:/c%3A/Users/xyber/OneDrive%20-%20National%20University%20of%20Singapore/NUS%20y4s1/dsa/proj2/v5.ipynb#Y123sZmlsZQ%3D%3D?line=4'>5</a>\u001b[0m     res \u001b[39m=\u001b[39m cross_val(model, sets)\n\u001b[0;32m      <a href='vscode-notebook-cell:/c%3A/Users/xyber/OneDrive%20-%20National%20University%20of%20Singapore/NUS%20y4s1/dsa/proj2/v5.ipynb#Y123sZmlsZQ%3D%3D?line=5'>6</a>\u001b[0m     prec \u001b[39m=\u001b[39m res[\u001b[39m'\u001b[39m\u001b[39mprecision\u001b[39m\u001b[39m'\u001b[39m]\n\u001b[0;32m      <a href='vscode-notebook-cell:/c%3A/Users/xyber/OneDrive%20-%20National%20University%20of%20Singapore/NUS%20y4s1/dsa/proj2/v5.ipynb#Y123sZmlsZQ%3D%3D?line=6'>7</a>\u001b[0m     rec \u001b[39m=\u001b[39m res[\u001b[39m'\u001b[39m\u001b[39mrecall\u001b[39m\u001b[39m'\u001b[39m]\n",
      "\u001b[1;32mc:\\Users\\xyber\\OneDrive - National University of Singapore\\NUS y4s1\\dsa\\proj2\\v5.ipynb Cell 59\u001b[0m in \u001b[0;36mcross_val\u001b[1;34m(model, data)\u001b[0m\n\u001b[0;32m     <a href='vscode-notebook-cell:/c%3A/Users/xyber/OneDrive%20-%20National%20University%20of%20Singapore/NUS%20y4s1/dsa/proj2/v5.ipynb#Y123sZmlsZQ%3D%3D?line=20'>21</a>\u001b[0m oversample \u001b[39m=\u001b[39m RandomOverSampler(sampling_strategy\u001b[39m=\u001b[39m\u001b[39m'\u001b[39m\u001b[39mminority\u001b[39m\u001b[39m'\u001b[39m)\n\u001b[0;32m     <a href='vscode-notebook-cell:/c%3A/Users/xyber/OneDrive%20-%20National%20University%20of%20Singapore/NUS%20y4s1/dsa/proj2/v5.ipynb#Y123sZmlsZQ%3D%3D?line=21'>22</a>\u001b[0m X_over, y_over \u001b[39m=\u001b[39m oversample\u001b[39m.\u001b[39mfit_resample(X_train_scaled, y_train)\n\u001b[1;32m---> <a href='vscode-notebook-cell:/c%3A/Users/xyber/OneDrive%20-%20National%20University%20of%20Singapore/NUS%20y4s1/dsa/proj2/v5.ipynb#Y123sZmlsZQ%3D%3D?line=23'>24</a>\u001b[0m model\u001b[39m.\u001b[39;49mfit(X_over, y_over)\n\u001b[0;32m     <a href='vscode-notebook-cell:/c%3A/Users/xyber/OneDrive%20-%20National%20University%20of%20Singapore/NUS%20y4s1/dsa/proj2/v5.ipynb#Y123sZmlsZQ%3D%3D?line=24'>25</a>\u001b[0m y_score \u001b[39m=\u001b[39m model\u001b[39m.\u001b[39mpredict_proba(X_val_scaled)[:, \u001b[39m1\u001b[39m]\n\u001b[0;32m     <a href='vscode-notebook-cell:/c%3A/Users/xyber/OneDrive%20-%20National%20University%20of%20Singapore/NUS%20y4s1/dsa/proj2/v5.ipynb#Y123sZmlsZQ%3D%3D?line=25'>26</a>\u001b[0m y_pred \u001b[39m=\u001b[39m model\u001b[39m.\u001b[39mpredict(X_val_scaled)\n",
      "File \u001b[1;32mc:\\Users\\xyber\\anaconda3\\envs\\sanraj1\\lib\\site-packages\\sklearn\\ensemble\\_forest.py:476\u001b[0m, in \u001b[0;36mBaseForest.fit\u001b[1;34m(self, X, y, sample_weight)\u001b[0m\n\u001b[0;32m    465\u001b[0m trees \u001b[39m=\u001b[39m [\n\u001b[0;32m    466\u001b[0m     \u001b[39mself\u001b[39m\u001b[39m.\u001b[39m_make_estimator(append\u001b[39m=\u001b[39m\u001b[39mFalse\u001b[39;00m, random_state\u001b[39m=\u001b[39mrandom_state)\n\u001b[0;32m    467\u001b[0m     \u001b[39mfor\u001b[39;00m i \u001b[39min\u001b[39;00m \u001b[39mrange\u001b[39m(n_more_estimators)\n\u001b[0;32m    468\u001b[0m ]\n\u001b[0;32m    470\u001b[0m \u001b[39m# Parallel loop: we prefer the threading backend as the Cython code\u001b[39;00m\n\u001b[0;32m    471\u001b[0m \u001b[39m# for fitting the trees is internally releasing the Python GIL\u001b[39;00m\n\u001b[0;32m    472\u001b[0m \u001b[39m# making threading more efficient than multiprocessing in\u001b[39;00m\n\u001b[0;32m    473\u001b[0m \u001b[39m# that case. However, for joblib 0.12+ we respect any\u001b[39;00m\n\u001b[0;32m    474\u001b[0m \u001b[39m# parallel_backend contexts set at a higher level,\u001b[39;00m\n\u001b[0;32m    475\u001b[0m \u001b[39m# since correctness does not rely on using threads.\u001b[39;00m\n\u001b[1;32m--> 476\u001b[0m trees \u001b[39m=\u001b[39m Parallel(\n\u001b[0;32m    477\u001b[0m     n_jobs\u001b[39m=\u001b[39;49m\u001b[39mself\u001b[39;49m\u001b[39m.\u001b[39;49mn_jobs,\n\u001b[0;32m    478\u001b[0m     verbose\u001b[39m=\u001b[39;49m\u001b[39mself\u001b[39;49m\u001b[39m.\u001b[39;49mverbose,\n\u001b[0;32m    479\u001b[0m     prefer\u001b[39m=\u001b[39;49m\u001b[39m\"\u001b[39;49m\u001b[39mthreads\u001b[39;49m\u001b[39m\"\u001b[39;49m,\n\u001b[0;32m    480\u001b[0m )(\n\u001b[0;32m    481\u001b[0m     delayed(_parallel_build_trees)(\n\u001b[0;32m    482\u001b[0m         t,\n\u001b[0;32m    483\u001b[0m         \u001b[39mself\u001b[39;49m\u001b[39m.\u001b[39;49mbootstrap,\n\u001b[0;32m    484\u001b[0m         X,\n\u001b[0;32m    485\u001b[0m         y,\n\u001b[0;32m    486\u001b[0m         sample_weight,\n\u001b[0;32m    487\u001b[0m         i,\n\u001b[0;32m    488\u001b[0m         \u001b[39mlen\u001b[39;49m(trees),\n\u001b[0;32m    489\u001b[0m         verbose\u001b[39m=\u001b[39;49m\u001b[39mself\u001b[39;49m\u001b[39m.\u001b[39;49mverbose,\n\u001b[0;32m    490\u001b[0m         class_weight\u001b[39m=\u001b[39;49m\u001b[39mself\u001b[39;49m\u001b[39m.\u001b[39;49mclass_weight,\n\u001b[0;32m    491\u001b[0m         n_samples_bootstrap\u001b[39m=\u001b[39;49mn_samples_bootstrap,\n\u001b[0;32m    492\u001b[0m     )\n\u001b[0;32m    493\u001b[0m     \u001b[39mfor\u001b[39;49;00m i, t \u001b[39min\u001b[39;49;00m \u001b[39menumerate\u001b[39;49m(trees)\n\u001b[0;32m    494\u001b[0m )\n\u001b[0;32m    496\u001b[0m \u001b[39m# Collect newly grown trees\u001b[39;00m\n\u001b[0;32m    497\u001b[0m \u001b[39mself\u001b[39m\u001b[39m.\u001b[39mestimators_\u001b[39m.\u001b[39mextend(trees)\n",
      "File \u001b[1;32mc:\\Users\\xyber\\anaconda3\\envs\\sanraj1\\lib\\site-packages\\joblib\\parallel.py:1056\u001b[0m, in \u001b[0;36mParallel.__call__\u001b[1;34m(self, iterable)\u001b[0m\n\u001b[0;32m   1053\u001b[0m     \u001b[39mself\u001b[39m\u001b[39m.\u001b[39m_iterating \u001b[39m=\u001b[39m \u001b[39mFalse\u001b[39;00m\n\u001b[0;32m   1055\u001b[0m \u001b[39mwith\u001b[39;00m \u001b[39mself\u001b[39m\u001b[39m.\u001b[39m_backend\u001b[39m.\u001b[39mretrieval_context():\n\u001b[1;32m-> 1056\u001b[0m     \u001b[39mself\u001b[39;49m\u001b[39m.\u001b[39;49mretrieve()\n\u001b[0;32m   1057\u001b[0m \u001b[39m# Make sure that we get a last message telling us we are done\u001b[39;00m\n\u001b[0;32m   1058\u001b[0m elapsed_time \u001b[39m=\u001b[39m time\u001b[39m.\u001b[39mtime() \u001b[39m-\u001b[39m \u001b[39mself\u001b[39m\u001b[39m.\u001b[39m_start_time\n",
      "File \u001b[1;32mc:\\Users\\xyber\\anaconda3\\envs\\sanraj1\\lib\\site-packages\\joblib\\parallel.py:935\u001b[0m, in \u001b[0;36mParallel.retrieve\u001b[1;34m(self)\u001b[0m\n\u001b[0;32m    933\u001b[0m \u001b[39mtry\u001b[39;00m:\n\u001b[0;32m    934\u001b[0m     \u001b[39mif\u001b[39;00m \u001b[39mgetattr\u001b[39m(\u001b[39mself\u001b[39m\u001b[39m.\u001b[39m_backend, \u001b[39m'\u001b[39m\u001b[39msupports_timeout\u001b[39m\u001b[39m'\u001b[39m, \u001b[39mFalse\u001b[39;00m):\n\u001b[1;32m--> 935\u001b[0m         \u001b[39mself\u001b[39m\u001b[39m.\u001b[39m_output\u001b[39m.\u001b[39mextend(job\u001b[39m.\u001b[39;49mget(timeout\u001b[39m=\u001b[39;49m\u001b[39mself\u001b[39;49m\u001b[39m.\u001b[39;49mtimeout))\n\u001b[0;32m    936\u001b[0m     \u001b[39melse\u001b[39;00m:\n\u001b[0;32m    937\u001b[0m         \u001b[39mself\u001b[39m\u001b[39m.\u001b[39m_output\u001b[39m.\u001b[39mextend(job\u001b[39m.\u001b[39mget())\n",
      "File \u001b[1;32mc:\\Users\\xyber\\anaconda3\\envs\\sanraj1\\lib\\multiprocessing\\pool.py:765\u001b[0m, in \u001b[0;36mApplyResult.get\u001b[1;34m(self, timeout)\u001b[0m\n\u001b[0;32m    764\u001b[0m \u001b[39mdef\u001b[39;00m \u001b[39mget\u001b[39m(\u001b[39mself\u001b[39m, timeout\u001b[39m=\u001b[39m\u001b[39mNone\u001b[39;00m):\n\u001b[1;32m--> 765\u001b[0m     \u001b[39mself\u001b[39;49m\u001b[39m.\u001b[39;49mwait(timeout)\n\u001b[0;32m    766\u001b[0m     \u001b[39mif\u001b[39;00m \u001b[39mnot\u001b[39;00m \u001b[39mself\u001b[39m\u001b[39m.\u001b[39mready():\n\u001b[0;32m    767\u001b[0m         \u001b[39mraise\u001b[39;00m \u001b[39mTimeoutError\u001b[39;00m\n",
      "File \u001b[1;32mc:\\Users\\xyber\\anaconda3\\envs\\sanraj1\\lib\\multiprocessing\\pool.py:762\u001b[0m, in \u001b[0;36mApplyResult.wait\u001b[1;34m(self, timeout)\u001b[0m\n\u001b[0;32m    761\u001b[0m \u001b[39mdef\u001b[39;00m \u001b[39mwait\u001b[39m(\u001b[39mself\u001b[39m, timeout\u001b[39m=\u001b[39m\u001b[39mNone\u001b[39;00m):\n\u001b[1;32m--> 762\u001b[0m     \u001b[39mself\u001b[39;49m\u001b[39m.\u001b[39;49m_event\u001b[39m.\u001b[39;49mwait(timeout)\n",
      "File \u001b[1;32mc:\\Users\\xyber\\anaconda3\\envs\\sanraj1\\lib\\threading.py:574\u001b[0m, in \u001b[0;36mEvent.wait\u001b[1;34m(self, timeout)\u001b[0m\n\u001b[0;32m    572\u001b[0m signaled \u001b[39m=\u001b[39m \u001b[39mself\u001b[39m\u001b[39m.\u001b[39m_flag\n\u001b[0;32m    573\u001b[0m \u001b[39mif\u001b[39;00m \u001b[39mnot\u001b[39;00m signaled:\n\u001b[1;32m--> 574\u001b[0m     signaled \u001b[39m=\u001b[39m \u001b[39mself\u001b[39;49m\u001b[39m.\u001b[39;49m_cond\u001b[39m.\u001b[39;49mwait(timeout)\n\u001b[0;32m    575\u001b[0m \u001b[39mreturn\u001b[39;00m signaled\n",
      "File \u001b[1;32mc:\\Users\\xyber\\anaconda3\\envs\\sanraj1\\lib\\threading.py:312\u001b[0m, in \u001b[0;36mCondition.wait\u001b[1;34m(self, timeout)\u001b[0m\n\u001b[0;32m    310\u001b[0m \u001b[39mtry\u001b[39;00m:    \u001b[39m# restore state no matter what (e.g., KeyboardInterrupt)\u001b[39;00m\n\u001b[0;32m    311\u001b[0m     \u001b[39mif\u001b[39;00m timeout \u001b[39mis\u001b[39;00m \u001b[39mNone\u001b[39;00m:\n\u001b[1;32m--> 312\u001b[0m         waiter\u001b[39m.\u001b[39;49macquire()\n\u001b[0;32m    313\u001b[0m         gotit \u001b[39m=\u001b[39m \u001b[39mTrue\u001b[39;00m\n\u001b[0;32m    314\u001b[0m     \u001b[39melse\u001b[39;00m:\n",
      "\u001b[1;31mKeyboardInterrupt\u001b[0m: "
     ]
    }
   ],
   "source": [
    "nest_precision = []\n",
    "nest_recall = []\n",
    "for val in n_estimators:\n",
    "    model = RandomForestClassifier(n_estimators=int(val), class_weight='balanced_subsample', n_jobs=-1)\n",
    "    res = cross_val(model, sets)\n",
    "    prec = res['precision']\n",
    "    rec = res['recall']\n",
    "    nest_precision.append(prec)\n",
    "    nest_recall.append(rec)    "
   ]
  },
  {
   "cell_type": "code",
   "execution_count": null,
   "metadata": {},
   "outputs": [
    {
     "data": {
      "text/plain": [
       "[<matplotlib.lines.Line2D at 0x21303eb6f40>]"
      ]
     },
     "execution_count": 66,
     "metadata": {},
     "output_type": "execute_result"
    },
    {
     "data": {
      "image/png": "[encoded data removed]",
      "text/plain": [
       "<Figure size 720x720 with 1 Axes>"
      ]
     },
     "metadata": {},
     "output_type": "display_data"
    }
   ],
   "source": [
    "plt.figure(figsize=(10, 10))\n",
    "plt.plot(n_estimators,nest_precision, c='blue')\n",
    "plt.plot(n_estimators,nest_recall, c='green')\n"
   ]
  },
  {
   "cell_type": "code",
   "execution_count": null,
   "metadata": {},
   "outputs": [],
   "source": []
  }
 ],
 "metadata": {
  "kernelspec": {
   "display_name": "Python 3.9.12 ('sanraj1')",
   "language": "python",
   "name": "python3"
  },
  "language_info": {
   "codemirror_mode": {
    "name": "ipython",
    "version": 3
   },
   "file_extension": ".py",
   "mimetype": "text/x-python",
   "name": "python",
   "nbconvert_exporter": "python",
   "pygments_lexer": "ipython3",
   "version": "3.9.12"
  },
  "orig_nbformat": 4,
  "vscode": {
   "interpreter": {
    "hash": "9a4898174c98566e8fa6054e7c4c91436f184723778503d13d0e26c5c20e834f"
   }
  }
 },
 "nbformat": 4,
 "nbformat_minor": 2
}
